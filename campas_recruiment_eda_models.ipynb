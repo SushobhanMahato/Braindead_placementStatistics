{
 "cells": [
  {
   "cell_type": "markdown",
   "id": "5daa10d2",
   "metadata": {
    "id": "GRK9Gn5LF5He",
    "papermill": {
     "duration": 0.029081,
     "end_time": "2022-10-26T08:41:14.764425",
     "exception": false,
     "start_time": "2022-10-26T08:41:14.735344",
     "status": "completed"
    },
    "tags": []
   },
   "source": [
    "![](https://github.com/GeorgeGalaxy/PhotosFor.../blob/main/LinePurplePink.jpg?raw=true)\n",
    "\n",
    "# <center>Subject Area</center>\n",
    "\n",
    "\n",
    "\n",
    "---\n",
    "\n",
    "\n",
    "### This data set includes various data on students, for example:\n",
    "- Secondary and higher secondary school percentage and specialization\n",
    "- Degree specialization\n",
    "- Type and Work experience\n",
    "\n",
    "### and many other parameters that we need to analyze to correctly predict student status"
   ]
  },
  {
   "cell_type": "markdown",
   "id": "901a65f5",
   "metadata": {
    "id": "CJuxh5YxF5Hj",
    "papermill": {
     "duration": 0.027142,
     "end_time": "2022-10-26T08:41:14.820943",
     "exception": false,
     "start_time": "2022-10-26T08:41:14.793801",
     "status": "completed"
    },
    "tags": []
   },
   "source": [
    "# <center>Task Type</center>\n",
    "\n",
    "\n",
    "### After we have defined and analyzed the subject area, it is necessary to understand what type of problem we solve and choose appropriate metrics\n",
    "\n",
    "\n",
    "---\n",
    "\n",
    "\n",
    "### **Task**: Classification (binary)\n",
    "### **Assumed Metrics**: LogLoss, Accuracy, ROC-AUC, Presicion, Recall, F1-Score"
   ]
  },
  {
   "cell_type": "markdown",
   "id": "fe8fa046",
   "metadata": {
    "id": "2PFUisHBF5Hk",
    "papermill": {
     "duration": 0.027269,
     "end_time": "2022-10-26T08:41:14.928558",
     "exception": false,
     "start_time": "2022-10-26T08:41:14.901289",
     "status": "completed"
    },
    "tags": []
   },
   "source": [
    "#### Work with data and analysis"
   ]
  },
  {
   "cell_type": "code",
   "execution_count": 75,
   "id": "de11689b",
   "metadata": {
    "_cell_guid": "b1076dfc-b9ad-4769-8c92-a6c4dae69d19",
    "_uuid": "8f2839f25d086af736a60e9eeb907d3b93b6e0e5",
    "execution": {
     "iopub.execute_input": "2022-10-26T08:41:14.985878Z",
     "iopub.status.busy": "2022-10-26T08:41:14.985336Z",
     "iopub.status.idle": "2022-10-26T08:41:16.330124Z",
     "shell.execute_reply": "2022-10-26T08:41:16.328704Z"
    },
    "id": "IlGmnkhrF5Hl",
    "papermill": {
     "duration": 1.377093,
     "end_time": "2022-10-26T08:41:16.333467",
     "exception": false,
     "start_time": "2022-10-26T08:41:14.956374",
     "status": "completed"
    },
    "tags": []
   },
   "outputs": [],
   "source": [
    "import os\n",
    "import numpy as np\n",
    "import pandas as pd\n",
    "import missingno as msn\n",
    "from scipy import stats\n",
    "from scipy.stats import norm\n",
    "\n",
    "pd.options.mode.chained_assignment = None"
   ]
  },
  {
   "cell_type": "markdown",
   "id": "382d59c7",
   "metadata": {
    "id": "8pckV59vF5Hm",
    "papermill": {
     "duration": 0.026903,
     "end_time": "2022-10-26T08:41:16.387486",
     "exception": false,
     "start_time": "2022-10-26T08:41:16.360583",
     "status": "completed"
    },
    "tags": []
   },
   "source": [
    "#### Visualization"
   ]
  },
  {
   "cell_type": "code",
   "execution_count": 76,
   "id": "7231c4f6",
   "metadata": {
    "execution": {
     "iopub.execute_input": "2022-10-26T08:41:16.446009Z",
     "iopub.status.busy": "2022-10-26T08:41:16.444754Z",
     "iopub.status.idle": "2022-10-26T08:41:16.539733Z",
     "shell.execute_reply": "2022-10-26T08:41:16.538562Z"
    },
    "id": "hZQYLguwF5Hn",
    "outputId": "3c993b16-7c82-411d-b38f-72e7ba99e686",
    "papermill": {
     "duration": 0.128561,
     "end_time": "2022-10-26T08:41:16.542956",
     "exception": false,
     "start_time": "2022-10-26T08:41:16.414395",
     "status": "completed"
    },
    "tags": []
   },
   "outputs": [
    {
     "data": {
      "text/html": [
       "        <script type=\"text/javascript\">\n",
       "        window.PlotlyConfig = {MathJaxConfig: 'local'};\n",
       "        if (window.MathJax && window.MathJax.Hub && window.MathJax.Hub.Config) {window.MathJax.Hub.Config({SVG: {font: \"STIX-Web\"}});}\n",
       "        if (typeof require !== 'undefined') {\n",
       "        require.undef(\"plotly\");\n",
       "        requirejs.config({\n",
       "            paths: {\n",
       "                'plotly': ['https://cdn.plot.ly/plotly-2.12.1.min']\n",
       "            }\n",
       "        });\n",
       "        require(['plotly'], function(Plotly) {\n",
       "            window._Plotly = Plotly;\n",
       "        });\n",
       "        }\n",
       "        </script>\n",
       "        "
      ]
     },
     "metadata": {},
     "output_type": "display_data"
    }
   ],
   "source": [
    "import seaborn as sns\n",
    "from matplotlib import style\n",
    "import matplotlib.pyplot as plt\n",
    "import plotly.graph_objects as go\n",
    "import matplotlib.ticker as mticker\n",
    "from matplotlib.gridspec import GridSpec\n",
    "from plotly.subplots import make_subplots\n",
    "from plotly.offline import init_notebook_mode\n",
    "\n",
    "init_notebook_mode(connected=True)\n",
    "sns.set()\n",
    "style.use('fivethirtyeight')"
   ]
  },
  {
   "cell_type": "markdown",
   "id": "c15844d5",
   "metadata": {
    "id": "xDDZtXtAF5Ho",
    "papermill": {
     "duration": 0.029457,
     "end_time": "2022-10-26T08:41:16.600750",
     "exception": false,
     "start_time": "2022-10-26T08:41:16.571293",
     "status": "completed"
    },
    "tags": []
   },
   "source": [
    "#### Work with ML"
   ]
  },
  {
   "cell_type": "code",
   "execution_count": 77,
   "id": "6cf62fab",
   "metadata": {
    "execution": {
     "iopub.execute_input": "2022-10-26T08:41:16.658695Z",
     "iopub.status.busy": "2022-10-26T08:41:16.658235Z",
     "iopub.status.idle": "2022-10-26T08:41:18.034478Z",
     "shell.execute_reply": "2022-10-26T08:41:18.032872Z"
    },
    "id": "dCoVwaD6F5Ho",
    "papermill": {
     "duration": 1.409282,
     "end_time": "2022-10-26T08:41:18.037334",
     "exception": false,
     "start_time": "2022-10-26T08:41:16.628052",
     "status": "completed"
    },
    "tags": []
   },
   "outputs": [],
   "source": [
    "from sklearn import metrics\n",
    "import statsmodels.api as sm\n",
    "from sklearn import preprocessing\n",
    "from sklearn.linear_model import LogisticRegression\n",
    "from sklearn.model_selection import train_test_split\n",
    "from sklearn.metrics import confusion_matrix, classification_report\n",
    "from sklearn.ensemble import RandomForestClassifier, GradientBoostingClassifier, AdaBoostClassifier"
   ]
  },
  {
   "cell_type": "markdown",
   "id": "3020b145",
   "metadata": {
    "id": "JLkzWJMxt7_1",
    "papermill": {
     "duration": 0.027904,
     "end_time": "2022-10-26T08:41:18.092278",
     "exception": false,
     "start_time": "2022-10-26T08:41:18.064374",
     "status": "completed"
    },
    "tags": []
   },
   "source": [
    "#### Work with DL"
   ]
  },
  {
   "cell_type": "code",
   "execution_count": 78,
   "id": "22f66ed7",
   "metadata": {
    "execution": {
     "iopub.execute_input": "2022-10-26T08:41:18.149104Z",
     "iopub.status.busy": "2022-10-26T08:41:18.148647Z",
     "iopub.status.idle": "2022-10-26T08:41:28.878477Z",
     "shell.execute_reply": "2022-10-26T08:41:28.877052Z"
    },
    "id": "d4C_bqLQt7nO",
    "papermill": {
     "duration": 10.761363,
     "end_time": "2022-10-26T08:41:28.881311",
     "exception": false,
     "start_time": "2022-10-26T08:41:18.119948",
     "status": "completed"
    },
    "tags": []
   },
   "outputs": [],
   "source": [
    "from tensorflow import keras\n",
    "from tensorflow.keras.utils import plot_model\n",
    "from sklearn.preprocessing import StandardScaler"
   ]
  },
  {
   "cell_type": "markdown",
   "id": "d7fc73cd",
   "metadata": {
    "id": "yKUa-CUkF5Hp",
    "papermill": {
     "duration": 0.027041,
     "end_time": "2022-10-26T08:41:28.936399",
     "exception": false,
     "start_time": "2022-10-26T08:41:28.909358",
     "status": "completed"
    },
    "tags": []
   },
   "source": [
    "# Loading and Checking Dataset\n"
   ]
  },
  {
   "cell_type": "code",
   "execution_count": 79,
   "id": "3b9066bc",
   "metadata": {
    "execution": {
     "iopub.execute_input": "2022-10-26T08:41:28.993226Z",
     "iopub.status.busy": "2022-10-26T08:41:28.992512Z",
     "iopub.status.idle": "2022-10-26T08:41:29.014574Z",
     "shell.execute_reply": "2022-10-26T08:41:29.013159Z"
    },
    "id": "dsUFJuTlF5Hp",
    "papermill": {
     "duration": 0.053796,
     "end_time": "2022-10-26T08:41:29.017611",
     "exception": false,
     "start_time": "2022-10-26T08:41:28.963815",
     "status": "completed"
    },
    "tags": []
   },
   "outputs": [],
   "source": [
    "data = pd.read_csv('Placement_Data_Full_Class.csv')"
   ]
  },
  {
   "cell_type": "code",
   "execution_count": 80,
   "id": "d61cfe21",
   "metadata": {
    "execution": {
     "iopub.execute_input": "2022-10-26T08:41:29.075372Z",
     "iopub.status.busy": "2022-10-26T08:41:29.074686Z",
     "iopub.status.idle": "2022-10-26T08:41:29.106623Z",
     "shell.execute_reply": "2022-10-26T08:41:29.105371Z"
    },
    "id": "PIwRGwfPF5Hp",
    "outputId": "3a017e00-b845-4096-fbca-1970a980d928",
    "papermill": {
     "duration": 0.063046,
     "end_time": "2022-10-26T08:41:29.108766",
     "exception": false,
     "start_time": "2022-10-26T08:41:29.045720",
     "status": "completed"
    },
    "tags": []
   },
   "outputs": [
    {
     "data": {
      "text/html": [
       "<div>\n",
       "<style scoped>\n",
       "    .dataframe tbody tr th:only-of-type {\n",
       "        vertical-align: middle;\n",
       "    }\n",
       "\n",
       "    .dataframe tbody tr th {\n",
       "        vertical-align: top;\n",
       "    }\n",
       "\n",
       "    .dataframe thead th {\n",
       "        text-align: right;\n",
       "    }\n",
       "</style>\n",
       "<table border=\"1\" class=\"dataframe\">\n",
       "  <thead>\n",
       "    <tr style=\"text-align: right;\">\n",
       "      <th></th>\n",
       "      <th>sl_no</th>\n",
       "      <th>gender</th>\n",
       "      <th>ssc_p</th>\n",
       "      <th>ssc_b</th>\n",
       "      <th>hsc_p</th>\n",
       "      <th>hsc_b</th>\n",
       "      <th>hsc_s</th>\n",
       "      <th>degree_p</th>\n",
       "      <th>degree_t</th>\n",
       "      <th>workex</th>\n",
       "      <th>etest_p</th>\n",
       "      <th>specialisation</th>\n",
       "      <th>mba_p</th>\n",
       "      <th>status</th>\n",
       "      <th>salary</th>\n",
       "    </tr>\n",
       "  </thead>\n",
       "  <tbody>\n",
       "    <tr>\n",
       "      <th>0</th>\n",
       "      <td>1</td>\n",
       "      <td>M</td>\n",
       "      <td>67.00</td>\n",
       "      <td>Others</td>\n",
       "      <td>91.00</td>\n",
       "      <td>Others</td>\n",
       "      <td>Commerce</td>\n",
       "      <td>58.00</td>\n",
       "      <td>Sci&amp;Tech</td>\n",
       "      <td>No</td>\n",
       "      <td>55.0</td>\n",
       "      <td>Mkt&amp;HR</td>\n",
       "      <td>58.80</td>\n",
       "      <td>Placed</td>\n",
       "      <td>270000.0</td>\n",
       "    </tr>\n",
       "    <tr>\n",
       "      <th>1</th>\n",
       "      <td>2</td>\n",
       "      <td>M</td>\n",
       "      <td>79.33</td>\n",
       "      <td>Central</td>\n",
       "      <td>78.33</td>\n",
       "      <td>Others</td>\n",
       "      <td>Science</td>\n",
       "      <td>77.48</td>\n",
       "      <td>Sci&amp;Tech</td>\n",
       "      <td>Yes</td>\n",
       "      <td>86.5</td>\n",
       "      <td>Mkt&amp;Fin</td>\n",
       "      <td>66.28</td>\n",
       "      <td>Placed</td>\n",
       "      <td>200000.0</td>\n",
       "    </tr>\n",
       "    <tr>\n",
       "      <th>2</th>\n",
       "      <td>3</td>\n",
       "      <td>M</td>\n",
       "      <td>65.00</td>\n",
       "      <td>Central</td>\n",
       "      <td>68.00</td>\n",
       "      <td>Central</td>\n",
       "      <td>Arts</td>\n",
       "      <td>64.00</td>\n",
       "      <td>Comm&amp;Mgmt</td>\n",
       "      <td>No</td>\n",
       "      <td>75.0</td>\n",
       "      <td>Mkt&amp;Fin</td>\n",
       "      <td>57.80</td>\n",
       "      <td>Placed</td>\n",
       "      <td>250000.0</td>\n",
       "    </tr>\n",
       "    <tr>\n",
       "      <th>3</th>\n",
       "      <td>4</td>\n",
       "      <td>M</td>\n",
       "      <td>56.00</td>\n",
       "      <td>Central</td>\n",
       "      <td>52.00</td>\n",
       "      <td>Central</td>\n",
       "      <td>Science</td>\n",
       "      <td>52.00</td>\n",
       "      <td>Sci&amp;Tech</td>\n",
       "      <td>No</td>\n",
       "      <td>66.0</td>\n",
       "      <td>Mkt&amp;HR</td>\n",
       "      <td>59.43</td>\n",
       "      <td>Not Placed</td>\n",
       "      <td>NaN</td>\n",
       "    </tr>\n",
       "    <tr>\n",
       "      <th>4</th>\n",
       "      <td>5</td>\n",
       "      <td>M</td>\n",
       "      <td>85.80</td>\n",
       "      <td>Central</td>\n",
       "      <td>73.60</td>\n",
       "      <td>Central</td>\n",
       "      <td>Commerce</td>\n",
       "      <td>73.30</td>\n",
       "      <td>Comm&amp;Mgmt</td>\n",
       "      <td>No</td>\n",
       "      <td>96.8</td>\n",
       "      <td>Mkt&amp;Fin</td>\n",
       "      <td>55.50</td>\n",
       "      <td>Placed</td>\n",
       "      <td>425000.0</td>\n",
       "    </tr>\n",
       "  </tbody>\n",
       "</table>\n",
       "</div>"
      ],
      "text/plain": [
       "   sl_no gender  ssc_p    ssc_b  hsc_p    hsc_b     hsc_s  degree_p   \n",
       "0      1      M  67.00   Others  91.00   Others  Commerce     58.00  \\\n",
       "1      2      M  79.33  Central  78.33   Others   Science     77.48   \n",
       "2      3      M  65.00  Central  68.00  Central      Arts     64.00   \n",
       "3      4      M  56.00  Central  52.00  Central   Science     52.00   \n",
       "4      5      M  85.80  Central  73.60  Central  Commerce     73.30   \n",
       "\n",
       "    degree_t workex  etest_p specialisation  mba_p      status    salary  \n",
       "0   Sci&Tech     No     55.0         Mkt&HR  58.80      Placed  270000.0  \n",
       "1   Sci&Tech    Yes     86.5        Mkt&Fin  66.28      Placed  200000.0  \n",
       "2  Comm&Mgmt     No     75.0        Mkt&Fin  57.80      Placed  250000.0  \n",
       "3   Sci&Tech     No     66.0         Mkt&HR  59.43  Not Placed       NaN  \n",
       "4  Comm&Mgmt     No     96.8        Mkt&Fin  55.50      Placed  425000.0  "
      ]
     },
     "execution_count": 80,
     "metadata": {},
     "output_type": "execute_result"
    }
   ],
   "source": [
    "data.head()"
   ]
  },
  {
   "cell_type": "code",
   "execution_count": 81,
   "id": "64a88154",
   "metadata": {
    "execution": {
     "iopub.execute_input": "2022-10-26T08:41:29.167439Z",
     "iopub.status.busy": "2022-10-26T08:41:29.166516Z",
     "iopub.status.idle": "2022-10-26T08:41:29.459685Z",
     "shell.execute_reply": "2022-10-26T08:41:29.458404Z"
    },
    "id": "Ki0hYYSKF5Hq",
    "outputId": "df689c65-e4e4-4619-cc9d-f15e90a08de0",
    "papermill": {
     "duration": 0.325228,
     "end_time": "2022-10-26T08:41:29.462751",
     "exception": false,
     "start_time": "2022-10-26T08:41:29.137523",
     "status": "completed"
    },
    "tags": []
   },
   "outputs": [
    {
     "data": {
      "application/vnd.plotly.v1+json": {
       "config": {
        "plotlyServerURL": "https://plot.ly"
       },
       "data": [
        {
         "delta": {
          "reference": 600
         },
         "domain": {
          "x": [
           0,
           0.5
          ],
          "y": [
           0.7,
           1
          ]
         },
         "mode": "number",
         "number": {
          "font": {
           "color": "#7b68ee",
           "size": 100
          }
         },
         "title": {
          "text": "Rows 🗒 <br><span style='font-size:0.7em;color:gray'>in the data</span>"
         },
         "type": "indicator",
         "value": 215
        },
        {
         "delta": {
          "reference": 600,
          "valueformat": ".0f"
         },
         "domain": {
          "x": [
           0.5,
           1
          ],
          "y": [
           0,
           0.3
          ]
         },
         "mode": "number",
         "number": {
          "font": {
           "color": "#7b68ee",
           "size": 100
          }
         },
         "title": {
          "text": "Columns 🏛 <br><span style='font-size:0.7em;color:gray'>in the data</span>"
         },
         "type": "indicator",
         "value": 15
        }
       ],
       "layout": {
        "template": {
         "data": {
          "bar": [
           {
            "error_x": {
             "color": "#2a3f5f"
            },
            "error_y": {
             "color": "#2a3f5f"
            },
            "marker": {
             "line": {
              "color": "#E5ECF6",
              "width": 0.5
             },
             "pattern": {
              "fillmode": "overlay",
              "size": 10,
              "solidity": 0.2
             }
            },
            "type": "bar"
           }
          ],
          "barpolar": [
           {
            "marker": {
             "line": {
              "color": "#E5ECF6",
              "width": 0.5
             },
             "pattern": {
              "fillmode": "overlay",
              "size": 10,
              "solidity": 0.2
             }
            },
            "type": "barpolar"
           }
          ],
          "carpet": [
           {
            "aaxis": {
             "endlinecolor": "#2a3f5f",
             "gridcolor": "white",
             "linecolor": "white",
             "minorgridcolor": "white",
             "startlinecolor": "#2a3f5f"
            },
            "baxis": {
             "endlinecolor": "#2a3f5f",
             "gridcolor": "white",
             "linecolor": "white",
             "minorgridcolor": "white",
             "startlinecolor": "#2a3f5f"
            },
            "type": "carpet"
           }
          ],
          "choropleth": [
           {
            "colorbar": {
             "outlinewidth": 0,
             "ticks": ""
            },
            "type": "choropleth"
           }
          ],
          "contour": [
           {
            "colorbar": {
             "outlinewidth": 0,
             "ticks": ""
            },
            "colorscale": [
             [
              0,
              "#0d0887"
             ],
             [
              0.1111111111111111,
              "#46039f"
             ],
             [
              0.2222222222222222,
              "#7201a8"
             ],
             [
              0.3333333333333333,
              "#9c179e"
             ],
             [
              0.4444444444444444,
              "#bd3786"
             ],
             [
              0.5555555555555556,
              "#d8576b"
             ],
             [
              0.6666666666666666,
              "#ed7953"
             ],
             [
              0.7777777777777778,
              "#fb9f3a"
             ],
             [
              0.8888888888888888,
              "#fdca26"
             ],
             [
              1,
              "#f0f921"
             ]
            ],
            "type": "contour"
           }
          ],
          "contourcarpet": [
           {
            "colorbar": {
             "outlinewidth": 0,
             "ticks": ""
            },
            "type": "contourcarpet"
           }
          ],
          "heatmap": [
           {
            "colorbar": {
             "outlinewidth": 0,
             "ticks": ""
            },
            "colorscale": [
             [
              0,
              "#0d0887"
             ],
             [
              0.1111111111111111,
              "#46039f"
             ],
             [
              0.2222222222222222,
              "#7201a8"
             ],
             [
              0.3333333333333333,
              "#9c179e"
             ],
             [
              0.4444444444444444,
              "#bd3786"
             ],
             [
              0.5555555555555556,
              "#d8576b"
             ],
             [
              0.6666666666666666,
              "#ed7953"
             ],
             [
              0.7777777777777778,
              "#fb9f3a"
             ],
             [
              0.8888888888888888,
              "#fdca26"
             ],
             [
              1,
              "#f0f921"
             ]
            ],
            "type": "heatmap"
           }
          ],
          "heatmapgl": [
           {
            "colorbar": {
             "outlinewidth": 0,
             "ticks": ""
            },
            "colorscale": [
             [
              0,
              "#0d0887"
             ],
             [
              0.1111111111111111,
              "#46039f"
             ],
             [
              0.2222222222222222,
              "#7201a8"
             ],
             [
              0.3333333333333333,
              "#9c179e"
             ],
             [
              0.4444444444444444,
              "#bd3786"
             ],
             [
              0.5555555555555556,
              "#d8576b"
             ],
             [
              0.6666666666666666,
              "#ed7953"
             ],
             [
              0.7777777777777778,
              "#fb9f3a"
             ],
             [
              0.8888888888888888,
              "#fdca26"
             ],
             [
              1,
              "#f0f921"
             ]
            ],
            "type": "heatmapgl"
           }
          ],
          "histogram": [
           {
            "marker": {
             "pattern": {
              "fillmode": "overlay",
              "size": 10,
              "solidity": 0.2
             }
            },
            "type": "histogram"
           }
          ],
          "histogram2d": [
           {
            "colorbar": {
             "outlinewidth": 0,
             "ticks": ""
            },
            "colorscale": [
             [
              0,
              "#0d0887"
             ],
             [
              0.1111111111111111,
              "#46039f"
             ],
             [
              0.2222222222222222,
              "#7201a8"
             ],
             [
              0.3333333333333333,
              "#9c179e"
             ],
             [
              0.4444444444444444,
              "#bd3786"
             ],
             [
              0.5555555555555556,
              "#d8576b"
             ],
             [
              0.6666666666666666,
              "#ed7953"
             ],
             [
              0.7777777777777778,
              "#fb9f3a"
             ],
             [
              0.8888888888888888,
              "#fdca26"
             ],
             [
              1,
              "#f0f921"
             ]
            ],
            "type": "histogram2d"
           }
          ],
          "histogram2dcontour": [
           {
            "colorbar": {
             "outlinewidth": 0,
             "ticks": ""
            },
            "colorscale": [
             [
              0,
              "#0d0887"
             ],
             [
              0.1111111111111111,
              "#46039f"
             ],
             [
              0.2222222222222222,
              "#7201a8"
             ],
             [
              0.3333333333333333,
              "#9c179e"
             ],
             [
              0.4444444444444444,
              "#bd3786"
             ],
             [
              0.5555555555555556,
              "#d8576b"
             ],
             [
              0.6666666666666666,
              "#ed7953"
             ],
             [
              0.7777777777777778,
              "#fb9f3a"
             ],
             [
              0.8888888888888888,
              "#fdca26"
             ],
             [
              1,
              "#f0f921"
             ]
            ],
            "type": "histogram2dcontour"
           }
          ],
          "mesh3d": [
           {
            "colorbar": {
             "outlinewidth": 0,
             "ticks": ""
            },
            "type": "mesh3d"
           }
          ],
          "parcoords": [
           {
            "line": {
             "colorbar": {
              "outlinewidth": 0,
              "ticks": ""
             }
            },
            "type": "parcoords"
           }
          ],
          "pie": [
           {
            "automargin": true,
            "type": "pie"
           }
          ],
          "scatter": [
           {
            "fillpattern": {
             "fillmode": "overlay",
             "size": 10,
             "solidity": 0.2
            },
            "type": "scatter"
           }
          ],
          "scatter3d": [
           {
            "line": {
             "colorbar": {
              "outlinewidth": 0,
              "ticks": ""
             }
            },
            "marker": {
             "colorbar": {
              "outlinewidth": 0,
              "ticks": ""
             }
            },
            "type": "scatter3d"
           }
          ],
          "scattercarpet": [
           {
            "marker": {
             "colorbar": {
              "outlinewidth": 0,
              "ticks": ""
             }
            },
            "type": "scattercarpet"
           }
          ],
          "scattergeo": [
           {
            "marker": {
             "colorbar": {
              "outlinewidth": 0,
              "ticks": ""
             }
            },
            "type": "scattergeo"
           }
          ],
          "scattergl": [
           {
            "marker": {
             "colorbar": {
              "outlinewidth": 0,
              "ticks": ""
             }
            },
            "type": "scattergl"
           }
          ],
          "scattermapbox": [
           {
            "marker": {
             "colorbar": {
              "outlinewidth": 0,
              "ticks": ""
             }
            },
            "type": "scattermapbox"
           }
          ],
          "scatterpolar": [
           {
            "marker": {
             "colorbar": {
              "outlinewidth": 0,
              "ticks": ""
             }
            },
            "type": "scatterpolar"
           }
          ],
          "scatterpolargl": [
           {
            "marker": {
             "colorbar": {
              "outlinewidth": 0,
              "ticks": ""
             }
            },
            "type": "scatterpolargl"
           }
          ],
          "scatterternary": [
           {
            "marker": {
             "colorbar": {
              "outlinewidth": 0,
              "ticks": ""
             }
            },
            "type": "scatterternary"
           }
          ],
          "surface": [
           {
            "colorbar": {
             "outlinewidth": 0,
             "ticks": ""
            },
            "colorscale": [
             [
              0,
              "#0d0887"
             ],
             [
              0.1111111111111111,
              "#46039f"
             ],
             [
              0.2222222222222222,
              "#7201a8"
             ],
             [
              0.3333333333333333,
              "#9c179e"
             ],
             [
              0.4444444444444444,
              "#bd3786"
             ],
             [
              0.5555555555555556,
              "#d8576b"
             ],
             [
              0.6666666666666666,
              "#ed7953"
             ],
             [
              0.7777777777777778,
              "#fb9f3a"
             ],
             [
              0.8888888888888888,
              "#fdca26"
             ],
             [
              1,
              "#f0f921"
             ]
            ],
            "type": "surface"
           }
          ],
          "table": [
           {
            "cells": {
             "fill": {
              "color": "#EBF0F8"
             },
             "line": {
              "color": "white"
             }
            },
            "header": {
             "fill": {
              "color": "#C8D4E3"
             },
             "line": {
              "color": "white"
             }
            },
            "type": "table"
           }
          ]
         },
         "layout": {
          "annotationdefaults": {
           "arrowcolor": "#2a3f5f",
           "arrowhead": 0,
           "arrowwidth": 1
          },
          "autotypenumbers": "strict",
          "coloraxis": {
           "colorbar": {
            "outlinewidth": 0,
            "ticks": ""
           }
          },
          "colorscale": {
           "diverging": [
            [
             0,
             "#8e0152"
            ],
            [
             0.1,
             "#c51b7d"
            ],
            [
             0.2,
             "#de77ae"
            ],
            [
             0.3,
             "#f1b6da"
            ],
            [
             0.4,
             "#fde0ef"
            ],
            [
             0.5,
             "#f7f7f7"
            ],
            [
             0.6,
             "#e6f5d0"
            ],
            [
             0.7,
             "#b8e186"
            ],
            [
             0.8,
             "#7fbc41"
            ],
            [
             0.9,
             "#4d9221"
            ],
            [
             1,
             "#276419"
            ]
           ],
           "sequential": [
            [
             0,
             "#0d0887"
            ],
            [
             0.1111111111111111,
             "#46039f"
            ],
            [
             0.2222222222222222,
             "#7201a8"
            ],
            [
             0.3333333333333333,
             "#9c179e"
            ],
            [
             0.4444444444444444,
             "#bd3786"
            ],
            [
             0.5555555555555556,
             "#d8576b"
            ],
            [
             0.6666666666666666,
             "#ed7953"
            ],
            [
             0.7777777777777778,
             "#fb9f3a"
            ],
            [
             0.8888888888888888,
             "#fdca26"
            ],
            [
             1,
             "#f0f921"
            ]
           ],
           "sequentialminus": [
            [
             0,
             "#0d0887"
            ],
            [
             0.1111111111111111,
             "#46039f"
            ],
            [
             0.2222222222222222,
             "#7201a8"
            ],
            [
             0.3333333333333333,
             "#9c179e"
            ],
            [
             0.4444444444444444,
             "#bd3786"
            ],
            [
             0.5555555555555556,
             "#d8576b"
            ],
            [
             0.6666666666666666,
             "#ed7953"
            ],
            [
             0.7777777777777778,
             "#fb9f3a"
            ],
            [
             0.8888888888888888,
             "#fdca26"
            ],
            [
             1,
             "#f0f921"
            ]
           ]
          },
          "colorway": [
           "#636efa",
           "#EF553B",
           "#00cc96",
           "#ab63fa",
           "#FFA15A",
           "#19d3f3",
           "#FF6692",
           "#B6E880",
           "#FF97FF",
           "#FECB52"
          ],
          "font": {
           "color": "#2a3f5f"
          },
          "geo": {
           "bgcolor": "white",
           "lakecolor": "white",
           "landcolor": "#E5ECF6",
           "showlakes": true,
           "showland": true,
           "subunitcolor": "white"
          },
          "hoverlabel": {
           "align": "left"
          },
          "hovermode": "closest",
          "mapbox": {
           "style": "light"
          },
          "paper_bgcolor": "white",
          "plot_bgcolor": "#E5ECF6",
          "polar": {
           "angularaxis": {
            "gridcolor": "white",
            "linecolor": "white",
            "ticks": ""
           },
           "bgcolor": "#E5ECF6",
           "radialaxis": {
            "gridcolor": "white",
            "linecolor": "white",
            "ticks": ""
           }
          },
          "scene": {
           "xaxis": {
            "backgroundcolor": "#E5ECF6",
            "gridcolor": "white",
            "gridwidth": 2,
            "linecolor": "white",
            "showbackground": true,
            "ticks": "",
            "zerolinecolor": "white"
           },
           "yaxis": {
            "backgroundcolor": "#E5ECF6",
            "gridcolor": "white",
            "gridwidth": 2,
            "linecolor": "white",
            "showbackground": true,
            "ticks": "",
            "zerolinecolor": "white"
           },
           "zaxis": {
            "backgroundcolor": "#E5ECF6",
            "gridcolor": "white",
            "gridwidth": 2,
            "linecolor": "white",
            "showbackground": true,
            "ticks": "",
            "zerolinecolor": "white"
           }
          },
          "shapedefaults": {
           "line": {
            "color": "#2a3f5f"
           }
          },
          "ternary": {
           "aaxis": {
            "gridcolor": "white",
            "linecolor": "white",
            "ticks": ""
           },
           "baxis": {
            "gridcolor": "white",
            "linecolor": "white",
            "ticks": ""
           },
           "bgcolor": "#E5ECF6",
           "caxis": {
            "gridcolor": "white",
            "linecolor": "white",
            "ticks": ""
           }
          },
          "title": {
           "x": 0.05
          },
          "xaxis": {
           "automargin": true,
           "gridcolor": "white",
           "linecolor": "white",
           "ticks": "",
           "title": {
            "standoff": 15
           },
           "zerolinecolor": "white",
           "zerolinewidth": 2
          },
          "yaxis": {
           "automargin": true,
           "gridcolor": "white",
           "linecolor": "white",
           "ticks": "",
           "title": {
            "standoff": 15
           },
           "zerolinecolor": "white",
           "zerolinewidth": 2
          }
         }
        },
        "xaxis": {
         "anchor": "y",
         "domain": [
          0,
          0.45
         ]
        },
        "xaxis2": {
         "anchor": "y2",
         "domain": [
          0.55,
          1
         ]
        },
        "yaxis": {
         "anchor": "x",
         "domain": [
          0,
          1
         ]
        },
        "yaxis2": {
         "anchor": "x2",
         "domain": [
          0,
          1
         ]
        }
       }
      },
      "text/html": [
       "<div>                            <div id=\"5bec182c-ad90-4fee-947d-2bdc118d0d15\" class=\"plotly-graph-div\" style=\"height:525px; width:100%;\"></div>            <script type=\"text/javascript\">                require([\"plotly\"], function(Plotly) {                    window.PLOTLYENV=window.PLOTLYENV || {};                                    if (document.getElementById(\"5bec182c-ad90-4fee-947d-2bdc118d0d15\")) {                    Plotly.newPlot(                        \"5bec182c-ad90-4fee-947d-2bdc118d0d15\",                        [{\"delta\":{\"reference\":600},\"domain\":{\"x\":[0,0.5],\"y\":[0.7,1]},\"mode\":\"number\",\"number\":{\"font\":{\"color\":\"#7b68ee\",\"size\":100}},\"title\":{\"text\":\"Rows \\ud83d\\uddd2 <br><span style='font-size:0.7em;color:gray'>in the data</span>\"},\"value\":215,\"type\":\"indicator\"},{\"delta\":{\"reference\":600,\"valueformat\":\".0f\"},\"domain\":{\"x\":[0.5,1],\"y\":[0,0.3]},\"mode\":\"number\",\"number\":{\"font\":{\"color\":\"#7b68ee\",\"size\":100}},\"title\":{\"text\":\"Columns \\ud83c\\udfdb <br><span style='font-size:0.7em;color:gray'>in the data</span>\"},\"value\":15,\"type\":\"indicator\"}],                        {\"template\":{\"data\":{\"histogram2dcontour\":[{\"type\":\"histogram2dcontour\",\"colorbar\":{\"outlinewidth\":0,\"ticks\":\"\"},\"colorscale\":[[0.0,\"#0d0887\"],[0.1111111111111111,\"#46039f\"],[0.2222222222222222,\"#7201a8\"],[0.3333333333333333,\"#9c179e\"],[0.4444444444444444,\"#bd3786\"],[0.5555555555555556,\"#d8576b\"],[0.6666666666666666,\"#ed7953\"],[0.7777777777777778,\"#fb9f3a\"],[0.8888888888888888,\"#fdca26\"],[1.0,\"#f0f921\"]]}],\"choropleth\":[{\"type\":\"choropleth\",\"colorbar\":{\"outlinewidth\":0,\"ticks\":\"\"}}],\"histogram2d\":[{\"type\":\"histogram2d\",\"colorbar\":{\"outlinewidth\":0,\"ticks\":\"\"},\"colorscale\":[[0.0,\"#0d0887\"],[0.1111111111111111,\"#46039f\"],[0.2222222222222222,\"#7201a8\"],[0.3333333333333333,\"#9c179e\"],[0.4444444444444444,\"#bd3786\"],[0.5555555555555556,\"#d8576b\"],[0.6666666666666666,\"#ed7953\"],[0.7777777777777778,\"#fb9f3a\"],[0.8888888888888888,\"#fdca26\"],[1.0,\"#f0f921\"]]}],\"heatmap\":[{\"type\":\"heatmap\",\"colorbar\":{\"outlinewidth\":0,\"ticks\":\"\"},\"colorscale\":[[0.0,\"#0d0887\"],[0.1111111111111111,\"#46039f\"],[0.2222222222222222,\"#7201a8\"],[0.3333333333333333,\"#9c179e\"],[0.4444444444444444,\"#bd3786\"],[0.5555555555555556,\"#d8576b\"],[0.6666666666666666,\"#ed7953\"],[0.7777777777777778,\"#fb9f3a\"],[0.8888888888888888,\"#fdca26\"],[1.0,\"#f0f921\"]]}],\"heatmapgl\":[{\"type\":\"heatmapgl\",\"colorbar\":{\"outlinewidth\":0,\"ticks\":\"\"},\"colorscale\":[[0.0,\"#0d0887\"],[0.1111111111111111,\"#46039f\"],[0.2222222222222222,\"#7201a8\"],[0.3333333333333333,\"#9c179e\"],[0.4444444444444444,\"#bd3786\"],[0.5555555555555556,\"#d8576b\"],[0.6666666666666666,\"#ed7953\"],[0.7777777777777778,\"#fb9f3a\"],[0.8888888888888888,\"#fdca26\"],[1.0,\"#f0f921\"]]}],\"contourcarpet\":[{\"type\":\"contourcarpet\",\"colorbar\":{\"outlinewidth\":0,\"ticks\":\"\"}}],\"contour\":[{\"type\":\"contour\",\"colorbar\":{\"outlinewidth\":0,\"ticks\":\"\"},\"colorscale\":[[0.0,\"#0d0887\"],[0.1111111111111111,\"#46039f\"],[0.2222222222222222,\"#7201a8\"],[0.3333333333333333,\"#9c179e\"],[0.4444444444444444,\"#bd3786\"],[0.5555555555555556,\"#d8576b\"],[0.6666666666666666,\"#ed7953\"],[0.7777777777777778,\"#fb9f3a\"],[0.8888888888888888,\"#fdca26\"],[1.0,\"#f0f921\"]]}],\"surface\":[{\"type\":\"surface\",\"colorbar\":{\"outlinewidth\":0,\"ticks\":\"\"},\"colorscale\":[[0.0,\"#0d0887\"],[0.1111111111111111,\"#46039f\"],[0.2222222222222222,\"#7201a8\"],[0.3333333333333333,\"#9c179e\"],[0.4444444444444444,\"#bd3786\"],[0.5555555555555556,\"#d8576b\"],[0.6666666666666666,\"#ed7953\"],[0.7777777777777778,\"#fb9f3a\"],[0.8888888888888888,\"#fdca26\"],[1.0,\"#f0f921\"]]}],\"mesh3d\":[{\"type\":\"mesh3d\",\"colorbar\":{\"outlinewidth\":0,\"ticks\":\"\"}}],\"scatter\":[{\"fillpattern\":{\"fillmode\":\"overlay\",\"size\":10,\"solidity\":0.2},\"type\":\"scatter\"}],\"parcoords\":[{\"type\":\"parcoords\",\"line\":{\"colorbar\":{\"outlinewidth\":0,\"ticks\":\"\"}}}],\"scatterpolargl\":[{\"type\":\"scatterpolargl\",\"marker\":{\"colorbar\":{\"outlinewidth\":0,\"ticks\":\"\"}}}],\"bar\":[{\"error_x\":{\"color\":\"#2a3f5f\"},\"error_y\":{\"color\":\"#2a3f5f\"},\"marker\":{\"line\":{\"color\":\"#E5ECF6\",\"width\":0.5},\"pattern\":{\"fillmode\":\"overlay\",\"size\":10,\"solidity\":0.2}},\"type\":\"bar\"}],\"scattergeo\":[{\"type\":\"scattergeo\",\"marker\":{\"colorbar\":{\"outlinewidth\":0,\"ticks\":\"\"}}}],\"scatterpolar\":[{\"type\":\"scatterpolar\",\"marker\":{\"colorbar\":{\"outlinewidth\":0,\"ticks\":\"\"}}}],\"histogram\":[{\"marker\":{\"pattern\":{\"fillmode\":\"overlay\",\"size\":10,\"solidity\":0.2}},\"type\":\"histogram\"}],\"scattergl\":[{\"type\":\"scattergl\",\"marker\":{\"colorbar\":{\"outlinewidth\":0,\"ticks\":\"\"}}}],\"scatter3d\":[{\"type\":\"scatter3d\",\"line\":{\"colorbar\":{\"outlinewidth\":0,\"ticks\":\"\"}},\"marker\":{\"colorbar\":{\"outlinewidth\":0,\"ticks\":\"\"}}}],\"scattermapbox\":[{\"type\":\"scattermapbox\",\"marker\":{\"colorbar\":{\"outlinewidth\":0,\"ticks\":\"\"}}}],\"scatterternary\":[{\"type\":\"scatterternary\",\"marker\":{\"colorbar\":{\"outlinewidth\":0,\"ticks\":\"\"}}}],\"scattercarpet\":[{\"type\":\"scattercarpet\",\"marker\":{\"colorbar\":{\"outlinewidth\":0,\"ticks\":\"\"}}}],\"carpet\":[{\"aaxis\":{\"endlinecolor\":\"#2a3f5f\",\"gridcolor\":\"white\",\"linecolor\":\"white\",\"minorgridcolor\":\"white\",\"startlinecolor\":\"#2a3f5f\"},\"baxis\":{\"endlinecolor\":\"#2a3f5f\",\"gridcolor\":\"white\",\"linecolor\":\"white\",\"minorgridcolor\":\"white\",\"startlinecolor\":\"#2a3f5f\"},\"type\":\"carpet\"}],\"table\":[{\"cells\":{\"fill\":{\"color\":\"#EBF0F8\"},\"line\":{\"color\":\"white\"}},\"header\":{\"fill\":{\"color\":\"#C8D4E3\"},\"line\":{\"color\":\"white\"}},\"type\":\"table\"}],\"barpolar\":[{\"marker\":{\"line\":{\"color\":\"#E5ECF6\",\"width\":0.5},\"pattern\":{\"fillmode\":\"overlay\",\"size\":10,\"solidity\":0.2}},\"type\":\"barpolar\"}],\"pie\":[{\"automargin\":true,\"type\":\"pie\"}]},\"layout\":{\"autotypenumbers\":\"strict\",\"colorway\":[\"#636efa\",\"#EF553B\",\"#00cc96\",\"#ab63fa\",\"#FFA15A\",\"#19d3f3\",\"#FF6692\",\"#B6E880\",\"#FF97FF\",\"#FECB52\"],\"font\":{\"color\":\"#2a3f5f\"},\"hovermode\":\"closest\",\"hoverlabel\":{\"align\":\"left\"},\"paper_bgcolor\":\"white\",\"plot_bgcolor\":\"#E5ECF6\",\"polar\":{\"bgcolor\":\"#E5ECF6\",\"angularaxis\":{\"gridcolor\":\"white\",\"linecolor\":\"white\",\"ticks\":\"\"},\"radialaxis\":{\"gridcolor\":\"white\",\"linecolor\":\"white\",\"ticks\":\"\"}},\"ternary\":{\"bgcolor\":\"#E5ECF6\",\"aaxis\":{\"gridcolor\":\"white\",\"linecolor\":\"white\",\"ticks\":\"\"},\"baxis\":{\"gridcolor\":\"white\",\"linecolor\":\"white\",\"ticks\":\"\"},\"caxis\":{\"gridcolor\":\"white\",\"linecolor\":\"white\",\"ticks\":\"\"}},\"coloraxis\":{\"colorbar\":{\"outlinewidth\":0,\"ticks\":\"\"}},\"colorscale\":{\"sequential\":[[0.0,\"#0d0887\"],[0.1111111111111111,\"#46039f\"],[0.2222222222222222,\"#7201a8\"],[0.3333333333333333,\"#9c179e\"],[0.4444444444444444,\"#bd3786\"],[0.5555555555555556,\"#d8576b\"],[0.6666666666666666,\"#ed7953\"],[0.7777777777777778,\"#fb9f3a\"],[0.8888888888888888,\"#fdca26\"],[1.0,\"#f0f921\"]],\"sequentialminus\":[[0.0,\"#0d0887\"],[0.1111111111111111,\"#46039f\"],[0.2222222222222222,\"#7201a8\"],[0.3333333333333333,\"#9c179e\"],[0.4444444444444444,\"#bd3786\"],[0.5555555555555556,\"#d8576b\"],[0.6666666666666666,\"#ed7953\"],[0.7777777777777778,\"#fb9f3a\"],[0.8888888888888888,\"#fdca26\"],[1.0,\"#f0f921\"]],\"diverging\":[[0,\"#8e0152\"],[0.1,\"#c51b7d\"],[0.2,\"#de77ae\"],[0.3,\"#f1b6da\"],[0.4,\"#fde0ef\"],[0.5,\"#f7f7f7\"],[0.6,\"#e6f5d0\"],[0.7,\"#b8e186\"],[0.8,\"#7fbc41\"],[0.9,\"#4d9221\"],[1,\"#276419\"]]},\"xaxis\":{\"gridcolor\":\"white\",\"linecolor\":\"white\",\"ticks\":\"\",\"title\":{\"standoff\":15},\"zerolinecolor\":\"white\",\"automargin\":true,\"zerolinewidth\":2},\"yaxis\":{\"gridcolor\":\"white\",\"linecolor\":\"white\",\"ticks\":\"\",\"title\":{\"standoff\":15},\"zerolinecolor\":\"white\",\"automargin\":true,\"zerolinewidth\":2},\"scene\":{\"xaxis\":{\"backgroundcolor\":\"#E5ECF6\",\"gridcolor\":\"white\",\"linecolor\":\"white\",\"showbackground\":true,\"ticks\":\"\",\"zerolinecolor\":\"white\",\"gridwidth\":2},\"yaxis\":{\"backgroundcolor\":\"#E5ECF6\",\"gridcolor\":\"white\",\"linecolor\":\"white\",\"showbackground\":true,\"ticks\":\"\",\"zerolinecolor\":\"white\",\"gridwidth\":2},\"zaxis\":{\"backgroundcolor\":\"#E5ECF6\",\"gridcolor\":\"white\",\"linecolor\":\"white\",\"showbackground\":true,\"ticks\":\"\",\"zerolinecolor\":\"white\",\"gridwidth\":2}},\"shapedefaults\":{\"line\":{\"color\":\"#2a3f5f\"}},\"annotationdefaults\":{\"arrowcolor\":\"#2a3f5f\",\"arrowhead\":0,\"arrowwidth\":1},\"geo\":{\"bgcolor\":\"white\",\"landcolor\":\"#E5ECF6\",\"subunitcolor\":\"white\",\"showland\":true,\"showlakes\":true,\"lakecolor\":\"white\"},\"title\":{\"x\":0.05},\"mapbox\":{\"style\":\"light\"}}},\"xaxis\":{\"anchor\":\"y\",\"domain\":[0.0,0.45]},\"yaxis\":{\"anchor\":\"x\",\"domain\":[0.0,1.0]},\"xaxis2\":{\"anchor\":\"y2\",\"domain\":[0.55,1.0]},\"yaxis2\":{\"anchor\":\"x2\",\"domain\":[0.0,1.0]}},                        {\"responsive\": true}                    ).then(function(){\n",
       "                            \n",
       "var gd = document.getElementById('5bec182c-ad90-4fee-947d-2bdc118d0d15');\n",
       "var x = new MutationObserver(function (mutations, observer) {{\n",
       "        var display = window.getComputedStyle(gd).display;\n",
       "        if (!display || display === 'none') {{\n",
       "            console.log([gd, 'removed!']);\n",
       "            Plotly.purge(gd);\n",
       "            observer.disconnect();\n",
       "        }}\n",
       "}});\n",
       "\n",
       "// Listen for the removal of the full notebook cells\n",
       "var notebookContainer = gd.closest('#notebook-container');\n",
       "if (notebookContainer) {{\n",
       "    x.observe(notebookContainer, {childList: true});\n",
       "}}\n",
       "\n",
       "// Listen for the clearing of the current output cell\n",
       "var outputEl = gd.closest('.output');\n",
       "if (outputEl) {{\n",
       "    x.observe(outputEl, {childList: true});\n",
       "}}\n",
       "\n",
       "                        })                };                });            </script>        </div>"
      ]
     },
     "metadata": {},
     "output_type": "display_data"
    }
   ],
   "source": [
    "fig = make_subplots(rows=1, cols=2)\n",
    "\n",
    "fig.add_trace(go.Indicator(\n",
    "                mode = \"number\",\n",
    "                value = data.shape[0],\n",
    "                number={'font':{'color': '#7b68ee', 'size':100}},\n",
    "                delta = {\"reference\": 600},\n",
    "                title = {\"text\": \"Rows 🗒 <br><span style=\"\n",
    "                                 \"'font-size:0.7em;color:gray'>in the data</span>\"},\n",
    "                domain = {'y': [0.7, 1], 'x': [0, 0.5]}))\n",
    "\n",
    "fig.add_trace(go.Indicator(\n",
    "                mode = \"number\",\n",
    "                value = data.shape[1],\n",
    "                number={'font':{'color': '#7b68ee', 'size':100}},\n",
    "                delta = {\"reference\": 600, \"valueformat\": \".0f\"},\n",
    "                title = {\"text\": \"Columns 🏛 <br><span style=\"\n",
    "                                 \"'font-size:0.7em;color:gray'>in the data</span>\"},\n",
    "                domain = {'y': [0, 0.3], 'x': [0.5, 1]}))\n",
    "fig.show()"
   ]
  },
  {
   "cell_type": "markdown",
   "id": "3c1755de",
   "metadata": {
    "id": "4-0SdSHcF5Hr",
    "papermill": {
     "duration": 0.033225,
     "end_time": "2022-10-26T08:41:29.530497",
     "exception": false,
     "start_time": "2022-10-26T08:41:29.497272",
     "status": "completed"
    },
    "tags": []
   },
   "source": [
    "### It’s worth noting that we don’t have much data"
   ]
  },
  {
   "cell_type": "code",
   "execution_count": 82,
   "id": "70c410cd",
   "metadata": {
    "execution": {
     "iopub.execute_input": "2022-10-26T08:41:29.600678Z",
     "iopub.status.busy": "2022-10-26T08:41:29.600271Z",
     "iopub.status.idle": "2022-10-26T08:41:29.619339Z",
     "shell.execute_reply": "2022-10-26T08:41:29.618019Z"
    },
    "id": "akky4m53F5Hr",
    "outputId": "054ec28a-877c-44a7-f3aa-8eb35f2f7045",
    "papermill": {
     "duration": 0.058646,
     "end_time": "2022-10-26T08:41:29.623629",
     "exception": false,
     "start_time": "2022-10-26T08:41:29.564983",
     "status": "completed"
    },
    "tags": []
   },
   "outputs": [
    {
     "data": {
      "text/plain": [
       "sl_no             215\n",
       "gender              2\n",
       "ssc_p             103\n",
       "ssc_b               2\n",
       "hsc_p              97\n",
       "hsc_b               2\n",
       "hsc_s               3\n",
       "degree_p           89\n",
       "degree_t            3\n",
       "workex              2\n",
       "etest_p           100\n",
       "specialisation      2\n",
       "mba_p             205\n",
       "status              2\n",
       "salary             45\n",
       "dtype: int64"
      ]
     },
     "execution_count": 82,
     "metadata": {},
     "output_type": "execute_result"
    }
   ],
   "source": [
    "data.nunique()"
   ]
  },
  {
   "cell_type": "code",
   "execution_count": 83,
   "id": "41f1dc19",
   "metadata": {
    "execution": {
     "iopub.execute_input": "2022-10-26T08:41:29.695945Z",
     "iopub.status.busy": "2022-10-26T08:41:29.694620Z",
     "iopub.status.idle": "2022-10-26T08:41:29.743439Z",
     "shell.execute_reply": "2022-10-26T08:41:29.741958Z"
    },
    "id": "lputHf3FF5Hr",
    "outputId": "9928d865-452f-477c-c4fd-3866ae155f42",
    "papermill": {
     "duration": 0.087213,
     "end_time": "2022-10-26T08:41:29.746663",
     "exception": false,
     "start_time": "2022-10-26T08:41:29.659450",
     "status": "completed"
    },
    "tags": []
   },
   "outputs": [
    {
     "data": {
      "text/html": [
       "<div>\n",
       "<style scoped>\n",
       "    .dataframe tbody tr th:only-of-type {\n",
       "        vertical-align: middle;\n",
       "    }\n",
       "\n",
       "    .dataframe tbody tr th {\n",
       "        vertical-align: top;\n",
       "    }\n",
       "\n",
       "    .dataframe thead th {\n",
       "        text-align: right;\n",
       "    }\n",
       "</style>\n",
       "<table border=\"1\" class=\"dataframe\">\n",
       "  <thead>\n",
       "    <tr style=\"text-align: right;\">\n",
       "      <th></th>\n",
       "      <th>count</th>\n",
       "      <th>mean</th>\n",
       "      <th>std</th>\n",
       "      <th>min</th>\n",
       "      <th>25%</th>\n",
       "      <th>50%</th>\n",
       "      <th>75%</th>\n",
       "      <th>max</th>\n",
       "    </tr>\n",
       "  </thead>\n",
       "  <tbody>\n",
       "    <tr>\n",
       "      <th>sl_no</th>\n",
       "      <td>215.0</td>\n",
       "      <td>108.000000</td>\n",
       "      <td>62.209324</td>\n",
       "      <td>1.00</td>\n",
       "      <td>54.500</td>\n",
       "      <td>108.0</td>\n",
       "      <td>161.500</td>\n",
       "      <td>215.00</td>\n",
       "    </tr>\n",
       "    <tr>\n",
       "      <th>ssc_p</th>\n",
       "      <td>215.0</td>\n",
       "      <td>67.303395</td>\n",
       "      <td>10.827205</td>\n",
       "      <td>40.89</td>\n",
       "      <td>60.600</td>\n",
       "      <td>67.0</td>\n",
       "      <td>75.700</td>\n",
       "      <td>89.40</td>\n",
       "    </tr>\n",
       "    <tr>\n",
       "      <th>hsc_p</th>\n",
       "      <td>215.0</td>\n",
       "      <td>66.333163</td>\n",
       "      <td>10.897509</td>\n",
       "      <td>37.00</td>\n",
       "      <td>60.900</td>\n",
       "      <td>65.0</td>\n",
       "      <td>73.000</td>\n",
       "      <td>97.70</td>\n",
       "    </tr>\n",
       "    <tr>\n",
       "      <th>degree_p</th>\n",
       "      <td>215.0</td>\n",
       "      <td>66.370186</td>\n",
       "      <td>7.358743</td>\n",
       "      <td>50.00</td>\n",
       "      <td>61.000</td>\n",
       "      <td>66.0</td>\n",
       "      <td>72.000</td>\n",
       "      <td>91.00</td>\n",
       "    </tr>\n",
       "    <tr>\n",
       "      <th>etest_p</th>\n",
       "      <td>215.0</td>\n",
       "      <td>72.100558</td>\n",
       "      <td>13.275956</td>\n",
       "      <td>50.00</td>\n",
       "      <td>60.000</td>\n",
       "      <td>71.0</td>\n",
       "      <td>83.500</td>\n",
       "      <td>98.00</td>\n",
       "    </tr>\n",
       "    <tr>\n",
       "      <th>mba_p</th>\n",
       "      <td>215.0</td>\n",
       "      <td>62.278186</td>\n",
       "      <td>5.833385</td>\n",
       "      <td>51.21</td>\n",
       "      <td>57.945</td>\n",
       "      <td>62.0</td>\n",
       "      <td>66.255</td>\n",
       "      <td>77.89</td>\n",
       "    </tr>\n",
       "    <tr>\n",
       "      <th>salary</th>\n",
       "      <td>148.0</td>\n",
       "      <td>288655.405405</td>\n",
       "      <td>93457.452420</td>\n",
       "      <td>200000.00</td>\n",
       "      <td>240000.000</td>\n",
       "      <td>265000.0</td>\n",
       "      <td>300000.000</td>\n",
       "      <td>940000.00</td>\n",
       "    </tr>\n",
       "  </tbody>\n",
       "</table>\n",
       "</div>"
      ],
      "text/plain": [
       "          count           mean           std        min         25%       50%   \n",
       "sl_no     215.0     108.000000     62.209324       1.00      54.500     108.0  \\\n",
       "ssc_p     215.0      67.303395     10.827205      40.89      60.600      67.0   \n",
       "hsc_p     215.0      66.333163     10.897509      37.00      60.900      65.0   \n",
       "degree_p  215.0      66.370186      7.358743      50.00      61.000      66.0   \n",
       "etest_p   215.0      72.100558     13.275956      50.00      60.000      71.0   \n",
       "mba_p     215.0      62.278186      5.833385      51.21      57.945      62.0   \n",
       "salary    148.0  288655.405405  93457.452420  200000.00  240000.000  265000.0   \n",
       "\n",
       "                 75%        max  \n",
       "sl_no        161.500     215.00  \n",
       "ssc_p         75.700      89.40  \n",
       "hsc_p         73.000      97.70  \n",
       "degree_p      72.000      91.00  \n",
       "etest_p       83.500      98.00  \n",
       "mba_p         66.255      77.89  \n",
       "salary    300000.000  940000.00  "
      ]
     },
     "execution_count": 83,
     "metadata": {},
     "output_type": "execute_result"
    }
   ],
   "source": [
    "data.describe().T"
   ]
  },
  {
   "cell_type": "code",
   "execution_count": 84,
   "id": "8210ca97",
   "metadata": {
    "execution": {
     "iopub.execute_input": "2022-10-26T08:41:29.820113Z",
     "iopub.status.busy": "2022-10-26T08:41:29.819351Z",
     "iopub.status.idle": "2022-10-26T08:41:29.827460Z",
     "shell.execute_reply": "2022-10-26T08:41:29.826204Z"
    },
    "id": "IhHZu8NTF5Hs",
    "outputId": "713b89ef-6fb4-4104-cab2-40e62d996253",
    "papermill": {
     "duration": 0.04799,
     "end_time": "2022-10-26T08:41:29.830015",
     "exception": false,
     "start_time": "2022-10-26T08:41:29.782025",
     "status": "completed"
    },
    "tags": []
   },
   "outputs": [
    {
     "data": {
      "text/plain": [
       "array(['Placed', 'Not Placed'], dtype=object)"
      ]
     },
     "execution_count": 84,
     "metadata": {},
     "output_type": "execute_result"
    }
   ],
   "source": [
    "data.status.unique()"
   ]
  },
  {
   "cell_type": "code",
   "execution_count": 85,
   "id": "1cbaa445",
   "metadata": {
    "execution": {
     "iopub.execute_input": "2022-10-26T08:41:29.906989Z",
     "iopub.status.busy": "2022-10-26T08:41:29.906114Z",
     "iopub.status.idle": "2022-10-26T08:41:29.910986Z",
     "shell.execute_reply": "2022-10-26T08:41:29.910204Z"
    },
    "id": "rFdzZUe8F5Hs",
    "papermill": {
     "duration": 0.042401,
     "end_time": "2022-10-26T08:41:29.913292",
     "exception": false,
     "start_time": "2022-10-26T08:41:29.870891",
     "status": "completed"
    },
    "tags": []
   },
   "outputs": [],
   "source": [
    "hfont = {'fontname':'serif', 'weight': 'bold'}\n",
    "two_colors = ['#dd38ff', '#5727ed']\n",
    "five_colors = ['#3E1CA8', '#5727ed', '#C82EE8', '#dd38ff', '#EC96FE']"
   ]
  },
  {
   "cell_type": "markdown",
   "id": "e6ab450d",
   "metadata": {
    "id": "R--5ohdXF5Ht",
    "papermill": {
     "duration": 0.035783,
     "end_time": "2022-10-26T08:41:29.984014",
     "exception": false,
     "start_time": "2022-10-26T08:41:29.948231",
     "status": "completed"
    },
    "tags": []
   },
   "source": [
    "# Missing Values"
   ]
  },
  {
   "cell_type": "code",
   "execution_count": 86,
   "id": "0af62737",
   "metadata": {
    "execution": {
     "iopub.execute_input": "2022-10-26T08:41:30.056517Z",
     "iopub.status.busy": "2022-10-26T08:41:30.056078Z",
     "iopub.status.idle": "2022-10-26T08:41:30.066484Z",
     "shell.execute_reply": "2022-10-26T08:41:30.064927Z"
    },
    "id": "AkqiuLrbF5Ht",
    "papermill": {
     "duration": 0.049661,
     "end_time": "2022-10-26T08:41:30.069348",
     "exception": false,
     "start_time": "2022-10-26T08:41:30.019687",
     "status": "completed"
    },
    "tags": []
   },
   "outputs": [],
   "source": [
    "mis_val_colors = []\n",
    "\n",
    "for col in data.columns:\n",
    "    if data[col].isna().sum() != 0:\n",
    "        mis_val_colors.append('#fe1969')\n",
    "    else:\n",
    "        mis_val_colors.append('gray')"
   ]
  },
  {
   "cell_type": "code",
   "execution_count": 87,
   "id": "cf5e3ca7",
   "metadata": {
    "execution": {
     "iopub.execute_input": "2022-10-26T08:41:30.140418Z",
     "iopub.status.busy": "2022-10-26T08:41:30.139983Z",
     "iopub.status.idle": "2022-10-26T08:41:31.182955Z",
     "shell.execute_reply": "2022-10-26T08:41:31.181466Z"
    },
    "id": "OVTWQQBoF5Hu",
    "outputId": "7b6b3517-0029-44c4-dd74-4ea280b850c5",
    "papermill": {
     "duration": 1.081211,
     "end_time": "2022-10-26T08:41:31.185677",
     "exception": false,
     "start_time": "2022-10-26T08:41:30.104466",
     "status": "completed"
    },
    "tags": []
   },
   "outputs": [
    {
     "data": {
      "text/plain": [
       "Text(0.5, 1.15, 'Missing values (before)')"
      ]
     },
     "execution_count": 87,
     "metadata": {},
     "output_type": "execute_result"
    },
    {
     "data": {
      "image/png": "[encoded data removed]",
      "text/plain": [
       "<Figure size 2500x1000 with 3 Axes>"
      ]
     },
     "metadata": {},
     "output_type": "display_data"
    }
   ],
   "source": [
    "msn.bar(data, color=mis_val_colors)\n",
    "plt.title('Missing values (before)', size=45, y=1.15, **hfont)"
   ]
  },
  {
   "cell_type": "markdown",
   "id": "4e29a8a8",
   "metadata": {
    "id": "yChm-MTAF5Hu",
    "papermill": {
     "duration": 0.03499,
     "end_time": "2022-10-26T08:41:31.256862",
     "exception": false,
     "start_time": "2022-10-26T08:41:31.221872",
     "status": "completed"
    },
    "tags": []
   },
   "source": [
    "This dataset has some missing values for salary column"
   ]
  },
  {
   "cell_type": "code",
   "execution_count": 91,
   "id": "4d11c283",
   "metadata": {
    "execution": {
     "iopub.execute_input": "2022-10-26T08:41:31.329269Z",
     "iopub.status.busy": "2022-10-26T08:41:31.328809Z",
     "iopub.status.idle": "2022-10-26T08:41:31.668190Z",
     "shell.execute_reply": "2022-10-26T08:41:31.667073Z"
    },
    "id": "HrVTg4ohF5Hu",
    "outputId": "5aa59980-d599-4502-c14d-493b33f260a7",
    "papermill": {
     "duration": 0.378843,
     "end_time": "2022-10-26T08:41:31.671008",
     "exception": false,
     "start_time": "2022-10-26T08:41:31.292165",
     "status": "completed"
    },
    "tags": []
   },
   "outputs": [
    {
     "ename": "OptionError",
     "evalue": "\"No such keys(s): 'mode.use_inf_as_null'\"",
     "output_type": "error",
     "traceback": [
      "\u001b[1;31m---------------------------------------------------------------------------\u001b[0m",
      "\u001b[1;31mOptionError\u001b[0m                               Traceback (most recent call last)",
      "\u001b[1;32m~\\AppData\\Local\\Temp\\ipykernel_10340\\3243988971.py\u001b[0m in \u001b[0;36m<module>\u001b[1;34m\u001b[0m\n\u001b[0;32m      8\u001b[0m \u001b[1;33m\u001b[0m\u001b[0m\n\u001b[0;32m      9\u001b[0m \u001b[1;31m# Main plots\u001b[0m\u001b[1;33m\u001b[0m\u001b[1;33m\u001b[0m\u001b[0m\n\u001b[1;32m---> 10\u001b[1;33m \u001b[0msns\u001b[0m\u001b[1;33m.\u001b[0m\u001b[0mkdeplot\u001b[0m\u001b[1;33m(\u001b[0m\u001b[0mdata\u001b[0m\u001b[1;33m=\u001b[0m\u001b[0mtemp_data\u001b[0m\u001b[1;33m,\u001b[0m\u001b[0mx\u001b[0m\u001b[1;33m=\u001b[0m\u001b[1;34m'salary'\u001b[0m\u001b[1;33m,\u001b[0m \u001b[0mshade\u001b[0m\u001b[1;33m=\u001b[0m\u001b[1;32mTrue\u001b[0m\u001b[1;33m,\u001b[0m \u001b[0max\u001b[0m\u001b[1;33m=\u001b[0m\u001b[0max\u001b[0m\u001b[1;33m,\u001b[0m \u001b[0mcolor\u001b[0m\u001b[1;33m=\u001b[0m\u001b[0mtwo_colors\u001b[0m\u001b[1;33m[\u001b[0m\u001b[1;36m0\u001b[0m\u001b[1;33m]\u001b[0m\u001b[1;33m,\u001b[0m \u001b[0malpha\u001b[0m\u001b[1;33m=\u001b[0m\u001b[1;36m1\u001b[0m\u001b[1;33m)\u001b[0m\u001b[1;33m\u001b[0m\u001b[1;33m\u001b[0m\u001b[0m\n\u001b[0m\u001b[0;32m     11\u001b[0m \u001b[0mplt\u001b[0m\u001b[1;33m.\u001b[0m\u001b[0mxlabel\u001b[0m\u001b[1;33m(\u001b[0m\u001b[1;34m'salary'\u001b[0m\u001b[1;33m,\u001b[0m \u001b[1;33m**\u001b[0m\u001b[0mhfont\u001b[0m\u001b[1;33m)\u001b[0m\u001b[1;33m\u001b[0m\u001b[1;33m\u001b[0m\u001b[0m\n\u001b[0;32m     12\u001b[0m \u001b[0mplt\u001b[0m\u001b[1;33m.\u001b[0m\u001b[0mylabel\u001b[0m\u001b[1;33m(\u001b[0m\u001b[1;34m'density'\u001b[0m\u001b[1;33m,\u001b[0m \u001b[1;33m**\u001b[0m\u001b[0mhfont\u001b[0m\u001b[1;33m)\u001b[0m\u001b[1;33m\u001b[0m\u001b[1;33m\u001b[0m\u001b[0m\n",
      "\u001b[1;32m~\\anaconda3\\lib\\site-packages\\seaborn\\_decorators.py\u001b[0m in \u001b[0;36minner_f\u001b[1;34m(*args, **kwargs)\u001b[0m\n\u001b[0;32m     44\u001b[0m             )\n\u001b[0;32m     45\u001b[0m         \u001b[0mkwargs\u001b[0m\u001b[1;33m.\u001b[0m\u001b[0mupdate\u001b[0m\u001b[1;33m(\u001b[0m\u001b[1;33m{\u001b[0m\u001b[0mk\u001b[0m\u001b[1;33m:\u001b[0m \u001b[0marg\u001b[0m \u001b[1;32mfor\u001b[0m \u001b[0mk\u001b[0m\u001b[1;33m,\u001b[0m \u001b[0marg\u001b[0m \u001b[1;32min\u001b[0m \u001b[0mzip\u001b[0m\u001b[1;33m(\u001b[0m\u001b[0msig\u001b[0m\u001b[1;33m.\u001b[0m\u001b[0mparameters\u001b[0m\u001b[1;33m,\u001b[0m \u001b[0margs\u001b[0m\u001b[1;33m)\u001b[0m\u001b[1;33m}\u001b[0m\u001b[1;33m)\u001b[0m\u001b[1;33m\u001b[0m\u001b[1;33m\u001b[0m\u001b[0m\n\u001b[1;32m---> 46\u001b[1;33m         \u001b[1;32mreturn\u001b[0m \u001b[0mf\u001b[0m\u001b[1;33m(\u001b[0m\u001b[1;33m**\u001b[0m\u001b[0mkwargs\u001b[0m\u001b[1;33m)\u001b[0m\u001b[1;33m\u001b[0m\u001b[1;33m\u001b[0m\u001b[0m\n\u001b[0m\u001b[0;32m     47\u001b[0m     \u001b[1;32mreturn\u001b[0m \u001b[0minner_f\u001b[0m\u001b[1;33m\u001b[0m\u001b[1;33m\u001b[0m\u001b[0m\n\u001b[0;32m     48\u001b[0m \u001b[1;33m\u001b[0m\u001b[0m\n",
      "\u001b[1;32m~\\anaconda3\\lib\\site-packages\\seaborn\\distributions.py\u001b[0m in \u001b[0;36mkdeplot\u001b[1;34m(x, y, shade, vertical, kernel, bw, gridsize, cut, clip, legend, cumulative, shade_lowest, cbar, cbar_ax, cbar_kws, ax, weights, hue, palette, hue_order, hue_norm, multiple, common_norm, common_grid, levels, thresh, bw_method, bw_adjust, log_scale, color, fill, data, data2, warn_singular, **kwargs)\u001b[0m\n\u001b[0;32m   1768\u001b[0m             \u001b[0mplot_kws\u001b[0m\u001b[1;33m[\u001b[0m\u001b[1;34m\"color\"\u001b[0m\u001b[1;33m]\u001b[0m \u001b[1;33m=\u001b[0m \u001b[0mcolor\u001b[0m\u001b[1;33m\u001b[0m\u001b[1;33m\u001b[0m\u001b[0m\n\u001b[0;32m   1769\u001b[0m \u001b[1;33m\u001b[0m\u001b[0m\n\u001b[1;32m-> 1770\u001b[1;33m         p.plot_univariate_density(\n\u001b[0m\u001b[0;32m   1771\u001b[0m             \u001b[0mmultiple\u001b[0m\u001b[1;33m=\u001b[0m\u001b[0mmultiple\u001b[0m\u001b[1;33m,\u001b[0m\u001b[1;33m\u001b[0m\u001b[1;33m\u001b[0m\u001b[0m\n\u001b[0;32m   1772\u001b[0m             \u001b[0mcommon_norm\u001b[0m\u001b[1;33m=\u001b[0m\u001b[0mcommon_norm\u001b[0m\u001b[1;33m,\u001b[0m\u001b[1;33m\u001b[0m\u001b[1;33m\u001b[0m\u001b[0m\n",
      "\u001b[1;32m~\\anaconda3\\lib\\site-packages\\seaborn\\distributions.py\u001b[0m in \u001b[0;36mplot_univariate_density\u001b[1;34m(self, multiple, common_norm, common_grid, warn_singular, fill, legend, estimate_kws, **plot_kws)\u001b[0m\n\u001b[0;32m    926\u001b[0m \u001b[1;33m\u001b[0m\u001b[0m\n\u001b[0;32m    927\u001b[0m         \u001b[1;31m# Do the computation\u001b[0m\u001b[1;33m\u001b[0m\u001b[1;33m\u001b[0m\u001b[0m\n\u001b[1;32m--> 928\u001b[1;33m         densities = self._compute_univariate_density(\n\u001b[0m\u001b[0;32m    929\u001b[0m             \u001b[0mself\u001b[0m\u001b[1;33m.\u001b[0m\u001b[0mdata_variable\u001b[0m\u001b[1;33m,\u001b[0m\u001b[1;33m\u001b[0m\u001b[1;33m\u001b[0m\u001b[0m\n\u001b[0;32m    930\u001b[0m             \u001b[0mcommon_norm\u001b[0m\u001b[1;33m,\u001b[0m\u001b[1;33m\u001b[0m\u001b[1;33m\u001b[0m\u001b[0m\n",
      "\u001b[1;32m~\\anaconda3\\lib\\site-packages\\seaborn\\distributions.py\u001b[0m in \u001b[0;36m_compute_univariate_density\u001b[1;34m(self, data_variable, common_norm, common_grid, estimate_kws, log_scale, warn_singular)\u001b[0m\n\u001b[0;32m    301\u001b[0m         \u001b[0mdensities\u001b[0m \u001b[1;33m=\u001b[0m \u001b[1;33m{\u001b[0m\u001b[1;33m}\u001b[0m\u001b[1;33m\u001b[0m\u001b[1;33m\u001b[0m\u001b[0m\n\u001b[0;32m    302\u001b[0m \u001b[1;33m\u001b[0m\u001b[0m\n\u001b[1;32m--> 303\u001b[1;33m         \u001b[1;32mfor\u001b[0m \u001b[0msub_vars\u001b[0m\u001b[1;33m,\u001b[0m \u001b[0msub_data\u001b[0m \u001b[1;32min\u001b[0m \u001b[0mself\u001b[0m\u001b[1;33m.\u001b[0m\u001b[0miter_data\u001b[0m\u001b[1;33m(\u001b[0m\u001b[1;34m\"hue\"\u001b[0m\u001b[1;33m,\u001b[0m \u001b[0mfrom_comp_data\u001b[0m\u001b[1;33m=\u001b[0m\u001b[1;32mTrue\u001b[0m\u001b[1;33m)\u001b[0m\u001b[1;33m:\u001b[0m\u001b[1;33m\u001b[0m\u001b[1;33m\u001b[0m\u001b[0m\n\u001b[0m\u001b[0;32m    304\u001b[0m \u001b[1;33m\u001b[0m\u001b[0m\n\u001b[0;32m    305\u001b[0m             \u001b[1;31m# Extract the data points from this sub set and remove nulls\u001b[0m\u001b[1;33m\u001b[0m\u001b[1;33m\u001b[0m\u001b[0m\n",
      "\u001b[1;32m~\\anaconda3\\lib\\site-packages\\seaborn\\_core.py\u001b[0m in \u001b[0;36miter_data\u001b[1;34m(self, grouping_vars, reverse, from_comp_data)\u001b[0m\n\u001b[0;32m    981\u001b[0m \u001b[1;33m\u001b[0m\u001b[0m\n\u001b[0;32m    982\u001b[0m         \u001b[1;32mif\u001b[0m \u001b[0mfrom_comp_data\u001b[0m\u001b[1;33m:\u001b[0m\u001b[1;33m\u001b[0m\u001b[1;33m\u001b[0m\u001b[0m\n\u001b[1;32m--> 983\u001b[1;33m             \u001b[0mdata\u001b[0m \u001b[1;33m=\u001b[0m \u001b[0mself\u001b[0m\u001b[1;33m.\u001b[0m\u001b[0mcomp_data\u001b[0m\u001b[1;33m\u001b[0m\u001b[1;33m\u001b[0m\u001b[0m\n\u001b[0m\u001b[0;32m    984\u001b[0m         \u001b[1;32melse\u001b[0m\u001b[1;33m:\u001b[0m\u001b[1;33m\u001b[0m\u001b[1;33m\u001b[0m\u001b[0m\n\u001b[0;32m    985\u001b[0m             \u001b[0mdata\u001b[0m \u001b[1;33m=\u001b[0m \u001b[0mself\u001b[0m\u001b[1;33m.\u001b[0m\u001b[0mplot_data\u001b[0m\u001b[1;33m\u001b[0m\u001b[1;33m\u001b[0m\u001b[0m\n",
      "\u001b[1;32m~\\anaconda3\\lib\\site-packages\\seaborn\\_core.py\u001b[0m in \u001b[0;36mcomp_data\u001b[1;34m(self)\u001b[0m\n\u001b[0;32m   1052\u001b[0m                 \u001b[1;31m# Use the converter assigned to the axis to get a float representation\u001b[0m\u001b[1;33m\u001b[0m\u001b[1;33m\u001b[0m\u001b[0m\n\u001b[0;32m   1053\u001b[0m                 \u001b[1;31m# of the data, passing np.nan or pd.NA through (pd.NA becomes np.nan)\u001b[0m\u001b[1;33m\u001b[0m\u001b[1;33m\u001b[0m\u001b[0m\n\u001b[1;32m-> 1054\u001b[1;33m                 \u001b[1;32mwith\u001b[0m \u001b[0mpd\u001b[0m\u001b[1;33m.\u001b[0m\u001b[0moption_context\u001b[0m\u001b[1;33m(\u001b[0m\u001b[1;34m'mode.use_inf_as_null'\u001b[0m\u001b[1;33m,\u001b[0m \u001b[1;32mTrue\u001b[0m\u001b[1;33m)\u001b[0m\u001b[1;33m:\u001b[0m\u001b[1;33m\u001b[0m\u001b[1;33m\u001b[0m\u001b[0m\n\u001b[0m\u001b[0;32m   1055\u001b[0m                     \u001b[0morig\u001b[0m \u001b[1;33m=\u001b[0m \u001b[0mself\u001b[0m\u001b[1;33m.\u001b[0m\u001b[0mplot_data\u001b[0m\u001b[1;33m[\u001b[0m\u001b[0mvar\u001b[0m\u001b[1;33m]\u001b[0m\u001b[1;33m.\u001b[0m\u001b[0mdropna\u001b[0m\u001b[1;33m(\u001b[0m\u001b[1;33m)\u001b[0m\u001b[1;33m\u001b[0m\u001b[1;33m\u001b[0m\u001b[0m\n\u001b[0;32m   1056\u001b[0m                 \u001b[0mcomp_col\u001b[0m \u001b[1;33m=\u001b[0m \u001b[0mpd\u001b[0m\u001b[1;33m.\u001b[0m\u001b[0mSeries\u001b[0m\u001b[1;33m(\u001b[0m\u001b[0mindex\u001b[0m\u001b[1;33m=\u001b[0m\u001b[0morig\u001b[0m\u001b[1;33m.\u001b[0m\u001b[0mindex\u001b[0m\u001b[1;33m,\u001b[0m \u001b[0mdtype\u001b[0m\u001b[1;33m=\u001b[0m\u001b[0mfloat\u001b[0m\u001b[1;33m,\u001b[0m \u001b[0mname\u001b[0m\u001b[1;33m=\u001b[0m\u001b[0mvar\u001b[0m\u001b[1;33m)\u001b[0m\u001b[1;33m\u001b[0m\u001b[1;33m\u001b[0m\u001b[0m\n",
      "\u001b[1;32m~\\anaconda3\\lib\\site-packages\\pandas\\_config\\config.py\u001b[0m in \u001b[0;36m__enter__\u001b[1;34m(self)\u001b[0m\n\u001b[0;32m    439\u001b[0m \u001b[1;33m\u001b[0m\u001b[0m\n\u001b[0;32m    440\u001b[0m     \u001b[1;32mdef\u001b[0m \u001b[0m__enter__\u001b[0m\u001b[1;33m(\u001b[0m\u001b[0mself\u001b[0m\u001b[1;33m)\u001b[0m \u001b[1;33m->\u001b[0m \u001b[1;32mNone\u001b[0m\u001b[1;33m:\u001b[0m\u001b[1;33m\u001b[0m\u001b[1;33m\u001b[0m\u001b[0m\n\u001b[1;32m--> 441\u001b[1;33m         \u001b[0mself\u001b[0m\u001b[1;33m.\u001b[0m\u001b[0mundo\u001b[0m \u001b[1;33m=\u001b[0m \u001b[1;33m[\u001b[0m\u001b[1;33m(\u001b[0m\u001b[0mpat\u001b[0m\u001b[1;33m,\u001b[0m \u001b[0m_get_option\u001b[0m\u001b[1;33m(\u001b[0m\u001b[0mpat\u001b[0m\u001b[1;33m,\u001b[0m \u001b[0msilent\u001b[0m\u001b[1;33m=\u001b[0m\u001b[1;32mTrue\u001b[0m\u001b[1;33m)\u001b[0m\u001b[1;33m)\u001b[0m \u001b[1;32mfor\u001b[0m \u001b[0mpat\u001b[0m\u001b[1;33m,\u001b[0m \u001b[0mval\u001b[0m \u001b[1;32min\u001b[0m \u001b[0mself\u001b[0m\u001b[1;33m.\u001b[0m\u001b[0mops\u001b[0m\u001b[1;33m]\u001b[0m\u001b[1;33m\u001b[0m\u001b[1;33m\u001b[0m\u001b[0m\n\u001b[0m\u001b[0;32m    442\u001b[0m \u001b[1;33m\u001b[0m\u001b[0m\n\u001b[0;32m    443\u001b[0m         \u001b[1;32mfor\u001b[0m \u001b[0mpat\u001b[0m\u001b[1;33m,\u001b[0m \u001b[0mval\u001b[0m \u001b[1;32min\u001b[0m \u001b[0mself\u001b[0m\u001b[1;33m.\u001b[0m\u001b[0mops\u001b[0m\u001b[1;33m:\u001b[0m\u001b[1;33m\u001b[0m\u001b[1;33m\u001b[0m\u001b[0m\n",
      "\u001b[1;32m~\\anaconda3\\lib\\site-packages\\pandas\\_config\\config.py\u001b[0m in \u001b[0;36m<listcomp>\u001b[1;34m(.0)\u001b[0m\n\u001b[0;32m    439\u001b[0m \u001b[1;33m\u001b[0m\u001b[0m\n\u001b[0;32m    440\u001b[0m     \u001b[1;32mdef\u001b[0m \u001b[0m__enter__\u001b[0m\u001b[1;33m(\u001b[0m\u001b[0mself\u001b[0m\u001b[1;33m)\u001b[0m \u001b[1;33m->\u001b[0m \u001b[1;32mNone\u001b[0m\u001b[1;33m:\u001b[0m\u001b[1;33m\u001b[0m\u001b[1;33m\u001b[0m\u001b[0m\n\u001b[1;32m--> 441\u001b[1;33m         \u001b[0mself\u001b[0m\u001b[1;33m.\u001b[0m\u001b[0mundo\u001b[0m \u001b[1;33m=\u001b[0m \u001b[1;33m[\u001b[0m\u001b[1;33m(\u001b[0m\u001b[0mpat\u001b[0m\u001b[1;33m,\u001b[0m \u001b[0m_get_option\u001b[0m\u001b[1;33m(\u001b[0m\u001b[0mpat\u001b[0m\u001b[1;33m,\u001b[0m \u001b[0msilent\u001b[0m\u001b[1;33m=\u001b[0m\u001b[1;32mTrue\u001b[0m\u001b[1;33m)\u001b[0m\u001b[1;33m)\u001b[0m \u001b[1;32mfor\u001b[0m \u001b[0mpat\u001b[0m\u001b[1;33m,\u001b[0m \u001b[0mval\u001b[0m \u001b[1;32min\u001b[0m \u001b[0mself\u001b[0m\u001b[1;33m.\u001b[0m\u001b[0mops\u001b[0m\u001b[1;33m]\u001b[0m\u001b[1;33m\u001b[0m\u001b[1;33m\u001b[0m\u001b[0m\n\u001b[0m\u001b[0;32m    442\u001b[0m \u001b[1;33m\u001b[0m\u001b[0m\n\u001b[0;32m    443\u001b[0m         \u001b[1;32mfor\u001b[0m \u001b[0mpat\u001b[0m\u001b[1;33m,\u001b[0m \u001b[0mval\u001b[0m \u001b[1;32min\u001b[0m \u001b[0mself\u001b[0m\u001b[1;33m.\u001b[0m\u001b[0mops\u001b[0m\u001b[1;33m:\u001b[0m\u001b[1;33m\u001b[0m\u001b[1;33m\u001b[0m\u001b[0m\n",
      "\u001b[1;32m~\\anaconda3\\lib\\site-packages\\pandas\\_config\\config.py\u001b[0m in \u001b[0;36m_get_option\u001b[1;34m(pat, silent)\u001b[0m\n\u001b[0;32m    133\u001b[0m \u001b[1;33m\u001b[0m\u001b[0m\n\u001b[0;32m    134\u001b[0m \u001b[1;32mdef\u001b[0m \u001b[0m_get_option\u001b[0m\u001b[1;33m(\u001b[0m\u001b[0mpat\u001b[0m\u001b[1;33m:\u001b[0m \u001b[0mstr\u001b[0m\u001b[1;33m,\u001b[0m \u001b[0msilent\u001b[0m\u001b[1;33m:\u001b[0m \u001b[0mbool\u001b[0m \u001b[1;33m=\u001b[0m \u001b[1;32mFalse\u001b[0m\u001b[1;33m)\u001b[0m \u001b[1;33m->\u001b[0m \u001b[0mAny\u001b[0m\u001b[1;33m:\u001b[0m\u001b[1;33m\u001b[0m\u001b[1;33m\u001b[0m\u001b[0m\n\u001b[1;32m--> 135\u001b[1;33m     \u001b[0mkey\u001b[0m \u001b[1;33m=\u001b[0m \u001b[0m_get_single_key\u001b[0m\u001b[1;33m(\u001b[0m\u001b[0mpat\u001b[0m\u001b[1;33m,\u001b[0m \u001b[0msilent\u001b[0m\u001b[1;33m)\u001b[0m\u001b[1;33m\u001b[0m\u001b[1;33m\u001b[0m\u001b[0m\n\u001b[0m\u001b[0;32m    136\u001b[0m \u001b[1;33m\u001b[0m\u001b[0m\n\u001b[0;32m    137\u001b[0m     \u001b[1;31m# walk the nested dict\u001b[0m\u001b[1;33m\u001b[0m\u001b[1;33m\u001b[0m\u001b[0m\n",
      "\u001b[1;32m~\\anaconda3\\lib\\site-packages\\pandas\\_config\\config.py\u001b[0m in \u001b[0;36m_get_single_key\u001b[1;34m(pat, silent)\u001b[0m\n\u001b[0;32m    119\u001b[0m         \u001b[1;32mif\u001b[0m \u001b[1;32mnot\u001b[0m \u001b[0msilent\u001b[0m\u001b[1;33m:\u001b[0m\u001b[1;33m\u001b[0m\u001b[1;33m\u001b[0m\u001b[0m\n\u001b[0;32m    120\u001b[0m             \u001b[0m_warn_if_deprecated\u001b[0m\u001b[1;33m(\u001b[0m\u001b[0mpat\u001b[0m\u001b[1;33m)\u001b[0m\u001b[1;33m\u001b[0m\u001b[1;33m\u001b[0m\u001b[0m\n\u001b[1;32m--> 121\u001b[1;33m         \u001b[1;32mraise\u001b[0m \u001b[0mOptionError\u001b[0m\u001b[1;33m(\u001b[0m\u001b[1;34mf\"No such keys(s): {repr(pat)}\"\u001b[0m\u001b[1;33m)\u001b[0m\u001b[1;33m\u001b[0m\u001b[1;33m\u001b[0m\u001b[0m\n\u001b[0m\u001b[0;32m    122\u001b[0m     \u001b[1;32mif\u001b[0m \u001b[0mlen\u001b[0m\u001b[1;33m(\u001b[0m\u001b[0mkeys\u001b[0m\u001b[1;33m)\u001b[0m \u001b[1;33m>\u001b[0m \u001b[1;36m1\u001b[0m\u001b[1;33m:\u001b[0m\u001b[1;33m\u001b[0m\u001b[1;33m\u001b[0m\u001b[0m\n\u001b[0;32m    123\u001b[0m         \u001b[1;32mraise\u001b[0m \u001b[0mOptionError\u001b[0m\u001b[1;33m(\u001b[0m\u001b[1;34m\"Pattern matched multiple keys\"\u001b[0m\u001b[1;33m)\u001b[0m\u001b[1;33m\u001b[0m\u001b[1;33m\u001b[0m\u001b[0m\n",
      "\u001b[1;31mOptionError\u001b[0m: \"No such keys(s): 'mode.use_inf_as_null'\""
     ]
    },
    {
     "data": {
      "image/png": "[encoded data removed]",
      "text/plain": [
       "<Figure size 1800x600 with 1 Axes>"
      ]
     },
     "metadata": {},
     "output_type": "display_data"
    }
   ],
   "source": [
    "fig = plt.figure(figsize=(18, 6))\n",
    "ax = fig.add_subplot(111)\n",
    "plt.title('Status distribution by salary', size=28, **hfont)\n",
    "\n",
    "# Data without NaN values in salary column\n",
    "temp_data = data.copy()\n",
    "temp_data = temp_data.dropna()\n",
    "\n",
    "# Main plots\n",
    "sns.kdeplot(data=temp_data,x='salary', shade=True, ax=ax, color=two_colors[0], alpha=1)\n",
    "plt.xlabel('salary', **hfont)\n",
    "plt.ylabel('density', **hfont)"
   ]
  },
  {
   "cell_type": "markdown",
   "id": "19e310fd",
   "metadata": {
    "id": "-tNDlVVRF5Hv",
    "papermill": {
     "duration": 0.036229,
     "end_time": "2022-10-26T08:41:31.744551",
     "exception": false,
     "start_time": "2022-10-26T08:41:31.708322",
     "status": "completed"
    },
    "tags": []
   },
   "source": [
    "#### We have **Right Skewed** distribution. It’s worth noting that we don’t have much data"
   ]
  },
  {
   "cell_type": "code",
   "execution_count": null,
   "id": "07f73873",
   "metadata": {
    "execution": {
     "iopub.execute_input": "2022-10-26T08:41:31.818765Z",
     "iopub.status.busy": "2022-10-26T08:41:31.818314Z",
     "iopub.status.idle": "2022-10-26T08:41:31.829094Z",
     "shell.execute_reply": "2022-10-26T08:41:31.827863Z"
    },
    "id": "Ggtxo-90F5Hv",
    "outputId": "1a17ab05-3402-49b8-ebdd-0f9d8d4f296d",
    "papermill": {
     "duration": 0.051709,
     "end_time": "2022-10-26T08:41:31.832062",
     "exception": false,
     "start_time": "2022-10-26T08:41:31.780353",
     "status": "completed"
    },
    "tags": []
   },
   "outputs": [],
   "source": [
    "temp_data.salary.mode().iloc[0]"
   ]
  },
  {
   "cell_type": "markdown",
   "id": "bda78940",
   "metadata": {
    "id": "IQoDefnCF5Hv",
    "papermill": {
     "duration": 0.036696,
     "end_time": "2022-10-26T08:41:31.906432",
     "exception": false,
     "start_time": "2022-10-26T08:41:31.869736",
     "status": "completed"
    },
    "tags": []
   },
   "source": [
    "#### But if we look at the status of students whose **salary is missing**, it becomes clear that they simply do not have a salary, because **they do not work**"
   ]
  },
  {
   "cell_type": "code",
   "execution_count": null,
   "id": "dbe3bbea",
   "metadata": {
    "execution": {
     "iopub.execute_input": "2022-10-26T08:41:31.980398Z",
     "iopub.status.busy": "2022-10-26T08:41:31.979782Z",
     "iopub.status.idle": "2022-10-26T08:41:31.996783Z",
     "shell.execute_reply": "2022-10-26T08:41:31.995553Z"
    },
    "id": "8pFL9P6AF5Hw",
    "outputId": "3b859d7e-4f37-4f45-aab7-e45c77a86c21",
    "papermill": {
     "duration": 0.057433,
     "end_time": "2022-10-26T08:41:31.999676",
     "exception": false,
     "start_time": "2022-10-26T08:41:31.942243",
     "status": "completed"
    },
    "tags": []
   },
   "outputs": [],
   "source": [
    "data[['status', 'salary']][np.isnan(data.salary)]"
   ]
  },
  {
   "cell_type": "markdown",
   "id": "c48429f2",
   "metadata": {
    "id": "iBQPWkSUF5Hw",
    "papermill": {
     "duration": 0.037065,
     "end_time": "2022-10-26T08:41:32.073174",
     "exception": false,
     "start_time": "2022-10-26T08:41:32.036109",
     "status": "completed"
    },
    "tags": []
   },
   "source": [
    "#### In this case, we can replace the missing values with a variable of **\"0\"**, but then we will have a direct link with the predicted status, so you should **delete this column**"
   ]
  },
  {
   "cell_type": "code",
   "execution_count": null,
   "id": "308d85a6",
   "metadata": {
    "execution": {
     "iopub.execute_input": "2022-10-26T08:41:32.147676Z",
     "iopub.status.busy": "2022-10-26T08:41:32.147234Z",
     "iopub.status.idle": "2022-10-26T08:41:32.389511Z",
     "shell.execute_reply": "2022-10-26T08:41:32.388237Z"
    },
    "id": "hWtSDpJkF5Hw",
    "outputId": "7360db70-c9b9-4988-a785-eea3a1389a4b",
    "papermill": {
     "duration": 0.283083,
     "end_time": "2022-10-26T08:41:32.392249",
     "exception": false,
     "start_time": "2022-10-26T08:41:32.109166",
     "status": "completed"
    },
    "tags": []
   },
   "outputs": [],
   "source": [
    "# Let's look at correlation b/w salary and status\n",
    "data.salary.fillna(0, inplace=True)\n",
    "\n",
    "fig, ax = plt.subplots(figsize = (18, 4))\n",
    "\n",
    "status_salary_plot = sns.scatterplot(x = 'salary', y = 'status', data = data,\n",
    "                                     s=250, color=two_colors[0])\n",
    "\n",
    "ax.xaxis.set_ticks(ax.get_xticks())\n",
    "ax.yaxis.set_ticks(ax.get_yticks())\n",
    "\n",
    "status_salary_plot.set_yticklabels(['Not Placed', 'Placed'], size=30, **hfont)\n",
    "status_salary_plot.set(ylabel=None)\n",
    "\n",
    "plt.title('Status by salary', size=38, y=1.15, **hfont)\n",
    "plt.xlabel('Salary', size=30, **hfont)\n",
    "plt.legend()"
   ]
  },
  {
   "cell_type": "code",
   "execution_count": null,
   "id": "4b0cf710",
   "metadata": {
    "execution": {
     "iopub.execute_input": "2022-10-26T08:41:32.470786Z",
     "iopub.status.busy": "2022-10-26T08:41:32.470260Z",
     "iopub.status.idle": "2022-10-26T08:41:32.477576Z",
     "shell.execute_reply": "2022-10-26T08:41:32.476238Z"
    },
    "id": "9enuvIwYF5Hx",
    "papermill": {
     "duration": 0.049854,
     "end_time": "2022-10-26T08:41:32.480237",
     "exception": false,
     "start_time": "2022-10-26T08:41:32.430383",
     "status": "completed"
    },
    "tags": []
   },
   "outputs": [],
   "source": [
    "data = data.drop(columns=['salary'])"
   ]
  },
  {
   "cell_type": "markdown",
   "id": "4c68e9f0",
   "metadata": {
    "id": "m5p80uXjF5Hx",
    "papermill": {
     "duration": 0.039318,
     "end_time": "2022-10-26T08:41:32.560329",
     "exception": false,
     "start_time": "2022-10-26T08:41:32.521011",
     "status": "completed"
    },
    "tags": []
   },
   "source": [
    "# Distribution of predicted values in the dataset\n"
   ]
  },
  {
   "cell_type": "code",
   "execution_count": null,
   "id": "c1132895",
   "metadata": {
    "execution": {
     "iopub.execute_input": "2022-10-26T08:41:32.641736Z",
     "iopub.status.busy": "2022-10-26T08:41:32.640842Z",
     "iopub.status.idle": "2022-10-26T08:41:32.865195Z",
     "shell.execute_reply": "2022-10-26T08:41:32.862520Z"
    },
    "id": "gfKfQZcrF5Hy",
    "outputId": "650b9f40-b111-4260-9ba0-510679879c9a",
    "papermill": {
     "duration": 0.269219,
     "end_time": "2022-10-26T08:41:32.869257",
     "exception": false,
     "start_time": "2022-10-26T08:41:32.600038",
     "status": "completed"
    },
    "tags": []
   },
   "outputs": [],
   "source": [
    "pie_colors = two_colors.copy()\n",
    "\n",
    "pred_classes = data.status.value_counts()\n",
    "\n",
    "plt.figure(figsize=(17, 12))\n",
    "patches, texts, pcts = plt.pie(pred_classes,\n",
    "                               labels=['Yes', 'No'],\n",
    "                               colors=pie_colors,\n",
    "                               pctdistance=0.65,\n",
    "                               shadow=True,\n",
    "                               startangle=90,\n",
    "                               autopct='%1.1f%%',\n",
    "                               textprops={'fontsize': 30,\n",
    "                                          'color': 'black',\n",
    "                                          'weight': 'bold',\n",
    "                                          'family': 'serif'})\n",
    "plt.setp(pcts, color='white', size=30)\n",
    "\n",
    "plt.title('Is hired ?', size=45, **hfont)\n",
    "\n",
    "centre_circle = plt.Circle((0,0),0.40,fc='white')\n",
    "fig = plt.gcf()\n",
    "fig.gca().add_artist(centre_circle)"
   ]
  },
  {
   "cell_type": "markdown",
   "id": "7a2e40d8",
   "metadata": {
    "id": "EJEIok15F5Hz",
    "papermill": {
     "duration": 0.048077,
     "end_time": "2022-10-26T08:41:32.964448",
     "exception": false,
     "start_time": "2022-10-26T08:41:32.916371",
     "status": "completed"
    },
    "tags": []
   },
   "source": [
    "### Conclusions on class ratios:\n",
    "#### We have a **preponderance** of observations in one class. In our data, the number of students hired to work is much higher. Therefore, the use of the **Accuracy** metric may lead to sub-optimal results"
   ]
  },
  {
   "cell_type": "markdown",
   "id": "baee59d1",
   "metadata": {
    "id": "XS-HrmM3F5H0",
    "papermill": {
     "duration": 0.039303,
     "end_time": "2022-10-26T08:41:33.044753",
     "exception": false,
     "start_time": "2022-10-26T08:41:33.005450",
     "status": "completed"
    },
    "tags": []
   },
   "source": [
    "# EDA + FE: Exploratory Data Analysis + Feature Engineering\n"
   ]
  },
  {
   "cell_type": "code",
   "execution_count": null,
   "id": "2d075f42",
   "metadata": {
    "execution": {
     "iopub.execute_input": "2022-10-26T08:41:33.127806Z",
     "iopub.status.busy": "2022-10-26T08:41:33.127377Z",
     "iopub.status.idle": "2022-10-26T08:41:33.148808Z",
     "shell.execute_reply": "2022-10-26T08:41:33.147509Z"
    },
    "id": "EPvBB8cNF5H1",
    "outputId": "f7fbe54b-702f-4289-8a66-a0f1974cd5cf",
    "papermill": {
     "duration": 0.0656,
     "end_time": "2022-10-26T08:41:33.151458",
     "exception": false,
     "start_time": "2022-10-26T08:41:33.085858",
     "status": "completed"
    },
    "tags": []
   },
   "outputs": [],
   "source": [
    "data.head(3)"
   ]
  },
  {
   "cell_type": "code",
   "execution_count": null,
   "id": "c53035cb",
   "metadata": {
    "execution": {
     "iopub.execute_input": "2022-10-26T08:41:33.235196Z",
     "iopub.status.busy": "2022-10-26T08:41:33.234281Z",
     "iopub.status.idle": "2022-10-26T08:41:33.242270Z",
     "shell.execute_reply": "2022-10-26T08:41:33.241050Z"
    },
    "id": "hyeTYh6aF5H2",
    "papermill": {
     "duration": 0.052566,
     "end_time": "2022-10-26T08:41:33.244924",
     "exception": false,
     "start_time": "2022-10-26T08:41:33.192358",
     "status": "completed"
    },
    "tags": []
   },
   "outputs": [],
   "source": [
    "data.status = data.status.map({'Placed': 1, 'Not Placed': 0})"
   ]
  },
  {
   "cell_type": "markdown",
   "id": "c51f81f1",
   "metadata": {
    "id": "M8o8ApAbF5H2",
    "papermill": {
     "duration": 0.039254,
     "end_time": "2022-10-26T08:41:33.323745",
     "exception": false,
     "start_time": "2022-10-26T08:41:33.284491",
     "status": "completed"
    },
    "tags": []
   },
   "source": [
    "## Serial Number\n",
    "\n",
    "\n",
    "---\n",
    "\n",
    "\n",
    "This property is not necessary when building a model because it has no relationship with the predicted variable. Let’s delete it"
   ]
  },
  {
   "cell_type": "code",
   "execution_count": null,
   "id": "73e0a4a6",
   "metadata": {
    "execution": {
     "iopub.execute_input": "2022-10-26T08:41:33.408456Z",
     "iopub.status.busy": "2022-10-26T08:41:33.407268Z",
     "iopub.status.idle": "2022-10-26T08:41:33.415515Z",
     "shell.execute_reply": "2022-10-26T08:41:33.414599Z"
    },
    "id": "wjuXJ3tEF5H3",
    "papermill": {
     "duration": 0.053109,
     "end_time": "2022-10-26T08:41:33.418172",
     "exception": false,
     "start_time": "2022-10-26T08:41:33.365063",
     "status": "completed"
    },
    "tags": []
   },
   "outputs": [],
   "source": [
    "data.drop(columns=['sl_no'], inplace=True)"
   ]
  },
  {
   "cell_type": "markdown",
   "id": "a6e94f0c",
   "metadata": {
    "id": "gbDletHUF5H3",
    "papermill": {
     "duration": 0.042027,
     "end_time": "2022-10-26T08:41:33.502557",
     "exception": false,
     "start_time": "2022-10-26T08:41:33.460530",
     "status": "completed"
    },
    "tags": []
   },
   "source": [
    "## Gender\n",
    "\n",
    "\n",
    "---\n",
    "\n",
    "\n",
    "Gender: Male='M',Female='F'"
   ]
  },
  {
   "cell_type": "code",
   "execution_count": null,
   "id": "dfb54869",
   "metadata": {
    "execution": {
     "iopub.execute_input": "2022-10-26T08:41:33.591106Z",
     "iopub.status.busy": "2022-10-26T08:41:33.590518Z",
     "iopub.status.idle": "2022-10-26T08:41:33.599526Z",
     "shell.execute_reply": "2022-10-26T08:41:33.598319Z"
    },
    "id": "J_I4-1KlF5H3",
    "outputId": "5d23555e-2803-479e-8209-a77bb5cee42f",
    "papermill": {
     "duration": 0.057031,
     "end_time": "2022-10-26T08:41:33.601974",
     "exception": false,
     "start_time": "2022-10-26T08:41:33.544943",
     "status": "completed"
    },
    "tags": []
   },
   "outputs": [],
   "source": [
    "type(data.gender.iloc[0])"
   ]
  },
  {
   "cell_type": "code",
   "execution_count": null,
   "id": "ac407022",
   "metadata": {
    "execution": {
     "iopub.execute_input": "2022-10-26T08:41:33.684967Z",
     "iopub.status.busy": "2022-10-26T08:41:33.684515Z",
     "iopub.status.idle": "2022-10-26T08:41:33.691908Z",
     "shell.execute_reply": "2022-10-26T08:41:33.690598Z"
    },
    "id": "ZRpsGhqKF5H4",
    "papermill": {
     "duration": 0.052184,
     "end_time": "2022-10-26T08:41:33.694839",
     "exception": false,
     "start_time": "2022-10-26T08:41:33.642655",
     "status": "completed"
    },
    "tags": []
   },
   "outputs": [],
   "source": [
    "data.gender = data.gender.map({'M': 1, 'F': 0})"
   ]
  },
  {
   "cell_type": "code",
   "execution_count": null,
   "id": "a4415823",
   "metadata": {
    "execution": {
     "iopub.execute_input": "2022-10-26T08:41:33.780822Z",
     "iopub.status.busy": "2022-10-26T08:41:33.780410Z",
     "iopub.status.idle": "2022-10-26T08:41:34.005545Z",
     "shell.execute_reply": "2022-10-26T08:41:34.004215Z"
    },
    "id": "5LLPGMUUF5H4",
    "outputId": "ab9d1343-ea4b-4f55-8ef7-9d4b9307fa5d",
    "papermill": {
     "duration": 0.272085,
     "end_time": "2022-10-26T08:41:34.008540",
     "exception": false,
     "start_time": "2022-10-26T08:41:33.736455",
     "status": "completed"
    },
    "tags": []
   },
   "outputs": [],
   "source": [
    "plt.figure(figsize=(12, 8))\n",
    "gender_plot = sns.countplot(y=data.gender, palette=two_colors)\n",
    "gender_plot.set_title('Student population by gender', fontsize=35, y=1.05, **hfont)\n",
    "gender_plot.set(ylabel=None)\n",
    "plt.grid(False)\n",
    "gender_plot.set_yticklabels(['F', 'M'], size=25, **hfont)\n",
    "gender_plot.set_xlabel('count', size=20, **hfont)"
   ]
  },
  {
   "cell_type": "code",
   "execution_count": null,
   "id": "7e04e1eb",
   "metadata": {
    "execution": {
     "iopub.execute_input": "2022-10-26T08:41:34.094629Z",
     "iopub.status.busy": "2022-10-26T08:41:34.093904Z",
     "iopub.status.idle": "2022-10-26T08:41:34.578770Z",
     "shell.execute_reply": "2022-10-26T08:41:34.577401Z"
    },
    "id": "_GVE0fVyF5H5",
    "outputId": "bc32bd24-f9e6-4997-a8af-c10564eddd72",
    "papermill": {
     "duration": 0.530893,
     "end_time": "2022-10-26T08:41:34.581367",
     "exception": false,
     "start_time": "2022-10-26T08:41:34.050474",
     "status": "completed"
    },
    "tags": []
   },
   "outputs": [],
   "source": [
    "gender_plot = sns.catplot(y='status', x='gender', data=data,\n",
    "                             height=10, aspect=2, kind='bar',\n",
    "                             palette=two_colors)\n",
    "gender_plot.set_xticklabels(['Female', 'Male'], size=30, **hfont)\n",
    "gender_plot.fig.suptitle('Gender Influence on Status',\n",
    "                            size=45, y=1.05, **hfont)\n",
    "gender_plot.set(xlabel=None, ylabel=None)"
   ]
  },
  {
   "cell_type": "markdown",
   "id": "d7238490",
   "metadata": {
    "id": "wQ7HFuJnF5H6",
    "papermill": {
     "duration": 0.041399,
     "end_time": "2022-10-26T08:41:34.666236",
     "exception": false,
     "start_time": "2022-10-26T08:41:34.624837",
     "status": "completed"
    },
    "tags": []
   },
   "source": [
    "### **Conclusion:** Male students slightly more often hired"
   ]
  },
  {
   "cell_type": "markdown",
   "id": "4132b271",
   "metadata": {
    "id": "7VaRGCt2F5H6",
    "papermill": {
     "duration": 0.041654,
     "end_time": "2022-10-26T08:41:34.749705",
     "exception": false,
     "start_time": "2022-10-26T08:41:34.708051",
     "status": "completed"
    },
    "tags": []
   },
   "source": [
    "## SSC_P\n",
    "\n",
    "\n",
    "---\n",
    "\n",
    "Secondary Education percentage - 10th Grade"
   ]
  },
  {
   "cell_type": "code",
   "execution_count": null,
   "id": "d9c4585c",
   "metadata": {
    "execution": {
     "iopub.execute_input": "2022-10-26T08:41:34.836890Z",
     "iopub.status.busy": "2022-10-26T08:41:34.836216Z",
     "iopub.status.idle": "2022-10-26T08:41:35.181335Z",
     "shell.execute_reply": "2022-10-26T08:41:35.180253Z"
    },
    "id": "kZniB8jJF5H6",
    "outputId": "526772b4-1d05-4833-9974-99a8e3d21e56",
    "papermill": {
     "duration": 0.391504,
     "end_time": "2022-10-26T08:41:35.183986",
     "exception": false,
     "start_time": "2022-10-26T08:41:34.792482",
     "status": "completed"
    },
    "tags": []
   },
   "outputs": [],
   "source": [
    "fig = plt.figure(figsize=(18, 6))\n",
    "ax = fig.add_subplot(111)\n",
    "plt.title('Status distribution by SSC_P', size=28, **hfont)\n",
    "ax.grid(False)\n",
    "ax.axes.get_yaxis().set_visible(False)\n",
    "ax.text(85, 0.03, 'Placed', {'fontproperties': 'Serif',\n",
    "                             'size': '20',\n",
    "                             'weight': 'bold',\n",
    "                             'color': two_colors[0]},\n",
    "                             alpha=0.9)\n",
    "\n",
    "ax.text(35, 0.03, 'Not Placed', {'fontproperties': 'Serif',\n",
    "                                'size': '20',\n",
    "                                'weight': 'bold',\n",
    "                                'color': two_colors[1]}, alpha=0.9)\n",
    "\n",
    "sns.kdeplot(data=data[data.status == 1],\n",
    "            x='ssc_p', shade=True, ax=ax, color=two_colors[0], alpha=1)\n",
    "sns.kdeplot(data=data[data.status == 0],\n",
    "            x='ssc_p', shade=True, ax=ax, color=two_colors[1], alpha=0.7)\n",
    "plt.xlabel('SSC_P', **hfont)"
   ]
  },
  {
   "cell_type": "markdown",
   "id": "eaf2a565",
   "metadata": {
    "id": "bZYmait-F5H6",
    "papermill": {
     "duration": 0.042177,
     "end_time": "2022-10-26T08:41:35.270861",
     "exception": false,
     "start_time": "2022-10-26T08:41:35.228684",
     "status": "completed"
    },
    "tags": []
   },
   "source": [
    "### Let's find out how different this groups via **statistical tests**"
   ]
  },
  {
   "cell_type": "code",
   "execution_count": null,
   "id": "f97caac6",
   "metadata": {
    "execution": {
     "iopub.execute_input": "2022-10-26T08:41:35.358692Z",
     "iopub.status.busy": "2022-10-26T08:41:35.357924Z",
     "iopub.status.idle": "2022-10-26T08:41:35.369798Z",
     "shell.execute_reply": "2022-10-26T08:41:35.368791Z"
    },
    "id": "iYtEDcy1F5H7",
    "papermill": {
     "duration": 0.059287,
     "end_time": "2022-10-26T08:41:35.372619",
     "exception": false,
     "start_time": "2022-10-26T08:41:35.313332",
     "status": "completed"
    },
    "tags": []
   },
   "outputs": [],
   "source": [
    "placed_group = data[data.status == 1]['ssc_p']\n",
    "not_placed_group = data[data.status == 0]['ssc_p']\n",
    "\n",
    "t_test = stats.ttest_ind(placed_group, not_placed_group)\n",
    "u_test = stats.mannwhitneyu(placed_group, not_placed_group)"
   ]
  },
  {
   "cell_type": "code",
   "execution_count": null,
   "id": "b4ffdce6",
   "metadata": {
    "execution": {
     "iopub.execute_input": "2022-10-26T08:41:35.460430Z",
     "iopub.status.busy": "2022-10-26T08:41:35.459898Z",
     "iopub.status.idle": "2022-10-26T08:41:35.467066Z",
     "shell.execute_reply": "2022-10-26T08:41:35.465831Z"
    },
    "id": "3rL8il8UF5H7",
    "outputId": "db9523f3-8488-489c-f9fe-0a33d692af03",
    "papermill": {
     "duration": 0.055103,
     "end_time": "2022-10-26T08:41:35.471103",
     "exception": false,
     "start_time": "2022-10-26T08:41:35.416000",
     "status": "completed"
    },
    "tags": []
   },
   "outputs": [],
   "source": [
    "print(f'Results of T-test                :   {t_test.pvalue}')\n",
    "print(f'Results of U-test (Mann-whitneyu):   {u_test.pvalue}')"
   ]
  },
  {
   "cell_type": "markdown",
   "id": "f4db07ab",
   "metadata": {
    "id": "s9NBG-GYF5H7",
    "papermill": {
     "duration": 0.042745,
     "end_time": "2022-10-26T08:41:35.557496",
     "exception": false,
     "start_time": "2022-10-26T08:41:35.514751",
     "status": "completed"
    },
    "tags": []
   },
   "source": [
    "### **Conclusion:** \n",
    "- Visually looks like on average, the higher a 10th grade, the higher the chance to get a job\n",
    "- We also ran tests and found statistically significant differences between groups"
   ]
  },
  {
   "cell_type": "markdown",
   "id": "bc62f88c",
   "metadata": {
    "id": "KdZCwj44F5H7",
    "papermill": {
     "duration": 0.041661,
     "end_time": "2022-10-26T08:41:35.641602",
     "exception": false,
     "start_time": "2022-10-26T08:41:35.599941",
     "status": "completed"
    },
    "tags": []
   },
   "source": [
    "## SSC_B:\n",
    "\n",
    "\n",
    "---\n",
    "\n",
    "\n",
    "Board of Education: Central / Others (10th)"
   ]
  },
  {
   "cell_type": "code",
   "execution_count": null,
   "id": "3b16c40a",
   "metadata": {
    "execution": {
     "iopub.execute_input": "2022-10-26T08:41:35.731397Z",
     "iopub.status.busy": "2022-10-26T08:41:35.730907Z",
     "iopub.status.idle": "2022-10-26T08:41:35.741333Z",
     "shell.execute_reply": "2022-10-26T08:41:35.740021Z"
    },
    "id": "OQNbj5XsF5H8",
    "outputId": "50c5fe52-da06-4edf-e28c-1ba7958f19ab",
    "papermill": {
     "duration": 0.05746,
     "end_time": "2022-10-26T08:41:35.743857",
     "exception": false,
     "start_time": "2022-10-26T08:41:35.686397",
     "status": "completed"
    },
    "tags": []
   },
   "outputs": [],
   "source": [
    "data.ssc_b.value_counts()"
   ]
  },
  {
   "cell_type": "code",
   "execution_count": null,
   "id": "9a92e8de",
   "metadata": {
    "execution": {
     "iopub.execute_input": "2022-10-26T08:41:35.833209Z",
     "iopub.status.busy": "2022-10-26T08:41:35.832745Z",
     "iopub.status.idle": "2022-10-26T08:41:35.840189Z",
     "shell.execute_reply": "2022-10-26T08:41:35.838790Z"
    },
    "id": "RiH_vdNEF5H8",
    "papermill": {
     "duration": 0.055274,
     "end_time": "2022-10-26T08:41:35.843026",
     "exception": false,
     "start_time": "2022-10-26T08:41:35.787752",
     "status": "completed"
    },
    "tags": []
   },
   "outputs": [],
   "source": [
    "data.ssc_b = data.ssc_b.map({'Central': 1, 'Others': 0})"
   ]
  },
  {
   "cell_type": "code",
   "execution_count": null,
   "id": "17f0e379",
   "metadata": {
    "execution": {
     "iopub.execute_input": "2022-10-26T08:41:35.933130Z",
     "iopub.status.busy": "2022-10-26T08:41:35.932685Z",
     "iopub.status.idle": "2022-10-26T08:41:36.072521Z",
     "shell.execute_reply": "2022-10-26T08:41:36.071360Z"
    },
    "id": "9-Xb9poEF5H8",
    "outputId": "8b35afc6-4d0d-4b1d-fb9b-033e2a364aba",
    "papermill": {
     "duration": 0.187972,
     "end_time": "2022-10-26T08:41:36.075012",
     "exception": false,
     "start_time": "2022-10-26T08:41:35.887040",
     "status": "completed"
    },
    "tags": []
   },
   "outputs": [],
   "source": [
    "plt.figure(figsize=(12, 8))\n",
    "ssc_b_plot = sns.countplot(x=data.ssc_b,\n",
    "                            palette=two_colors[::-1])\n",
    "ssc_b_plot.set_title('Count of ssb: Board of Education (10th)',\n",
    "                      fontsize=30, y=1.05, **hfont)\n",
    "ssc_b_plot.set(xlabel=None, ylabel=None)\n",
    "plt.grid(False)\n",
    "ssc_b_plot.set_xticklabels(['Others', 'Central'], size=25, **hfont)"
   ]
  },
  {
   "cell_type": "code",
   "execution_count": null,
   "id": "ce0b47bb",
   "metadata": {
    "execution": {
     "iopub.execute_input": "2022-10-26T08:41:36.165400Z",
     "iopub.status.busy": "2022-10-26T08:41:36.164533Z",
     "iopub.status.idle": "2022-10-26T08:41:36.641066Z",
     "shell.execute_reply": "2022-10-26T08:41:36.639646Z"
    },
    "id": "OV_KHPNEF5H8",
    "outputId": "ce86e452-cd0b-46dd-8f2b-2c34fdceec5a",
    "papermill": {
     "duration": 0.523996,
     "end_time": "2022-10-26T08:41:36.643663",
     "exception": false,
     "start_time": "2022-10-26T08:41:36.119667",
     "status": "completed"
    },
    "tags": []
   },
   "outputs": [],
   "source": [
    "ssc_b_plot = sns.catplot(x='status', y='ssc_b', data=data,\n",
    "                             height=10, aspect=2, kind='bar',\n",
    "                             palette=two_colors[::-1])\n",
    "ssc_b_plot.set_xticklabels(['Others', 'Central'], size=30, **hfont)\n",
    "ssc_b_plot.fig.suptitle('ssc_b Influence on Status',\n",
    "                            size=45, y=1.05, **hfont)\n",
    "ssc_b_plot.set(xlabel=None, ylabel=None)"
   ]
  },
  {
   "cell_type": "markdown",
   "id": "feea2078",
   "metadata": {
    "id": "vXxdBqmNF5H9",
    "papermill": {
     "duration": 0.044724,
     "end_time": "2022-10-26T08:41:36.734846",
     "exception": false,
     "start_time": "2022-10-26T08:41:36.690122",
     "status": "completed"
    },
    "tags": []
   },
   "source": [
    "## HSC_P\n",
    "\n",
    "\n",
    "---\n",
    "\n",
    "Higher Secondary Education percentage- 12th Grade"
   ]
  },
  {
   "cell_type": "code",
   "execution_count": null,
   "id": "0af9eac0",
   "metadata": {
    "execution": {
     "iopub.execute_input": "2022-10-26T08:41:36.829666Z",
     "iopub.status.busy": "2022-10-26T08:41:36.828913Z",
     "iopub.status.idle": "2022-10-26T08:41:37.128113Z",
     "shell.execute_reply": "2022-10-26T08:41:37.126280Z"
    },
    "id": "0HmbQsnAF5H9",
    "outputId": "befda065-ed31-4432-95dd-8284280b7983",
    "papermill": {
     "duration": 0.351063,
     "end_time": "2022-10-26T08:41:37.130781",
     "exception": false,
     "start_time": "2022-10-26T08:41:36.779718",
     "status": "completed"
    },
    "tags": []
   },
   "outputs": [],
   "source": [
    "fig = plt.figure(figsize=(18, 6))\n",
    "ax = fig.add_subplot(111)\n",
    "plt.title('Status distribution by Higher Secondary Education percentage', size=25, **hfont)\n",
    "ax.grid(False)\n",
    "ax.axes.get_yaxis().set_visible(False)\n",
    "ax.text(85, 0.03, 'Placed', {'fontproperties': 'Serif',\n",
    "                             'size': '20',\n",
    "                             'weight': 'bold',\n",
    "                             'color': two_colors[0]}, alpha=0.9)\n",
    "\n",
    "ax.text(35, 0.03, 'Not Placed', {'fontproperties': 'Serif',\n",
    "                                'size': '20',\n",
    "                                'weight': 'bold',\n",
    "                                'color': two_colors[1]}, alpha=0.9)\n",
    "\n",
    "sns.kdeplot(data=data[data.status == 1],\n",
    "            x='hsc_p', shade=True, ax=ax, color=two_colors[0], alpha=1)\n",
    "sns.kdeplot(data=data[data.status == 0],\n",
    "            x='hsc_p', shade=True, ax=ax, color=two_colors[1], alpha=0.7)\n",
    "plt.xlabel('HSC_P', **hfont)\n",
    "\n",
    "print(f'Placed mean:       {data[data.status == 1][\"hsc_p\"].mean()}')\n",
    "print(f'Not Placed mean:   {data[data.status == 0][\"hsc_p\"].mean()}')"
   ]
  },
  {
   "cell_type": "markdown",
   "id": "ced4f5b2",
   "metadata": {
    "id": "BEtbraIkF5H9",
    "papermill": {
     "duration": 0.047246,
     "end_time": "2022-10-26T08:41:37.224823",
     "exception": false,
     "start_time": "2022-10-26T08:41:37.177577",
     "status": "completed"
    },
    "tags": []
   },
   "source": [
    "### Let's find out how different this groups via **bootstrap** test\n",
    "\n",
    "\n",
    "---\n",
    "\n",
    "\n",
    "#### We have data with a very similar distribution to normal, but in our case we do not have very much data, so t-test may give not quite correct result"
   ]
  },
  {
   "cell_type": "code",
   "execution_count": null,
   "id": "54a11d7a",
   "metadata": {
    "_kg_hide-input": true,
    "execution": {
     "iopub.execute_input": "2022-10-26T08:41:37.319255Z",
     "iopub.status.busy": "2022-10-26T08:41:37.318426Z",
     "iopub.status.idle": "2022-10-26T08:41:37.561528Z",
     "shell.execute_reply": "2022-10-26T08:41:37.560249Z"
    },
    "id": "VaWG-ohxF5H-",
    "papermill": {
     "duration": 0.293826,
     "end_time": "2022-10-26T08:41:37.564501",
     "exception": false,
     "start_time": "2022-10-26T08:41:37.270675",
     "status": "completed"
    },
    "tags": []
   },
   "outputs": [],
   "source": [
    "from tqdm.auto import tqdm\n",
    "\n",
    "def get_bootstrap(\n",
    "    data_column_1, # numeric values for group 1\n",
    "    data_column_2, # numeric values for group 2\n",
    "    boot_it = 1000, # bootstrap samples\n",
    "    statistic = np.mean, # the statistic\n",
    "    bootstrap_conf_level = 0.95 # significance threshold \n",
    "):\n",
    "    boot_len = max([len(data_column_1), len(data_column_2)])\n",
    "    boot_data = []\n",
    "    for i in tqdm(range(boot_it)): # get samples\n",
    "        samples_1 = data_column_1.sample(\n",
    "            boot_len, \n",
    "            replace = True\n",
    "        ).values\n",
    "        \n",
    "        samples_2 = data_column_2.sample(\n",
    "            boot_len,\n",
    "            replace = True\n",
    "        ).values\n",
    "        \n",
    "        boot_data.append(statistic(samples_1-samples_2)) \n",
    "    pd_boot_data = pd.DataFrame(boot_data)\n",
    "        \n",
    "    left_quant = (1 - bootstrap_conf_level)/2\n",
    "    right_quant = 1 - (1 - bootstrap_conf_level) / 2\n",
    "    quants = pd_boot_data.quantile([left_quant, right_quant])\n",
    "        \n",
    "    p_1 = norm.cdf(\n",
    "        x = 0, \n",
    "        loc = np.mean(boot_data), \n",
    "        scale = np.std(boot_data)\n",
    "    )\n",
    "    p_2 = norm.cdf(\n",
    "        x = 0, \n",
    "        loc = -np.mean(boot_data), \n",
    "        scale = np.std(boot_data)\n",
    "    )\n",
    "    p_value = min(p_1, p_2) * 2\n",
    "        \n",
    "    # Visualization\n",
    "    _, _, bars = plt.hist(pd_boot_data[0], bins = 50)\n",
    "    for bar in bars:\n",
    "        if abs(bar.get_x()) <= quants.iloc[0][0] or abs(bar.get_x()) >= quants.iloc[1][0]:\n",
    "            bar.set_facecolor('red')\n",
    "        else: \n",
    "            bar.set_facecolor('grey')\n",
    "            bar.set_edgecolor('black')\n",
    "    \n",
    "    plt.vlines(quants,ymin=0,ymax=50,linestyle='--')\n",
    "    plt.xlabel('boot_data')\n",
    "    plt.ylabel('frequency')\n",
    "    plt.title(\"Histogram of boot_data\")\n",
    "    plt.show()\n",
    "       \n",
    "    return {\"boot_data\": boot_data, \n",
    "            \"quants\": quants, \n",
    "            \"p_value\": p_value}"
   ]
  },
  {
   "cell_type": "code",
   "execution_count": null,
   "id": "fafb4b2c",
   "metadata": {
    "execution": {
     "iopub.execute_input": "2022-10-26T08:41:37.661965Z",
     "iopub.status.busy": "2022-10-26T08:41:37.661031Z",
     "iopub.status.idle": "2022-10-26T08:41:38.305343Z",
     "shell.execute_reply": "2022-10-26T08:41:38.303838Z"
    },
    "id": "8xXUBfBIF5H-",
    "outputId": "eac66eb2-0f7d-454e-9af1-9712bd69940e",
    "papermill": {
     "duration": 0.695448,
     "end_time": "2022-10-26T08:41:38.308226",
     "exception": false,
     "start_time": "2022-10-26T08:41:37.612778",
     "status": "completed"
    },
    "tags": []
   },
   "outputs": [],
   "source": [
    "hsc_p_test = get_bootstrap(data[data.status == 1][\"hsc_p\"], data[data.status == 0][\"hsc_p\"])"
   ]
  },
  {
   "cell_type": "code",
   "execution_count": null,
   "id": "d7c2c2ff",
   "metadata": {
    "execution": {
     "iopub.execute_input": "2022-10-26T08:41:38.405180Z",
     "iopub.status.busy": "2022-10-26T08:41:38.404384Z",
     "iopub.status.idle": "2022-10-26T08:41:38.410476Z",
     "shell.execute_reply": "2022-10-26T08:41:38.409070Z"
    },
    "id": "gjjx5PifF5H_",
    "outputId": "f7c68694-5392-4814-b43f-2a1916422ab8",
    "papermill": {
     "duration": 0.058439,
     "end_time": "2022-10-26T08:41:38.413428",
     "exception": false,
     "start_time": "2022-10-26T08:41:38.354989",
     "status": "completed"
    },
    "tags": []
   },
   "outputs": [],
   "source": [
    "print(f'P value for this test: {hsc_p_test[\"p_value\"]}')"
   ]
  },
  {
   "cell_type": "markdown",
   "id": "dd839603",
   "metadata": {
    "id": "q_oKKaoCF5H_",
    "papermill": {
     "duration": 0.04663,
     "end_time": "2022-10-26T08:41:38.508340",
     "exception": false,
     "start_time": "2022-10-26T08:41:38.461710",
     "status": "completed"
    },
    "tags": []
   },
   "source": [
    "### **Conclusion:** \n",
    "- Visually looks like there is no difference b/w the groups (both datasets from the same distribution) \n",
    "- But when we ran bootstrap-test we found statistically significant differences between groups"
   ]
  },
  {
   "cell_type": "markdown",
   "id": "6615f166",
   "metadata": {
    "id": "AfvedH3AF5H_",
    "papermill": {
     "duration": 0.046934,
     "end_time": "2022-10-26T08:41:38.603434",
     "exception": false,
     "start_time": "2022-10-26T08:41:38.556500",
     "status": "completed"
    },
    "tags": []
   },
   "source": [
    "## HSC_B:\n",
    "\n",
    "\n",
    "---\n",
    "\n",
    "\n",
    "Board of Education: Central / Others (12th)"
   ]
  },
  {
   "cell_type": "code",
   "execution_count": null,
   "id": "190a38ee",
   "metadata": {
    "execution": {
     "iopub.execute_input": "2022-10-26T08:41:38.699285Z",
     "iopub.status.busy": "2022-10-26T08:41:38.698820Z",
     "iopub.status.idle": "2022-10-26T08:41:38.706021Z",
     "shell.execute_reply": "2022-10-26T08:41:38.704695Z"
    },
    "id": "8k7rEvrxF5IA",
    "papermill": {
     "duration": 0.058386,
     "end_time": "2022-10-26T08:41:38.708554",
     "exception": false,
     "start_time": "2022-10-26T08:41:38.650168",
     "status": "completed"
    },
    "tags": []
   },
   "outputs": [],
   "source": [
    "data.hsc_b = data.hsc_b.map({'Central': 1, 'Others': 0})"
   ]
  },
  {
   "cell_type": "code",
   "execution_count": null,
   "id": "53cf0025",
   "metadata": {
    "execution": {
     "iopub.execute_input": "2022-10-26T08:41:38.805446Z",
     "iopub.status.busy": "2022-10-26T08:41:38.804784Z",
     "iopub.status.idle": "2022-10-26T08:41:39.004734Z",
     "shell.execute_reply": "2022-10-26T08:41:39.003224Z"
    },
    "id": "9gys3ZTTF5IA",
    "outputId": "3e7e9b1d-d933-492a-f7ce-d7e3f8659d55",
    "papermill": {
     "duration": 0.250979,
     "end_time": "2022-10-26T08:41:39.007457",
     "exception": false,
     "start_time": "2022-10-26T08:41:38.756478",
     "status": "completed"
    },
    "tags": []
   },
   "outputs": [],
   "source": [
    "plt.figure(figsize=(12, 8))\n",
    "ssc_b_plot = sns.countplot(x=data.hsc_b,\n",
    "                            palette=two_colors[::-1])\n",
    "ssc_b_plot.set_title('Count of hsc_b: Board of Education (12th)',\n",
    "                      fontsize=30, y=1.05, **hfont)\n",
    "ssc_b_plot.set(xlabel=None, ylabel=None)\n",
    "plt.grid(False)\n",
    "ssc_b_plot.set_xticklabels(['Others', 'Central'], size=25, **hfont)"
   ]
  },
  {
   "cell_type": "markdown",
   "id": "8302289e",
   "metadata": {
    "id": "0JtihN0zF5IA",
    "papermill": {
     "duration": 0.052725,
     "end_time": "2022-10-26T08:41:39.108710",
     "exception": false,
     "start_time": "2022-10-26T08:41:39.055985",
     "status": "completed"
    },
    "tags": []
   },
   "source": [
    "### **Conclusion:** There are not many students who have completed the 12th grade in central schools"
   ]
  },
  {
   "cell_type": "code",
   "execution_count": null,
   "id": "de35a5de",
   "metadata": {
    "execution": {
     "iopub.execute_input": "2022-10-26T08:41:39.207474Z",
     "iopub.status.busy": "2022-10-26T08:41:39.206689Z",
     "iopub.status.idle": "2022-10-26T08:41:39.658056Z",
     "shell.execute_reply": "2022-10-26T08:41:39.657189Z"
    },
    "id": "S8VysgUnF5IA",
    "outputId": "0b472772-b604-4961-9a2c-2d33c8f59022",
    "papermill": {
     "duration": 0.50363,
     "end_time": "2022-10-26T08:41:39.660790",
     "exception": false,
     "start_time": "2022-10-26T08:41:39.157160",
     "status": "completed"
    },
    "tags": []
   },
   "outputs": [],
   "source": [
    "hsc_b_plot = sns.catplot(x='status', y='hsc_b', data=data,\n",
    "                             height=10, aspect=2, kind='bar',\n",
    "                             palette=two_colors[::-1])\n",
    "hsc_b_plot.set_xticklabels(['Others', 'Central'], size=30, **hfont)\n",
    "hsc_b_plot.fig.suptitle('hsc_b Influence on Status',\n",
    "                            size=45, y=1.05, **hfont)\n",
    "hsc_b_plot.set(xlabel=None, ylabel=None)"
   ]
  },
  {
   "cell_type": "markdown",
   "id": "9fccc698",
   "metadata": {
    "id": "Gb1a0HJ2F5IB",
    "papermill": {
     "duration": 0.048631,
     "end_time": "2022-10-26T08:41:39.758371",
     "exception": false,
     "start_time": "2022-10-26T08:41:39.709740",
     "status": "completed"
    },
    "tags": []
   },
   "source": [
    "## HSC_S:\n",
    "\n",
    "\n",
    "---\n",
    "\n",
    "\n",
    "Specialization in Higher Secondary Education"
   ]
  },
  {
   "cell_type": "code",
   "execution_count": null,
   "id": "fd061312",
   "metadata": {
    "execution": {
     "iopub.execute_input": "2022-10-26T08:41:39.857931Z",
     "iopub.status.busy": "2022-10-26T08:41:39.857492Z",
     "iopub.status.idle": "2022-10-26T08:41:39.866324Z",
     "shell.execute_reply": "2022-10-26T08:41:39.864918Z"
    },
    "id": "fYpXiVEcF5IB",
    "papermill": {
     "duration": 0.062075,
     "end_time": "2022-10-26T08:41:39.869118",
     "exception": false,
     "start_time": "2022-10-26T08:41:39.807043",
     "status": "completed"
    },
    "tags": []
   },
   "outputs": [],
   "source": [
    "data.hsc_s = data.hsc_s.map({'Commerce': 2, 'Science': 1, 'Arts': 0}) "
   ]
  },
  {
   "cell_type": "code",
   "execution_count": null,
   "id": "e80d9776",
   "metadata": {
    "execution": {
     "iopub.execute_input": "2022-10-26T08:41:39.969988Z",
     "iopub.status.busy": "2022-10-26T08:41:39.969170Z",
     "iopub.status.idle": "2022-10-26T08:41:40.386113Z",
     "shell.execute_reply": "2022-10-26T08:41:40.385079Z"
    },
    "id": "yqRscikzF5IB",
    "outputId": "b0b54c57-be76-4b5d-dbbb-29744aa09d6a",
    "papermill": {
     "duration": 0.471126,
     "end_time": "2022-10-26T08:41:40.388599",
     "exception": false,
     "start_time": "2022-10-26T08:41:39.917473",
     "status": "completed"
    },
    "tags": []
   },
   "outputs": [],
   "source": [
    "fig = plt.figure(figsize=(17, 15))\n",
    "grid = GridSpec(ncols=1, nrows=2, figure=fig)\n",
    "\n",
    "ax1 = fig.add_subplot(grid[0, :])\n",
    "hsc_s_plot = sns.countplot(x=data.hsc_s, ax=ax1, palette=five_colors)\n",
    "hsc_s_plot.set_title('Specialization count plot &'\n",
    "                         ' influence on status',\n",
    "                         fontsize=35, y=1.05, **hfont)\n",
    "hsc_s_plot.set(xlabel=None,\n",
    "                   ylabel=None)\n",
    "hsc_s_plot.set_xticklabels(['Arts', 'Science', 'Commerce'],\n",
    "                                size=18, **hfont)\n",
    "\n",
    "\n",
    "ax2 = fig.add_subplot(grid[1, :])\n",
    "hsc_s_cat = sns.pointplot(x=data.hsc_s, y='status', data=data,\n",
    "             ax=ax2, palette=five_colors)\n",
    "hsc_s_cat.set(xlabel=None,\n",
    "                   ylabel=None)\n",
    "hsc_s_cat.set_xticklabels([])"
   ]
  },
  {
   "cell_type": "markdown",
   "id": "e0f11613",
   "metadata": {
    "id": "UeBllzZZF5IB",
    "papermill": {
     "duration": 0.049003,
     "end_time": "2022-10-26T08:41:40.488312",
     "exception": false,
     "start_time": "2022-10-26T08:41:40.439309",
     "status": "completed"
    },
    "tags": []
   },
   "source": [
    "### **Conclusion:** \n",
    "#### People with a specialization in higher secondary education - art, have a lower chance of finding a work"
   ]
  },
  {
   "cell_type": "markdown",
   "id": "4b690db1",
   "metadata": {
    "id": "btQePn2aF5IB",
    "papermill": {
     "duration": 0.049252,
     "end_time": "2022-10-26T08:41:40.587589",
     "exception": false,
     "start_time": "2022-10-26T08:41:40.538337",
     "status": "completed"
    },
    "tags": []
   },
   "source": [
    "## degree_p\n",
    "\n",
    "\n",
    "---\n",
    "\n",
    "\n",
    "Degree Percentage"
   ]
  },
  {
   "cell_type": "code",
   "execution_count": null,
   "id": "0350510e",
   "metadata": {
    "execution": {
     "iopub.execute_input": "2022-10-26T08:41:40.689165Z",
     "iopub.status.busy": "2022-10-26T08:41:40.687999Z",
     "iopub.status.idle": "2022-10-26T08:41:40.994045Z",
     "shell.execute_reply": "2022-10-26T08:41:40.992593Z"
    },
    "id": "SszsoMNJF5IC",
    "outputId": "c496bc8a-723a-4865-b6f9-889c3d730e6a",
    "papermill": {
     "duration": 0.359876,
     "end_time": "2022-10-26T08:41:40.996969",
     "exception": false,
     "start_time": "2022-10-26T08:41:40.637093",
     "status": "completed"
    },
    "tags": []
   },
   "outputs": [],
   "source": [
    "fig = plt.figure(figsize=(18, 6))\n",
    "ax = fig.add_subplot(111)\n",
    "plt.title(f'Status distribution by degree %', size=28, **hfont)\n",
    "ax.grid(False)\n",
    "ax.axes.get_yaxis().set_visible(False)\n",
    "\n",
    "height = 0.04\n",
    "\n",
    "ax.text(90, height, 'Placed', {'fontproperties': 'Serif',\n",
    "                              'size': '24',\n",
    "                              'weight': 'bold',\n",
    "                              'color': two_colors[0]}, alpha=0.9)\n",
    "\n",
    "ax.text(89, height, '|', {'fontproperties': 'Serif',\n",
    "                         'size': '24',\n",
    "                         'weight': 'bold',\n",
    "                         'color': 'black'}, alpha=0.9)\n",
    "\n",
    "ax.text(80.5, height, 'Not Placed', {'fontproperties': 'Serif',\n",
    "                               'size': '24',\n",
    "                               'weight': 'bold',\n",
    "                               'color': two_colors[1]}, alpha=0.9)\n",
    "\n",
    "\n",
    "sns.kdeplot(data.degree_p[data.status == 1], shade=True, ax=ax, color=two_colors[0],\n",
    "            alpha=1)\n",
    "sns.kdeplot(data.degree_p[data.status == 0], shade=True, ax=ax, color=two_colors[1],\n",
    "            alpha=0.7)\n",
    "\n",
    "plt.xlabel('Degree %', size=20, **hfont)\n",
    "\n",
    "print(f'Placed mean:       {data[data.status == 1][\"degree_p\"].mean()}')\n",
    "print(f'Not Placed mean:   {data[data.status == 0][\"degree_p\"].mean()}')"
   ]
  },
  {
   "cell_type": "code",
   "execution_count": null,
   "id": "2e794b47",
   "metadata": {
    "execution": {
     "iopub.execute_input": "2022-10-26T08:41:41.100738Z",
     "iopub.status.busy": "2022-10-26T08:41:41.100290Z",
     "iopub.status.idle": "2022-10-26T08:41:41.110382Z",
     "shell.execute_reply": "2022-10-26T08:41:41.109195Z"
    },
    "id": "OUoaHxs-F5IC",
    "papermill": {
     "duration": 0.065867,
     "end_time": "2022-10-26T08:41:41.113098",
     "exception": false,
     "start_time": "2022-10-26T08:41:41.047231",
     "status": "completed"
    },
    "tags": []
   },
   "outputs": [],
   "source": [
    "placed_group = data[data.status == 1]['degree_p']\n",
    "not_placed_group = data[data.status == 0]['degree_p']\n",
    "\n",
    "t_test = stats.ttest_ind(placed_group, not_placed_group)\n",
    "u_test = stats.mannwhitneyu(placed_group, not_placed_group)"
   ]
  },
  {
   "cell_type": "code",
   "execution_count": null,
   "id": "f0d1ff28",
   "metadata": {
    "execution": {
     "iopub.execute_input": "2022-10-26T08:41:41.217110Z",
     "iopub.status.busy": "2022-10-26T08:41:41.216712Z",
     "iopub.status.idle": "2022-10-26T08:41:41.222066Z",
     "shell.execute_reply": "2022-10-26T08:41:41.221183Z"
    },
    "id": "72LbH730F5IC",
    "outputId": "391046b2-84a9-4c66-aa36-95727ad613b6",
    "papermill": {
     "duration": 0.061495,
     "end_time": "2022-10-26T08:41:41.225040",
     "exception": false,
     "start_time": "2022-10-26T08:41:41.163545",
     "status": "completed"
    },
    "tags": []
   },
   "outputs": [],
   "source": [
    "print(f'Results of T-test                :   {t_test.pvalue}')\n",
    "print(f'Results of U-test (Mann-whitneyu):   {u_test.pvalue}')"
   ]
  },
  {
   "cell_type": "markdown",
   "id": "1af26232",
   "metadata": {
    "id": "PYjjORWHF5ID",
    "papermill": {
     "duration": 0.04988,
     "end_time": "2022-10-26T08:41:41.325462",
     "exception": false,
     "start_time": "2022-10-26T08:41:41.275582",
     "status": "completed"
    },
    "tags": []
   },
   "source": [
    "### **Conculsion:**\n",
    "\n",
    "There is a statistical difference between groups divided by degree percentage"
   ]
  },
  {
   "cell_type": "markdown",
   "id": "7cef4a41",
   "metadata": {
    "id": "Dpddaga1F5ID",
    "papermill": {
     "duration": 0.051207,
     "end_time": "2022-10-26T08:41:41.427698",
     "exception": false,
     "start_time": "2022-10-26T08:41:41.376491",
     "status": "completed"
    },
    "tags": []
   },
   "source": [
    "## degree_t\n",
    "\n",
    "\n",
    "---\n",
    "\n",
    "\n",
    "Under Graduation(Degree type)- Field of degree education"
   ]
  },
  {
   "cell_type": "code",
   "execution_count": null,
   "id": "9e34961a",
   "metadata": {
    "execution": {
     "iopub.execute_input": "2022-10-26T08:41:41.533281Z",
     "iopub.status.busy": "2022-10-26T08:41:41.532830Z",
     "iopub.status.idle": "2022-10-26T08:41:41.736171Z",
     "shell.execute_reply": "2022-10-26T08:41:41.734754Z"
    },
    "id": "cX1PurXJF5ID",
    "outputId": "4fe239ce-1c43-426e-d29a-e596367eef4e",
    "papermill": {
     "duration": 0.25924,
     "end_time": "2022-10-26T08:41:41.739029",
     "exception": false,
     "start_time": "2022-10-26T08:41:41.479789",
     "status": "completed"
    },
    "tags": []
   },
   "outputs": [],
   "source": [
    "plt.figure(figsize=(12, 6))\n",
    "degree_t_plot = sns.countplot(x=data.degree_t, palette=two_colors[::-1])\n",
    "degree_t_plot.set_title('Countplot of degree_t',\n",
    "                      fontsize=30, y=1.05, **hfont)\n",
    "degree_t_plot.set(xlabel=None, ylabel=None)\n",
    "plt.grid(False)\n",
    "degree_t_plot.set_xticklabels(data.degree_t.unique(), size=25, **hfont)"
   ]
  },
  {
   "cell_type": "code",
   "execution_count": null,
   "id": "8fcf5805",
   "metadata": {
    "execution": {
     "iopub.execute_input": "2022-10-26T08:41:41.845969Z",
     "iopub.status.busy": "2022-10-26T08:41:41.845480Z",
     "iopub.status.idle": "2022-10-26T08:41:42.130857Z",
     "shell.execute_reply": "2022-10-26T08:41:42.129336Z"
    },
    "id": "Uj_lUidEF5IE",
    "outputId": "4bbe1b36-fa53-41b5-d59e-4a8d8a3829c2",
    "papermill": {
     "duration": 0.342973,
     "end_time": "2022-10-26T08:41:42.134359",
     "exception": false,
     "start_time": "2022-10-26T08:41:41.791386",
     "status": "completed"
    },
    "tags": []
   },
   "outputs": [],
   "source": [
    "fig = plt.figure(figsize=(12, 6))\n",
    "\n",
    "degree_type_plot = sns.pointplot(x=data.degree_t, y='status', data=data, palette=five_colors)\n",
    "\n",
    "degree_type_plot.set_title('Degree Type influence on status', fontsize=30, y=1.05, **hfont)\n",
    "degree_type_plot.set(xlabel=None,\n",
    "                     ylabel=None)\n",
    "degree_type_plot.set_xticklabels(data.degree_t.unique(), size=25, **hfont)"
   ]
  },
  {
   "cell_type": "code",
   "execution_count": null,
   "id": "801b0d68",
   "metadata": {
    "execution": {
     "iopub.execute_input": "2022-10-26T08:41:42.241802Z",
     "iopub.status.busy": "2022-10-26T08:41:42.241042Z",
     "iopub.status.idle": "2022-10-26T08:41:42.248335Z",
     "shell.execute_reply": "2022-10-26T08:41:42.247011Z"
    },
    "id": "ol5Bi9zlF5IE",
    "outputId": "a52733c5-ed61-494b-f66d-bb581feb93e7",
    "papermill": {
     "duration": 0.064759,
     "end_time": "2022-10-26T08:41:42.251360",
     "exception": false,
     "start_time": "2022-10-26T08:41:42.186601",
     "status": "completed"
    },
    "tags": []
   },
   "outputs": [],
   "source": [
    "data.degree_t.unique()"
   ]
  },
  {
   "cell_type": "markdown",
   "id": "b0f66c66",
   "metadata": {
    "id": "-ofBtbsvF5IE",
    "papermill": {
     "duration": 0.053322,
     "end_time": "2022-10-26T08:41:42.358089",
     "exception": false,
     "start_time": "2022-10-26T08:41:42.304767",
     "status": "completed"
    },
    "tags": []
   },
   "source": [
    "#### Encoding by degree of influence on status"
   ]
  },
  {
   "cell_type": "code",
   "execution_count": null,
   "id": "4214715d",
   "metadata": {
    "execution": {
     "iopub.execute_input": "2022-10-26T08:41:42.467223Z",
     "iopub.status.busy": "2022-10-26T08:41:42.466765Z",
     "iopub.status.idle": "2022-10-26T08:41:42.473708Z",
     "shell.execute_reply": "2022-10-26T08:41:42.472454Z"
    },
    "id": "JsbP8ns6F5IF",
    "papermill": {
     "duration": 0.064118,
     "end_time": "2022-10-26T08:41:42.476288",
     "exception": false,
     "start_time": "2022-10-26T08:41:42.412170",
     "status": "completed"
    },
    "tags": []
   },
   "outputs": [],
   "source": [
    "data.degree_t = data.degree_t.map({'Sci&Tech': 1, 'Comm&Mgmt': 2, 'Others': 3}) "
   ]
  },
  {
   "cell_type": "markdown",
   "id": "d63c1d0e",
   "metadata": {
    "id": "fOe0J_OLF5IF",
    "papermill": {
     "duration": 0.053217,
     "end_time": "2022-10-26T08:41:42.582214",
     "exception": false,
     "start_time": "2022-10-26T08:41:42.528997",
     "status": "completed"
    },
    "tags": []
   },
   "source": [
    "## Workex\n",
    "\n",
    "\n",
    "---\n",
    "\n",
    "\n",
    "Work experience "
   ]
  },
  {
   "cell_type": "code",
   "execution_count": null,
   "id": "d777d675",
   "metadata": {
    "execution": {
     "iopub.execute_input": "2022-10-26T08:41:42.689949Z",
     "iopub.status.busy": "2022-10-26T08:41:42.689134Z",
     "iopub.status.idle": "2022-10-26T08:41:42.894799Z",
     "shell.execute_reply": "2022-10-26T08:41:42.893071Z"
    },
    "id": "gjXfah9WF5IF",
    "outputId": "e75343b0-e82f-4bf2-a2f4-fc9584287413",
    "papermill": {
     "duration": 0.265214,
     "end_time": "2022-10-26T08:41:42.899804",
     "exception": false,
     "start_time": "2022-10-26T08:41:42.634590",
     "status": "completed"
    },
    "tags": []
   },
   "outputs": [],
   "source": [
    "workex_data = data.workex.value_counts()\n",
    "\n",
    "explode = (0.1, 0.1)\n",
    "plt.figure(figsize=(14, 10))\n",
    "patches, texts, pcts = plt.pie(workex_data,\n",
    "                               labels=workex_data.index,\n",
    "                               colors=pie_colors,\n",
    "                               pctdistance=0.65,\n",
    "                               shadow=True,\n",
    "                               startangle=90,\n",
    "                               autopct='%1.1f%%',\n",
    "                               textprops={ 'fontsize': 25,\n",
    "                                           'color': 'black',\n",
    "                                           'weight': 'bold',\n",
    "                                           'family': 'serif' })\n",
    "plt.setp(pcts, color='white')\n",
    "\n",
    "hfont = {'fontname':'serif', 'weight': 'bold'}\n",
    "plt.title('Work Experience', size=45, **hfont)\n",
    "\n",
    "centre_circle = plt.Circle((0,0),0.40,fc='white')\n",
    "fig = plt.gcf()\n",
    "fig.gca().add_artist(centre_circle)"
   ]
  },
  {
   "cell_type": "code",
   "execution_count": null,
   "id": "79262f99",
   "metadata": {
    "execution": {
     "iopub.execute_input": "2022-10-26T08:41:43.086899Z",
     "iopub.status.busy": "2022-10-26T08:41:43.085474Z",
     "iopub.status.idle": "2022-10-26T08:41:43.551357Z",
     "shell.execute_reply": "2022-10-26T08:41:43.550068Z"
    },
    "id": "XHbJLfDzF5IF",
    "outputId": "1dfc17f7-107d-4bd7-8539-73478693e216",
    "papermill": {
     "duration": 0.523489,
     "end_time": "2022-10-26T08:41:43.554231",
     "exception": false,
     "start_time": "2022-10-26T08:41:43.030742",
     "status": "completed"
    },
    "tags": []
   },
   "outputs": [],
   "source": [
    "workex_plot = sns.catplot(x='status', y='hsc_b', data=data,\n",
    "                             height=10, aspect=2, kind='bar',\n",
    "                             palette=two_colors[::-1])\n",
    "workex_plot.set_xticklabels(['Others', 'Central'], size=30, **hfont)\n",
    "workex_plot.fig.suptitle('hsc_b Influence on Status', size=45, y=1.05, **hfont)\n",
    "workex_plot.set(xlabel=None, ylabel=None)"
   ]
  },
  {
   "cell_type": "code",
   "execution_count": null,
   "id": "daf13baf",
   "metadata": {
    "execution": {
     "iopub.execute_input": "2022-10-26T08:41:43.665111Z",
     "iopub.status.busy": "2022-10-26T08:41:43.664673Z",
     "iopub.status.idle": "2022-10-26T08:41:43.672170Z",
     "shell.execute_reply": "2022-10-26T08:41:43.670813Z"
    },
    "id": "ATx80H5SJVPl",
    "papermill": {
     "duration": 0.065838,
     "end_time": "2022-10-26T08:41:43.675084",
     "exception": false,
     "start_time": "2022-10-26T08:41:43.609246",
     "status": "completed"
    },
    "tags": []
   },
   "outputs": [],
   "source": [
    "data.workex = data.workex.map({'No': 0, 'Yes': 1})"
   ]
  },
  {
   "cell_type": "markdown",
   "id": "3efe1b81",
   "metadata": {
    "id": "JhNGzqcIF5IG",
    "papermill": {
     "duration": 0.071953,
     "end_time": "2022-10-26T08:41:43.810190",
     "exception": false,
     "start_time": "2022-10-26T08:41:43.738237",
     "status": "completed"
    },
    "tags": []
   },
   "source": [
    "## etest_p\n",
    "\n",
    "\n",
    "---\n",
    "\n",
    "\n",
    "Employability test percentage (conducted by college)"
   ]
  },
  {
   "cell_type": "code",
   "execution_count": null,
   "id": "e39b2d7e",
   "metadata": {
    "execution": {
     "iopub.execute_input": "2022-10-26T08:41:43.959491Z",
     "iopub.status.busy": "2022-10-26T08:41:43.957936Z",
     "iopub.status.idle": "2022-10-26T08:41:44.282779Z",
     "shell.execute_reply": "2022-10-26T08:41:44.281883Z"
    },
    "id": "cjft1K0TF5IG",
    "outputId": "d8a56f89-44d6-45a2-88c2-2cde7d57c9e6",
    "papermill": {
     "duration": 0.407108,
     "end_time": "2022-10-26T08:41:44.285634",
     "exception": false,
     "start_time": "2022-10-26T08:41:43.878526",
     "status": "completed"
    },
    "tags": []
   },
   "outputs": [],
   "source": [
    "fig = plt.figure(figsize=(18, 6))\n",
    "ax = fig.add_subplot(111)\n",
    "plt.title(f'Status distribution by emp-test', size=28, **hfont)\n",
    "ax.grid(False)\n",
    "ax.axes.get_yaxis().set_visible(False)\n",
    "\n",
    "height = 0.025\n",
    "\n",
    "ax.text(96, height, 'Placed', {'fontproperties': 'Serif',\n",
    "                               'size': '24',\n",
    "                               'weight': 'bold',\n",
    "                               'color': two_colors[0]}, alpha=0.9)\n",
    "\n",
    "ax.text(94, height, '|', {'fontproperties': 'Serif',\n",
    "                          'size': '24',\n",
    "                          'weight': 'bold',\n",
    "                          'color': 'black'}, alpha=0.9)\n",
    "\n",
    "ax.text(81.5, height, 'Not Placed', {'fontproperties': 'Serif',\n",
    "                                     'size': '24',\n",
    "                                     'weight': 'bold',\n",
    "                                     'color': two_colors[1]}, alpha=0.9)\n",
    "\n",
    "\n",
    "sns.kdeplot(data.etest_p[data.status == 1], shade=True, ax=ax, color=two_colors[0],\n",
    "            alpha=1)\n",
    "sns.kdeplot(data.etest_p[data.status == 0], shade=True, ax=ax, color=two_colors[1],\n",
    "            alpha=0.7)\n",
    "\n",
    "plt.xlabel('test results', size=20, **hfont)"
   ]
  },
  {
   "cell_type": "code",
   "execution_count": null,
   "id": "6350a417",
   "metadata": {
    "execution": {
     "iopub.execute_input": "2022-10-26T08:41:44.415300Z",
     "iopub.status.busy": "2022-10-26T08:41:44.414318Z",
     "iopub.status.idle": "2022-10-26T08:41:44.425766Z",
     "shell.execute_reply": "2022-10-26T08:41:44.423758Z"
    },
    "id": "wFmEGmmfO_cZ",
    "outputId": "771fe702-5730-485f-8bcb-5d8374fa3077",
    "papermill": {
     "duration": 0.080035,
     "end_time": "2022-10-26T08:41:44.429057",
     "exception": false,
     "start_time": "2022-10-26T08:41:44.349022",
     "status": "completed"
    },
    "tags": []
   },
   "outputs": [],
   "source": [
    "data.status.value_counts()"
   ]
  },
  {
   "cell_type": "code",
   "execution_count": null,
   "id": "31ba7910",
   "metadata": {
    "execution": {
     "iopub.execute_input": "2022-10-26T08:41:44.544083Z",
     "iopub.status.busy": "2022-10-26T08:41:44.543064Z",
     "iopub.status.idle": "2022-10-26T08:41:44.561090Z",
     "shell.execute_reply": "2022-10-26T08:41:44.558488Z"
    },
    "id": "ulmRc1lXJirR",
    "outputId": "50c02804-1278-4de5-85ff-cebd8f451a65",
    "papermill": {
     "duration": 0.079088,
     "end_time": "2022-10-26T08:41:44.564712",
     "exception": false,
     "start_time": "2022-10-26T08:41:44.485624",
     "status": "completed"
    },
    "tags": []
   },
   "outputs": [],
   "source": [
    "placed_group = data[data.status == 1]['etest_p']\n",
    "not_placed_group = data[data.status == 0]['etest_p']\n",
    "\n",
    "placed_group_for_wil = np.random.choice(placed_group, len(not_placed_group))\n",
    "\n",
    "t_test = stats.ttest_ind(placed_group, not_placed_group)\n",
    "u_test = stats.mannwhitneyu(placed_group, not_placed_group)\n",
    "\n",
    "# If variance is different for b/w the groups\n",
    "wilcoxon = stats.wilcoxon(placed_group_for_wil, not_placed_group)\n",
    "\n",
    "print(f'P-value (alpha = 0.05)')\n",
    "print('-'*7)\n",
    "print(f'T-test  : {t_test.pvalue:.5f}')\n",
    "print(f'U-test  : {u_test.pvalue:.5f}')\n",
    "print(f'Wilcoxon: {wilcoxon.pvalue:.5f}')"
   ]
  },
  {
   "cell_type": "markdown",
   "id": "515766e6",
   "metadata": {
    "id": "yplAmTkTK9XZ",
    "papermill": {
     "duration": 0.055654,
     "end_time": "2022-10-26T08:41:44.677321",
     "exception": false,
     "start_time": "2022-10-26T08:41:44.621667",
     "status": "completed"
    },
    "tags": []
   },
   "source": [
    "### **Conculsion:**\n",
    "\n",
    "This is a very interesting situation, as we have not received any significant differences, but p.value is close to the threshold, try further test our model with or without this variable"
   ]
  },
  {
   "cell_type": "markdown",
   "id": "a59d06cf",
   "metadata": {
    "id": "8Qxe-TelF5IG",
    "papermill": {
     "duration": 0.058474,
     "end_time": "2022-10-26T08:41:44.791779",
     "exception": false,
     "start_time": "2022-10-26T08:41:44.733305",
     "status": "completed"
    },
    "tags": []
   },
   "source": [
    "## specialisation\n",
    "\n",
    "---\n",
    "\n",
    "Post Graduation(MBA) - Specialization"
   ]
  },
  {
   "cell_type": "code",
   "execution_count": null,
   "id": "57df7da8",
   "metadata": {
    "execution": {
     "iopub.execute_input": "2022-10-26T08:41:44.907694Z",
     "iopub.status.busy": "2022-10-26T08:41:44.906875Z",
     "iopub.status.idle": "2022-10-26T08:41:45.098273Z",
     "shell.execute_reply": "2022-10-26T08:41:45.096970Z"
    },
    "id": "dYEdcktKF5IG",
    "outputId": "c0c00f2f-bb55-4d33-f778-fb14e6f3516a",
    "papermill": {
     "duration": 0.252391,
     "end_time": "2022-10-26T08:41:45.101009",
     "exception": false,
     "start_time": "2022-10-26T08:41:44.848618",
     "status": "completed"
    },
    "tags": []
   },
   "outputs": [],
   "source": [
    "plt.figure(figsize=(12, 6))\n",
    "specialisation_plot = sns.countplot(x=data.specialisation, palette=two_colors[::-1])\n",
    "specialisation_plot.set_title('Countplot of specialisation',\n",
    "                      fontsize=30, y=1.05, **hfont)\n",
    "specialisation_plot.set(xlabel=None, ylabel=None)\n",
    "plt.grid(False)\n",
    "specialisation_plot.set_xticklabels(data.specialisation.unique(), size=25, **hfont)"
   ]
  },
  {
   "cell_type": "code",
   "execution_count": null,
   "id": "16093806",
   "metadata": {
    "execution": {
     "iopub.execute_input": "2022-10-26T08:41:45.225391Z",
     "iopub.status.busy": "2022-10-26T08:41:45.224630Z",
     "iopub.status.idle": "2022-10-26T08:41:45.715644Z",
     "shell.execute_reply": "2022-10-26T08:41:45.714162Z"
    },
    "id": "Pg3skKLzF5IH",
    "outputId": "564e226b-1364-4ad0-c4e0-27dac48c6ec1",
    "papermill": {
     "duration": 0.551351,
     "end_time": "2022-10-26T08:41:45.718551",
     "exception": false,
     "start_time": "2022-10-26T08:41:45.167200",
     "status": "completed"
    },
    "tags": []
   },
   "outputs": [],
   "source": [
    "spec_catplot = sns.catplot(x='status', y='specialisation', data=data,\n",
    "                             height=10, aspect=2, kind='bar',\n",
    "                             palette=two_colors[::-1])\n",
    "spec_catplot.set_yticklabels(['Mrt&HR', 'Mrt&Fin'], size=30, **hfont)\n",
    "spec_catplot.fig.suptitle('Specialisation Influence on Status', size=45, y=1.05, **hfont)\n",
    "spec_catplot.set(xlabel=None, ylabel=None)"
   ]
  },
  {
   "cell_type": "code",
   "execution_count": null,
   "id": "fa8ecc21",
   "metadata": {
    "execution": {
     "iopub.execute_input": "2022-10-26T08:41:45.839970Z",
     "iopub.status.busy": "2022-10-26T08:41:45.839229Z",
     "iopub.status.idle": "2022-10-26T08:41:45.845880Z",
     "shell.execute_reply": "2022-10-26T08:41:45.844870Z"
    },
    "id": "eZmxVAMgF5IH",
    "papermill": {
     "duration": 0.069661,
     "end_time": "2022-10-26T08:41:45.848437",
     "exception": false,
     "start_time": "2022-10-26T08:41:45.778776",
     "status": "completed"
    },
    "tags": []
   },
   "outputs": [],
   "source": [
    "data.specialisation = data.specialisation.map({'Mkt&Fin': 1, 'Mkt&HR': 0})"
   ]
  },
  {
   "cell_type": "markdown",
   "id": "99318419",
   "metadata": {
    "id": "cz5t0dmQjJWS",
    "papermill": {
     "duration": 0.056732,
     "end_time": "2022-10-26T08:41:45.962184",
     "exception": false,
     "start_time": "2022-10-26T08:41:45.905452",
     "status": "completed"
    },
    "tags": []
   },
   "source": [
    "## mba_p\n",
    "\n",
    "---\n",
    "\n",
    "MBA percentage. A master of business administration (MBA) is a graduate degree that provides theoretical and practical training for business or investment management."
   ]
  },
  {
   "cell_type": "code",
   "execution_count": null,
   "id": "41def89f",
   "metadata": {
    "execution": {
     "iopub.execute_input": "2022-10-26T08:41:46.084488Z",
     "iopub.status.busy": "2022-10-26T08:41:46.083562Z",
     "iopub.status.idle": "2022-10-26T08:41:46.402397Z",
     "shell.execute_reply": "2022-10-26T08:41:46.400909Z"
    },
    "id": "pAIcnGGAF5II",
    "outputId": "83736b46-c85f-414f-beca-cf21811f2609",
    "papermill": {
     "duration": 0.379864,
     "end_time": "2022-10-26T08:41:46.405175",
     "exception": false,
     "start_time": "2022-10-26T08:41:46.025311",
     "status": "completed"
    },
    "tags": []
   },
   "outputs": [],
   "source": [
    "fig = plt.figure(figsize=(18, 6))\n",
    "ax = fig.add_subplot(111)\n",
    "plt.title(f'Status distribution by MBA percentage', size=28, **hfont)\n",
    "ax.grid(False)\n",
    "ax.axes.get_yaxis().set_visible(False)\n",
    "\n",
    "height = 0.045\n",
    "\n",
    "ax.text(71, height, 'Placed', {'fontproperties': 'Serif',\n",
    "                               'size': '24',\n",
    "                               'weight': 'bold',\n",
    "                               'color': two_colors[0]}, alpha=0.9)\n",
    "\n",
    "ax.text(48, height, 'Not Placed', {'fontproperties': 'Serif',\n",
    "                                     'size': '24',\n",
    "                                     'weight': 'bold',\n",
    "                                     'color': two_colors[1]}, alpha=0.9)\n",
    "\n",
    "\n",
    "sns.kdeplot(data.mba_p[data.status == 1], shade=True, ax=ax, color=two_colors[0],\n",
    "            alpha=1)\n",
    "sns.kdeplot(data.mba_p[data.status == 0], shade=True, ax=ax, color=two_colors[1],\n",
    "            alpha=0.7)\n",
    "\n",
    "plt.xlabel('MBA %', size=20, **hfont)"
   ]
  },
  {
   "cell_type": "code",
   "execution_count": null,
   "id": "89acb4c5",
   "metadata": {
    "execution": {
     "iopub.execute_input": "2022-10-26T08:41:46.526133Z",
     "iopub.status.busy": "2022-10-26T08:41:46.525671Z",
     "iopub.status.idle": "2022-10-26T08:41:46.539774Z",
     "shell.execute_reply": "2022-10-26T08:41:46.538046Z"
    },
    "id": "ReLUX2jgkbdY",
    "outputId": "8170476f-cf10-4790-ad8f-0cde81794f78",
    "papermill": {
     "duration": 0.076397,
     "end_time": "2022-10-26T08:41:46.542484",
     "exception": false,
     "start_time": "2022-10-26T08:41:46.466087",
     "status": "completed"
    },
    "tags": []
   },
   "outputs": [],
   "source": [
    "placed_group = data[data.status == 1]['mba_p']\n",
    "not_placed_group = data[data.status == 0]['mba_p']\n",
    "\n",
    "placed_group_for_wil = np.random.choice(placed_group, len(not_placed_group))\n",
    "\n",
    "t_test = stats.ttest_ind(placed_group, not_placed_group)\n",
    "u_test = stats.mannwhitneyu(placed_group, not_placed_group)\n",
    "\n",
    "print(f'P-value (alpha = 0.05)')\n",
    "print('-'*7)\n",
    "print(f'T-test  : {t_test.pvalue:.5f}')\n",
    "print(f'U-test  : {u_test.pvalue:.5f}')"
   ]
  },
  {
   "cell_type": "markdown",
   "id": "8eb9dfaa",
   "metadata": {
    "id": "YOEOGh52lPzn",
    "papermill": {
     "duration": 0.058313,
     "end_time": "2022-10-26T08:41:46.660284",
     "exception": false,
     "start_time": "2022-10-26T08:41:46.601971",
     "status": "completed"
    },
    "tags": []
   },
   "source": [
    "### **Conculsion:**\n",
    "\n",
    "We have not received any significant differences. Let's try further test our model without this feature (but we should be more careful, because this feature can be very helpful in finding patterns if it has a non-linear relationship to the target - for example, in combination with another feature)"
   ]
  },
  {
   "cell_type": "markdown",
   "id": "6509bb54",
   "metadata": {
    "id": "KWgR_boNldO1",
    "papermill": {
     "duration": 0.057862,
     "end_time": "2022-10-26T08:41:46.775986",
     "exception": false,
     "start_time": "2022-10-26T08:41:46.718124",
     "status": "completed"
    },
    "tags": []
   },
   "source": [
    "## Heatmap"
   ]
  },
  {
   "cell_type": "code",
   "execution_count": null,
   "id": "aba5aa05",
   "metadata": {
    "execution": {
     "iopub.execute_input": "2022-10-26T08:41:46.898469Z",
     "iopub.status.busy": "2022-10-26T08:41:46.897989Z",
     "iopub.status.idle": "2022-10-26T08:41:47.339966Z",
     "shell.execute_reply": "2022-10-26T08:41:47.338721Z"
    },
    "id": "rnYWRlEYlC-c",
    "outputId": "3710f856-d524-43e4-cdf5-70fb24c6d79b",
    "papermill": {
     "duration": 0.50686,
     "end_time": "2022-10-26T08:41:47.343425",
     "exception": false,
     "start_time": "2022-10-26T08:41:46.836565",
     "status": "completed"
    },
    "tags": []
   },
   "outputs": [],
   "source": [
    "plt.figure(figsize=(14, 10))\n",
    "\n",
    "corr_mask = np.triu(data.corr())\n",
    "h_map = sns.heatmap(data.corr(), mask=corr_mask, cmap='Blues')\n",
    "h_map"
   ]
  },
  {
   "cell_type": "markdown",
   "id": "1bbce66b",
   "metadata": {
    "id": "Qiql21bCmEn5",
    "papermill": {
     "duration": 0.057783,
     "end_time": "2022-10-26T08:41:47.460620",
     "exception": false,
     "start_time": "2022-10-26T08:41:47.402837",
     "status": "completed"
    },
    "tags": []
   },
   "source": [
    "# Data for Model\n",
    "<img height=\"100\" src=\"https://github.com/GeorgeGalaxy/PhotosFor.../blob/main/icons/prepare.png?raw=true\" width=\"100\"/>"
   ]
  },
  {
   "cell_type": "code",
   "execution_count": null,
   "id": "236cf50b",
   "metadata": {
    "execution": {
     "iopub.execute_input": "2022-10-26T08:41:47.583535Z",
     "iopub.status.busy": "2022-10-26T08:41:47.582728Z",
     "iopub.status.idle": "2022-10-26T08:41:47.600431Z",
     "shell.execute_reply": "2022-10-26T08:41:47.599109Z"
    },
    "id": "bO8HE3p4I938",
    "outputId": "a46d2404-a2f4-42ae-ecf5-9ee5389da78d",
    "papermill": {
     "duration": 0.082736,
     "end_time": "2022-10-26T08:41:47.603532",
     "exception": false,
     "start_time": "2022-10-26T08:41:47.520796",
     "status": "completed"
    },
    "tags": []
   },
   "outputs": [],
   "source": [
    "data.head()"
   ]
  },
  {
   "cell_type": "markdown",
   "id": "bc13c2cf",
   "metadata": {
    "id": "naweQZHRmKtp",
    "papermill": {
     "duration": 0.06047,
     "end_time": "2022-10-26T08:41:47.723949",
     "exception": false,
     "start_time": "2022-10-26T08:41:47.663479",
     "status": "completed"
    },
    "tags": []
   },
   "source": [
    "## Divide by X and y"
   ]
  },
  {
   "cell_type": "code",
   "execution_count": null,
   "id": "e80cb927",
   "metadata": {
    "execution": {
     "iopub.execute_input": "2022-10-26T08:41:47.845733Z",
     "iopub.status.busy": "2022-10-26T08:41:47.845264Z",
     "iopub.status.idle": "2022-10-26T08:41:47.852645Z",
     "shell.execute_reply": "2022-10-26T08:41:47.851513Z"
    },
    "id": "r1Boy8J9lmwc",
    "outputId": "2e18dc32-26a1-4fb1-fc54-e6bcf84e57c9",
    "papermill": {
     "duration": 0.072109,
     "end_time": "2022-10-26T08:41:47.855929",
     "exception": false,
     "start_time": "2022-10-26T08:41:47.783820",
     "status": "completed"
    },
    "tags": []
   },
   "outputs": [],
   "source": [
    "X = data.drop(['status'], axis=1)\n",
    "y = data.status\n",
    "\n",
    "print(X.shape, y.shape)"
   ]
  },
  {
   "cell_type": "markdown",
   "id": "2cb83610",
   "metadata": {
    "id": "mQNp0ZnG_6BB",
    "papermill": {
     "duration": 0.058817,
     "end_time": "2022-10-26T08:41:47.977582",
     "exception": false,
     "start_time": "2022-10-26T08:41:47.918765",
     "status": "completed"
    },
    "tags": []
   },
   "source": [
    "#### Try to drop feature etest_p (because p.value is close to the threshold)"
   ]
  },
  {
   "cell_type": "code",
   "execution_count": null,
   "id": "cb2c3319",
   "metadata": {
    "execution": {
     "iopub.execute_input": "2022-10-26T08:41:48.099446Z",
     "iopub.status.busy": "2022-10-26T08:41:48.098760Z",
     "iopub.status.idle": "2022-10-26T08:41:48.104684Z",
     "shell.execute_reply": "2022-10-26T08:41:48.103415Z"
    },
    "id": "HuiDX5j-_5oq",
    "papermill": {
     "duration": 0.06991,
     "end_time": "2022-10-26T08:41:48.107449",
     "exception": false,
     "start_time": "2022-10-26T08:41:48.037539",
     "status": "completed"
    },
    "tags": []
   },
   "outputs": [],
   "source": [
    "X = X.drop(columns=['etest_p'])"
   ]
  },
  {
   "cell_type": "markdown",
   "id": "5ba16d0b",
   "metadata": {
    "id": "zv9WOSkxm4ul",
    "papermill": {
     "duration": 0.05937,
     "end_time": "2022-10-26T08:41:48.226555",
     "exception": false,
     "start_time": "2022-10-26T08:41:48.167185",
     "status": "completed"
    },
    "tags": []
   },
   "source": [
    "#### Dividing by train and test datasets will be performed in methods further"
   ]
  },
  {
   "cell_type": "markdown",
   "id": "3d49408f",
   "metadata": {
    "id": "HIUdYf40nW46",
    "papermill": {
     "duration": 0.06117,
     "end_time": "2022-10-26T08:41:48.347776",
     "exception": false,
     "start_time": "2022-10-26T08:41:48.286606",
     "status": "completed"
    },
    "tags": []
   },
   "source": [
    "# Model\n"
   ]
  },
  {
   "cell_type": "markdown",
   "id": "e424cc5e",
   "metadata": {
    "id": "SiebtIwqnZ4o",
    "papermill": {
     "duration": 0.060096,
     "end_time": "2022-10-26T08:41:48.468884",
     "exception": false,
     "start_time": "2022-10-26T08:41:48.408788",
     "status": "completed"
    },
    "tags": []
   },
   "source": [
    "## Such models will be uncovered:\n",
    "\n",
    "\n",
    "1. Classic ML (Machine learning) models\n",
    "    1. Logistic Regression\n",
    "    2. Random Forest Classifier\n",
    "    3. Boosting Classifiers (XGBoost, AdaBoost)\n",
    "2. Artificial Neural network"
   ]
  },
  {
   "cell_type": "markdown",
   "id": "8e12b2fe",
   "metadata": {
    "id": "Q69PumkUpI2K",
    "papermill": {
     "duration": 0.058664,
     "end_time": "2022-10-26T08:41:48.587071",
     "exception": false,
     "start_time": "2022-10-26T08:41:48.528407",
     "status": "completed"
    },
    "tags": []
   },
   "source": [
    "# Machine Learning models\n",
    "\n"
   ]
  },
  {
   "cell_type": "code",
   "execution_count": null,
   "id": "f1e7d7ed",
   "metadata": {
    "execution": {
     "iopub.execute_input": "2022-10-26T08:41:48.708335Z",
     "iopub.status.busy": "2022-10-26T08:41:48.707584Z",
     "iopub.status.idle": "2022-10-26T08:41:48.726959Z",
     "shell.execute_reply": "2022-10-26T08:41:48.725452Z"
    },
    "id": "UtvIBgWBmUis",
    "papermill": {
     "duration": 0.083627,
     "end_time": "2022-10-26T08:41:48.729954",
     "exception": false,
     "start_time": "2022-10-26T08:41:48.646327",
     "status": "completed"
    },
    "tags": []
   },
   "outputs": [],
   "source": [
    "from sklearn.metrics import precision_score, f1_score, recall_score, roc_auc_score\n",
    "\n",
    "models_results = [0]*5\n",
    "\n",
    "def show_training_results(X, y, model_name, model, split_share=0.3, **kwargs):\n",
    "\n",
    "    print(f'The model {model_name} with parameters : {kwargs}')\n",
    "    m = model(**kwargs)\n",
    "\n",
    "    X_train, X_test, y_train, y_test = \\\n",
    "        train_test_split(X, y, test_size=split_share, random_state=rnd_state)\n",
    "\n",
    "    m.fit(X_train, y_train)\n",
    "\n",
    "    score = m.score(X_test, y_test)\n",
    "\n",
    "    prediction = m.predict(X_test)\n",
    "    pred_proba = m.predict_proba(X_test)\n",
    "\n",
    "    precision = precision_score(y_test, prediction)\n",
    "    recall = recall_score(y_test, prediction)\n",
    "    F1 = f1_score(y_test, prediction)\n",
    "    roc = roc_auc_score(y_test, pred_proba[:,1])\n",
    "\n",
    "    all_metrics = np.array([score, precision, recall, F1, roc])\n",
    "\n",
    "    print('-'*32)\n",
    "    print(f'Score          ========>>> {score:.{3}f}')\n",
    "    print()\n",
    "    print(f'Precision      ========>>> {precision:.{3}f}')\n",
    "    print()\n",
    "    print(f'Recall         ========>>> {recall:.{3}f}')\n",
    "    print()\n",
    "    print(f'F1             ========>>> {F1:.{3}f}')\n",
    "    print()\n",
    "    print(f'ROC-AUC        ========>>> {roc:.{3}f}')\n",
    "\n",
    "    plot_conf_mat(m, X_test, y_test)\n",
    "\n",
    "    return all_metrics\n",
    "\n",
    "\n",
    "def plot_conf_mat(model, X_test, y_test):\n",
    "\n",
    "    y_pred = model.predict(X_test)\n",
    "\n",
    "    pred_matrix = confusion_matrix(y_test, y_pred, normalize='true') * 100\n",
    "    actual_matrix = confusion_matrix(y_test, y_pred, normalize='pred') * 100\n",
    "\n",
    "    df_cm_true = pd.DataFrame(actual_matrix, index = [\"Don't\", 'Placed'],\n",
    "                                columns = [\"Don't\", 'Placed'])\n",
    "    \n",
    "    df_cm_pred = pd.DataFrame(pred_matrix, index = [\"Don't\", 'Placed'],\n",
    "                                columns = [\"Don't\", 'Placed'])\n",
    "\n",
    "    fig, axis = plt.subplots(figsize=(16, 6), ncols=2)\n",
    "    \n",
    "    # Actual Values plot\n",
    "\n",
    "    sns.heatmap(df_cm_true,\n",
    "                annot=True,\n",
    "                cmap='Blues',\n",
    "                fmt='.5g',\n",
    "                ax=axis[0],\n",
    "                annot_kws={\"size\": 20}).set_title('By Actual Values', fontsize = 20, **hfont)\n",
    "    axis[0].set_xlabel('Actual values', fontsize = 15, **hfont)\n",
    "    axis[0].set_ylabel('Predicted values', fontsize = 15, **hfont)\n",
    "\n",
    "    # Prediction's Values plot\n",
    "\n",
    "    pred_plot = sns.heatmap(df_cm_pred,\n",
    "                annot=True,\n",
    "                cmap='Blues',\n",
    "                fmt='.5g',\n",
    "                ax=axis[1],\n",
    "                annot_kws={\"size\": 20}).set_title('By Predicted Values', fontsize = 20, **hfont)\n",
    "    axis[1].set_xlabel('Actual values', fontsize = 15, **hfont)\n",
    "    axis[1].set_ylabel('Predicted values', fontsize = 15, **hfont)\n",
    "\n",
    "    fig.subplots_adjust(top=0.8)\n",
    "    fig.suptitle('Normilized Confusion Matrix in %', size=30, **hfont)\n",
    "\n",
    "    plt.show()"
   ]
  },
  {
   "cell_type": "markdown",
   "id": "9f4cbf31",
   "metadata": {
    "id": "Asue7LIhpN1e",
    "papermill": {
     "duration": 0.06202,
     "end_time": "2022-10-26T08:41:48.854356",
     "exception": false,
     "start_time": "2022-10-26T08:41:48.792336",
     "status": "completed"
    },
    "tags": []
   },
   "source": [
    "# Logistic Regression\n"
   ]
  },
  {
   "cell_type": "code",
   "execution_count": null,
   "id": "71bd0ce7",
   "metadata": {
    "execution": {
     "iopub.execute_input": "2022-10-26T08:41:48.977278Z",
     "iopub.status.busy": "2022-10-26T08:41:48.976842Z",
     "iopub.status.idle": "2022-10-26T08:41:49.621918Z",
     "shell.execute_reply": "2022-10-26T08:41:49.621005Z"
    },
    "id": "Hinp-m8lH_cl",
    "outputId": "7fea6185-61db-41e2-e515-2ed8b94e47fc",
    "papermill": {
     "duration": 0.708348,
     "end_time": "2022-10-26T08:41:49.624372",
     "exception": false,
     "start_time": "2022-10-26T08:41:48.916024",
     "status": "completed"
    },
    "tags": []
   },
   "outputs": [],
   "source": [
    "rnd_state = 0\n",
    "\n",
    "models_results[0] =   show_training_results(X, y,\n",
    "                      'LogReg',\n",
    "                      LogisticRegression,\n",
    "                      max_iter=5000,\n",
    "                      random_state=rnd_state)"
   ]
  },
  {
   "cell_type": "markdown",
   "id": "377656a6",
   "metadata": {
    "id": "jAU1D9MfpQau",
    "papermill": {
     "duration": 0.065802,
     "end_time": "2022-10-26T08:41:49.751793",
     "exception": false,
     "start_time": "2022-10-26T08:41:49.685991",
     "status": "completed"
    },
    "tags": []
   },
   "source": [
    "# Random Forest\n"
   ]
  },
  {
   "cell_type": "code",
   "execution_count": null,
   "id": "d693b19e",
   "metadata": {
    "execution": {
     "iopub.execute_input": "2022-10-26T08:41:49.882009Z",
     "iopub.status.busy": "2022-10-26T08:41:49.881312Z",
     "iopub.status.idle": "2022-10-26T08:41:50.635013Z",
     "shell.execute_reply": "2022-10-26T08:41:50.633651Z"
    },
    "id": "UaS1BKjbIPJ7",
    "outputId": "df39eedf-c5e6-4117-e517-294dd0e99b1f",
    "papermill": {
     "duration": 0.819025,
     "end_time": "2022-10-26T08:41:50.637676",
     "exception": false,
     "start_time": "2022-10-26T08:41:49.818651",
     "status": "completed"
    },
    "tags": []
   },
   "outputs": [],
   "source": [
    "models_results[1] =   show_training_results(X, y,\n",
    "                      'RF',\n",
    "                      RandomForestClassifier)"
   ]
  },
  {
   "cell_type": "markdown",
   "id": "f1f3ceb1",
   "metadata": {
    "id": "vG4q8aP4pRrD",
    "papermill": {
     "duration": 0.062848,
     "end_time": "2022-10-26T08:41:50.763124",
     "exception": false,
     "start_time": "2022-10-26T08:41:50.700276",
     "status": "completed"
    },
    "tags": []
   },
   "source": [
    "# AdaBoost\n"
   ]
  },
  {
   "cell_type": "code",
   "execution_count": null,
   "id": "a65ac874",
   "metadata": {
    "execution": {
     "iopub.execute_input": "2022-10-26T08:41:50.891673Z",
     "iopub.status.busy": "2022-10-26T08:41:50.890903Z",
     "iopub.status.idle": "2022-10-26T08:41:51.564621Z",
     "shell.execute_reply": "2022-10-26T08:41:51.563548Z"
    },
    "id": "QwFeQrLJKoal",
    "outputId": "e054fe3d-10cf-4ae6-db7c-16d7bbd805c3",
    "papermill": {
     "duration": 0.739729,
     "end_time": "2022-10-26T08:41:51.567063",
     "exception": false,
     "start_time": "2022-10-26T08:41:50.827334",
     "status": "completed"
    },
    "tags": []
   },
   "outputs": [],
   "source": [
    "models_results[2] =   show_training_results(X, y,\n",
    "                      'AdaBoostClassifier',\n",
    "                      AdaBoostClassifier)"
   ]
  },
  {
   "cell_type": "markdown",
   "id": "c1165a12",
   "metadata": {
    "id": "1cGaoVfRq8b9",
    "papermill": {
     "duration": 0.063207,
     "end_time": "2022-10-26T08:41:51.695382",
     "exception": false,
     "start_time": "2022-10-26T08:41:51.632175",
     "status": "completed"
    },
    "tags": []
   },
   "source": [
    "# GradientBoostingClassifier"
   ]
  },
  {
   "cell_type": "code",
   "execution_count": null,
   "id": "a80a579b",
   "metadata": {
    "execution": {
     "iopub.execute_input": "2022-10-26T08:41:51.824881Z",
     "iopub.status.busy": "2022-10-26T08:41:51.823946Z",
     "iopub.status.idle": "2022-10-26T08:41:52.474400Z",
     "shell.execute_reply": "2022-10-26T08:41:52.473103Z"
    },
    "id": "mCXEOmBBKsiA",
    "outputId": "eed0e26c-df14-4c55-c1bd-c8e0d3c57d3c",
    "papermill": {
     "duration": 0.718036,
     "end_time": "2022-10-26T08:41:52.477310",
     "exception": false,
     "start_time": "2022-10-26T08:41:51.759274",
     "status": "completed"
    },
    "tags": []
   },
   "outputs": [],
   "source": [
    "models_results[3] =   show_training_results(X, y,\n",
    "                      'GradientBoostingClassifier',\n",
    "                      GradientBoostingClassifier)"
   ]
  },
  {
   "cell_type": "markdown",
   "id": "9adb4962",
   "metadata": {
    "id": "oaZ8KSV0tro2",
    "papermill": {
     "duration": 0.062988,
     "end_time": "2022-10-26T08:41:52.606775",
     "exception": false,
     "start_time": "2022-10-26T08:41:52.543787",
     "status": "completed"
    },
    "tags": []
   },
   "source": [
    "# ANN (Artificial Neural Network)\n"
   ]
  },
  {
   "cell_type": "code",
   "execution_count": null,
   "id": "8678e64c",
   "metadata": {
    "execution": {
     "iopub.execute_input": "2022-10-26T08:41:52.738894Z",
     "iopub.status.busy": "2022-10-26T08:41:52.738362Z",
     "iopub.status.idle": "2022-10-26T08:41:52.743994Z",
     "shell.execute_reply": "2022-10-26T08:41:52.743029Z"
    },
    "id": "ijlONpHvrEi6",
    "papermill": {
     "duration": 0.075583,
     "end_time": "2022-10-26T08:41:52.746427",
     "exception": false,
     "start_time": "2022-10-26T08:41:52.670844",
     "status": "completed"
    },
    "tags": []
   },
   "outputs": [],
   "source": [
    "os.environ[\"KMP_SETTINGS\"] = \"false\" # to avoid a huge warning about sort of settings"
   ]
  },
  {
   "cell_type": "code",
   "execution_count": null,
   "id": "a586b5d1",
   "metadata": {
    "execution": {
     "iopub.execute_input": "2022-10-26T08:41:52.877568Z",
     "iopub.status.busy": "2022-10-26T08:41:52.876727Z",
     "iopub.status.idle": "2022-10-26T08:41:52.885941Z",
     "shell.execute_reply": "2022-10-26T08:41:52.884927Z"
    },
    "id": "U14KUSBgwQjb",
    "papermill": {
     "duration": 0.077833,
     "end_time": "2022-10-26T08:41:52.888822",
     "exception": false,
     "start_time": "2022-10-26T08:41:52.810989",
     "status": "completed"
    },
    "tags": []
   },
   "outputs": [],
   "source": [
    "from keras import backend as K\n",
    "\n",
    "def recall_m(y_true, y_pred):\n",
    "    true_positives = K.sum(K.round(K.clip(y_true * y_pred, 0, 1)))\n",
    "    possible_positives = K.sum(K.round(K.clip(y_true, 0, 1)))\n",
    "    recall = true_positives / (possible_positives + K.epsilon())\n",
    "    return recall\n",
    "\n",
    "def precision_m(y_true, y_pred):\n",
    "    true_positives = K.sum(K.round(K.clip(y_true * y_pred, 0, 1)))\n",
    "    predicted_positives = K.sum(K.round(K.clip(y_pred, 0, 1)))\n",
    "    precision = true_positives / (predicted_positives + K.epsilon())\n",
    "    return precision\n",
    "\n",
    "def f1_m(y_true, y_pred):\n",
    "    precision = precision_m(y_true, y_pred)\n",
    "    recall = recall_m(y_true, y_pred)\n",
    "    return 2*((precision*recall)/(precision+recall+K.epsilon()))"
   ]
  },
  {
   "cell_type": "code",
   "execution_count": 89,
   "id": "22257c32",
   "metadata": {
    "execution": {
     "iopub.execute_input": "2022-10-26T08:41:53.020900Z",
     "iopub.status.busy": "2022-10-26T08:41:53.019851Z",
     "iopub.status.idle": "2022-10-26T08:41:53.033046Z",
     "shell.execute_reply": "2022-10-26T08:41:53.031507Z"
    },
    "id": "286AEU3PttcW",
    "papermill": {
     "duration": 0.08197,
     "end_time": "2022-10-26T08:41:53.035932",
     "exception": false,
     "start_time": "2022-10-26T08:41:52.953962",
     "status": "completed"
    },
    "tags": []
   },
   "outputs": [],
   "source": [
    "def neural_net_results(X, y):\n",
    "\n",
    "    K.set_session(42)\n",
    "\n",
    "    y = keras.utils.to_categorical(y, 2)\n",
    "\n",
    "    X_train, X_val, y_train, y_val = train_test_split(X, y,test_size=0.25,\n",
    "                                                      random_state=rnd_state)\n",
    "\n",
    "    scaler = StandardScaler()\n",
    "    X_train = scaler.fit_transform(X_train)\n",
    "    X_val = scaler.transform(X_val)\n",
    "\n",
    "    model = keras.Sequential([\n",
    "        keras.layers.Flatten(input_dim=X_train.shape[1]),\n",
    "        keras.layers.Dropout(0.5),\n",
    "        keras.layers.Dense(36, activation='relu'),\n",
    "        keras.layers.Dense(36, activation='relu'),\n",
    "        keras.layers.Dense(2, activation='softmax')\n",
    "    ])\n",
    "\n",
    "    model.compile(optimizer='adam',\n",
    "                  loss='categorical_crossentropy',\n",
    "                  metrics=[f1_m, precision_m, recall_m])\n",
    "\n",
    "    history = model.fit(X_train, y_train,\n",
    "              batch_size=100, epochs=150,\n",
    "              validation_data=(X_val, y_val),\n",
    "              verbose=0)\n",
    "\n",
    "    score = loss, f1_score, precision, recall = model.evaluate(X_val, y_val, verbose=0)\n",
    "    print(f'Neural Network score results    ========>>> {score}')\n",
    "\n",
    "    history_plot(history)\n",
    "\n",
    "    return score\n",
    "\n",
    "\n",
    "def history_plot(history):\n",
    "\n",
    "    fig = plt.figure(figsize=(12, 8))\n",
    "    plt.title('Loss of ANN', size=35, **hfont)\n",
    "    plt.plot(history.history['loss'], label=\"Train loss\")\n",
    "    plt.plot(history.history['val_loss'], label=\"Test loss\")\n",
    "    plt.legend()\n",
    "\n",
    "\n",
    "def plot_nn_model(model):\n",
    "    plot_model(model, show_shapes=True)"
   ]
  },
  {
   "cell_type": "code",
   "execution_count": 90,
   "id": "51f688bf",
   "metadata": {
    "execution": {
     "iopub.execute_input": "2022-10-26T08:41:53.166561Z",
     "iopub.status.busy": "2022-10-26T08:41:53.166092Z",
     "iopub.status.idle": "2022-10-26T08:42:02.340052Z",
     "shell.execute_reply": "2022-10-26T08:42:02.338659Z"
    },
    "id": "TEtoNVbyt2U5",
    "outputId": "ff05c09c-3a3d-4bbc-f746-3c9580ba0f23",
    "papermill": {
     "duration": 9.242046,
     "end_time": "2022-10-26T08:42:02.342557",
     "exception": false,
     "start_time": "2022-10-26T08:41:53.100511",
     "status": "completed"
    },
    "tags": []
   },
   "outputs": [
    {
     "ename": "NameError",
     "evalue": "name 'X' is not defined",
     "output_type": "error",
     "traceback": [
      "\u001b[1;31m---------------------------------------------------------------------------\u001b[0m",
      "\u001b[1;31mNameError\u001b[0m                                 Traceback (most recent call last)",
      "\u001b[1;32m~\\AppData\\Local\\Temp\\ipykernel_10340\\189363654.py\u001b[0m in \u001b[0;36m<module>\u001b[1;34m\u001b[0m\n\u001b[1;32m----> 1\u001b[1;33m \u001b[0mmodels_results\u001b[0m\u001b[1;33m[\u001b[0m\u001b[1;33m-\u001b[0m\u001b[1;36m1\u001b[0m\u001b[1;33m]\u001b[0m \u001b[1;33m=\u001b[0m \u001b[0mneural_net_results\u001b[0m\u001b[1;33m(\u001b[0m\u001b[0mX\u001b[0m\u001b[1;33m,\u001b[0m \u001b[0my\u001b[0m\u001b[1;33m)\u001b[0m\u001b[1;33m\u001b[0m\u001b[1;33m\u001b[0m\u001b[0m\n\u001b[0m",
      "\u001b[1;31mNameError\u001b[0m: name 'X' is not defined"
     ]
    }
   ],
   "source": [
    "models_results[-1] = neural_net_results(X, y)"
   ]
  },
  {
   "cell_type": "markdown",
   "id": "7888e32b",
   "metadata": {
    "id": "CW29TMo5YgLb",
    "papermill": {
     "duration": 0.065209,
     "end_time": "2022-10-26T08:42:02.476108",
     "exception": false,
     "start_time": "2022-10-26T08:42:02.410899",
     "status": "completed"
    },
    "tags": []
   },
   "source": [
    "# Models Evaluating\n"
   ]
  },
  {
   "cell_type": "markdown",
   "id": "067256ce",
   "metadata": {
    "id": "X5U4AklzYzoc",
    "papermill": {
     "duration": 0.066202,
     "end_time": "2022-10-26T08:42:02.608853",
     "exception": false,
     "start_time": "2022-10-26T08:42:02.542651",
     "status": "completed"
    },
    "tags": []
   },
   "source": [
    "### Aggregation of results into one dataset\n",
    "\n",
    "---\n",
    "\n",
    "### Using F1 Score & Recall as Metric"
   ]
  },
  {
   "cell_type": "code",
   "execution_count": null,
   "id": "a3b65cd6",
   "metadata": {
    "execution": {
     "iopub.execute_input": "2022-10-26T08:42:02.744050Z",
     "iopub.status.busy": "2022-10-26T08:42:02.743546Z",
     "iopub.status.idle": "2022-10-26T08:42:02.753338Z",
     "shell.execute_reply": "2022-10-26T08:42:02.752026Z"
    },
    "id": "R6L5KiUVuGlW",
    "papermill": {
     "duration": 0.0807,
     "end_time": "2022-10-26T08:42:02.756102",
     "exception": false,
     "start_time": "2022-10-26T08:42:02.675402",
     "status": "completed"
    },
    "tags": []
   },
   "outputs": [],
   "source": [
    "models_results_recall = pd.DataFrame([el[2] for el in models_results], columns=['Result'])\n",
    "models_results_recall['Model name'] = \\\n",
    "    ['Logistic Regression', 'Random Forest', 'AdaBoost', 'Gradient Boosting', 'ANN']\n",
    "models_results_recall.sort_values(by=['Result'], inplace=True)"
   ]
  },
  {
   "cell_type": "code",
   "execution_count": null,
   "id": "a8d598fc",
   "metadata": {
    "execution": {
     "iopub.execute_input": "2022-10-26T08:42:02.891236Z",
     "iopub.status.busy": "2022-10-26T08:42:02.890742Z",
     "iopub.status.idle": "2022-10-26T08:42:02.899267Z",
     "shell.execute_reply": "2022-10-26T08:42:02.897923Z"
    },
    "id": "K5kS7Hb3czQm",
    "papermill": {
     "duration": 0.078603,
     "end_time": "2022-10-26T08:42:02.901643",
     "exception": false,
     "start_time": "2022-10-26T08:42:02.823040",
     "status": "completed"
    },
    "tags": []
   },
   "outputs": [],
   "source": [
    "models_results_F1 = pd.DataFrame([el[3] for el in models_results], columns=['Result'])\n",
    "models_results_F1['Model name'] = \\\n",
    "    ['Logistic Regression', 'Random Forest', 'AdaBoost', 'Gradient Boosting', 'ANN']\n",
    "models_results_F1.sort_values(by=['Result'], inplace=True)"
   ]
  },
  {
   "cell_type": "code",
   "execution_count": null,
   "id": "94cf7ea0",
   "metadata": {
    "execution": {
     "iopub.execute_input": "2022-10-26T08:42:03.036131Z",
     "iopub.status.busy": "2022-10-26T08:42:03.035700Z",
     "iopub.status.idle": "2022-10-26T08:42:03.044115Z",
     "shell.execute_reply": "2022-10-26T08:42:03.042879Z"
    },
    "id": "yrKy6AbkAzIr",
    "papermill": {
     "duration": 0.079847,
     "end_time": "2022-10-26T08:42:03.046869",
     "exception": false,
     "start_time": "2022-10-26T08:42:02.967022",
     "status": "completed"
    },
    "tags": []
   },
   "outputs": [],
   "source": [
    "models_results_ROC = pd.DataFrame([el[-1] for el in models_results], columns=['Result'])\n",
    "models_results_ROC['Model name'] = \\\n",
    "    ['Logistic Regression', 'Random Forest', 'AdaBoost', 'Gradient Boosting', 'ANN']\n",
    "models_results_ROC.sort_values(by=['Result'], inplace=True)"
   ]
  },
  {
   "cell_type": "markdown",
   "id": "fa036f3e",
   "metadata": {
    "id": "R-lb97jpcJvu",
    "papermill": {
     "duration": 0.065839,
     "end_time": "2022-10-26T08:42:03.180485",
     "exception": false,
     "start_time": "2022-10-26T08:42:03.114646",
     "status": "completed"
    },
    "tags": []
   },
   "source": [
    "### Accuracy plot for each model type"
   ]
  },
  {
   "cell_type": "code",
   "execution_count": null,
   "id": "03535e55",
   "metadata": {
    "execution": {
     "iopub.execute_input": "2022-10-26T08:42:03.317943Z",
     "iopub.status.busy": "2022-10-26T08:42:03.317280Z",
     "iopub.status.idle": "2022-10-26T08:42:04.592911Z",
     "shell.execute_reply": "2022-10-26T08:42:04.591474Z"
    },
    "id": "Hrd4et51b0mJ",
    "outputId": "97361bf6-8ef6-41dd-8a6a-9da598d828da",
    "papermill": {
     "duration": 1.34754,
     "end_time": "2022-10-26T08:42:04.595898",
     "exception": false,
     "start_time": "2022-10-26T08:42:03.248358",
     "status": "completed"
    },
    "tags": []
   },
   "outputs": [],
   "source": [
    "# Recall\n",
    "g = sns.catplot(x='Model name', y='Result', data=models_results_recall,\n",
    "                height=6, aspect=3, kind='bar', legend=True, palette=five_colors)\n",
    "g.fig.suptitle('Recall for each model', size=35, y=1.1, **hfont)\n",
    "ax = g.facet_axis(0,0)\n",
    "ax.tick_params(axis='x', which='major', labelsize=20)\n",
    "for p in ax.patches:\n",
    "    ax.text(p.get_x() + 0.27,\n",
    "            p.get_height() * 1.02,\n",
    "           '{0:.2f}%'.format(p.get_height()*100),\n",
    "            color='black',\n",
    "            rotation='horizontal',\n",
    "            size='x-large', **hfont)\n",
    "    \n",
    "# F1 Score\n",
    "g = sns.catplot(x='Model name', y='Result', data=models_results_F1,\n",
    "                height=6, aspect=3, kind='bar', legend=True, palette=five_colors)\n",
    "g.fig.suptitle('F1 for each model', size=35, y=1.1, **hfont)\n",
    "ax = g.facet_axis(0,0)\n",
    "ax.tick_params(axis='x', which='major', labelsize=20)\n",
    "for p in ax.patches:\n",
    "    ax.text(p.get_x() + 0.27,\n",
    "            p.get_height() * 1.02,\n",
    "           '{0:.2f}%'.format(p.get_height()*100),\n",
    "            color='black',\n",
    "            rotation='horizontal',\n",
    "            size='x-large', **hfont)\n",
    "\n",
    "# ROC-AUC\n",
    "g = sns.catplot(x='Model name', y='Result', data=models_results_ROC,\n",
    "                height=6, aspect=3, kind='bar', legend=True, palette=five_colors)\n",
    "g.fig.suptitle('ROC-AUC for each model', size=35, y=1.1, **hfont)\n",
    "ax = g.facet_axis(0,0)\n",
    "ax.tick_params(axis='x', which='major', labelsize=20)\n",
    "for p in ax.patches:\n",
    "    ax.text(p.get_x() + 0.27,\n",
    "            p.get_height() * 1.02,\n",
    "           '{0:.2f}%'.format(p.get_height()*100),\n",
    "            color='black',\n",
    "            rotation='horizontal',\n",
    "            size='x-large', **hfont)"
   ]
  },
  {
   "cell_type": "markdown",
   "id": "044d4d79",
   "metadata": {
    "id": "nMTddBiwKbkM",
    "papermill": {
     "duration": 0.069169,
     "end_time": "2022-10-26T08:42:04.735130",
     "exception": false,
     "start_time": "2022-10-26T08:42:04.665961",
     "status": "completed"
    },
    "tags": []
   },
   "source": [
    "# <center>Conclusions</center>\n",
    "\n",
    "\n",
    "\n",
    "---\n",
    "\n",
    "## Data analysis:\n",
    "- In this work, we looked at some tools that can be used for EDA (Exploratory data analysis):\n",
    "  - categorical plot\n",
    "  - count plot\n",
    "  - pie plot\n",
    "- We used a special construction of a distribution diagram with text and special visualization\n",
    "- Use of statistical methods to determine the level of significance for each variable (with several types of distributions)\n",
    "\n",
    "## Application of models:\n",
    "- Since, we have too small sample, simple and reliable methods (such as LogReg) show high metrics:\n",
    "    - ROC-AUC: 2nd place with 93.14 %\n",
    "    - F1: 2nd place with 89.36 %\n",
    "- Also, AdaBoost shows the best results in prediction: \n",
    "    - ROC-AUC: 1st place with 93.25 % (almost as LogReg)\n",
    "    - Recall: Highest value with 93.48 %\n",
    "- ANN is the worth performance in each metric. It can be explained by the fact that NN is strongly dependent on sample size\n",
    "\n",
    "## Which model should I use?\n",
    "\n",
    "- If we have two models that give about the same quality on our metrics, the best solution is to choose a simpler model\n",
    "- So I would use the Logistic Regression to build future predictions\n",
    "\n"
   ]
  },
  {
   "cell_type": "markdown",
   "id": "90da24e7",
   "metadata": {
    "id": "L8ooKPj9OvVs",
    "papermill": {
     "duration": 0.070665,
     "end_time": "2022-10-26T08:42:04.877788",
     "exception": false,
     "start_time": "2022-10-26T08:42:04.807123",
     "status": "completed"
    },
    "tags": []
   },
   "source": [
    "# <center> Thank You ! </center>\n",
    "\n",
    "\n",
    "\n",
    "## <center> If you have found something useful for yourself in my work , please evaluate and comment </center>\n",
    "\n",
    "![](https://github.com/GeorgeGalaxy/PhotosFor.../blob/main/LinePurplePink.jpg?raw=true)"
   ]
  }
 ],
 "metadata": {
  "kernelspec": {
   "display_name": "Python 3 (ipykernel)",
   "language": "python",
   "name": "python3"
  },
  "language_info": {
   "codemirror_mode": {
    "name": "ipython",
    "version": 3
   },
   "file_extension": ".py",
   "mimetype": "text/x-python",
   "name": "python",
   "nbconvert_exporter": "python",
   "pygments_lexer": "ipython3",
   "version": "3.9.13"
  },
  "papermill": {
   "default_parameters": {},
   "duration": 65.111622,
   "end_time": "2022-10-26T08:42:08.035486",
   "environment_variables": {},
   "exception": null,
   "input_path": "__notebook__.ipynb",
   "output_path": "__notebook__.ipynb",
   "parameters": {},
   "start_time": "2022-10-26T08:41:02.923864",
   "version": "2.3.4"
  },
  "widgets": {
   "application/vnd.jupyter.widget-state+json": {
    "state": {
     "1b9c29987606450eabe4d0276ac50bb3": {
      "model_module": "@jupyter-widgets/base",
      "model_module_version": "1.2.0",
      "model_name": "LayoutModel",
      "state": {
       "_model_module": "@jupyter-widgets/base",
       "_model_module_version": "1.2.0",
       "_model_name": "LayoutModel",
       "_view_count": null,
       "_view_module": "@jupyter-widgets/base",
       "_view_module_version": "1.2.0",
       "_view_name": "LayoutView",
       "align_content": null,
       "align_items": null,
       "align_self": null,
       "border": null,
       "bottom": null,
       "display": null,
       "flex": null,
       "flex_flow": null,
       "grid_area": null,
       "grid_auto_columns": null,
       "grid_auto_flow": null,
       "grid_auto_rows": null,
       "grid_column": null,
       "grid_gap": null,
       "grid_row": null,
       "grid_template_areas": null,
       "grid_template_columns": null,
       "grid_template_rows": null,
       "height": null,
       "justify_content": null,
       "justify_items": null,
       "left": null,
       "margin": null,
       "max_height": null,
       "max_width": null,
       "min_height": null,
       "min_width": null,
       "object_fit": null,
       "object_position": null,
       "order": null,
       "overflow": null,
       "overflow_x": null,
       "overflow_y": null,
       "padding": null,
       "right": null,
       "top": null,
       "visibility": null,
       "width": null
      }
     },
     "21fe28595dd94fcca36f3253937977d0": {
      "model_module": "@jupyter-widgets/controls",
      "model_module_version": "1.5.0",
      "model_name": "HBoxModel",
      "state": {
       "_dom_classes": [],
       "_model_module": "@jupyter-widgets/controls",
       "_model_module_version": "1.5.0",
       "_model_name": "HBoxModel",
       "_view_count": null,
       "_view_module": "@jupyter-widgets/controls",
       "_view_module_version": "1.5.0",
       "_view_name": "HBoxView",
       "box_style": "",
       "children": [
        "IPY_MODEL_fc5e45ad0d2c4ac08891c9cb8300c0ca",
        "IPY_MODEL_3d5bfe09fb3e478995e2c369a5299929",
        "IPY_MODEL_52c314f14e2740119a2ba50d96ff0e4d"
       ],
       "layout": "IPY_MODEL_b218443a7bc2419fbcf74dbb781a6431"
      }
     },
     "3d5bfe09fb3e478995e2c369a5299929": {
      "model_module": "@jupyter-widgets/controls",
      "model_module_version": "1.5.0",
      "model_name": "FloatProgressModel",
      "state": {
       "_dom_classes": [],
       "_model_module": "@jupyter-widgets/controls",
       "_model_module_version": "1.5.0",
       "_model_name": "FloatProgressModel",
       "_view_count": null,
       "_view_module": "@jupyter-widgets/controls",
       "_view_module_version": "1.5.0",
       "_view_name": "ProgressView",
       "bar_style": "success",
       "description": "",
       "description_tooltip": null,
       "layout": "IPY_MODEL_1b9c29987606450eabe4d0276ac50bb3",
       "max": 1000,
       "min": 0,
       "orientation": "horizontal",
       "style": "IPY_MODEL_58e61f997f094df79dbf22737b453b71",
       "value": 1000
      }
     },
     "52c314f14e2740119a2ba50d96ff0e4d": {
      "model_module": "@jupyter-widgets/controls",
      "model_module_version": "1.5.0",
      "model_name": "HTMLModel",
      "state": {
       "_dom_classes": [],
       "_model_module": "@jupyter-widgets/controls",
       "_model_module_version": "1.5.0",
       "_model_name": "HTMLModel",
       "_view_count": null,
       "_view_module": "@jupyter-widgets/controls",
       "_view_module_version": "1.5.0",
       "_view_name": "HTMLView",
       "description": "",
       "description_tooltip": null,
       "layout": "IPY_MODEL_843261031c754fdd9037b3bcfe895745",
       "placeholder": "​",
       "style": "IPY_MODEL_b1f0d8df3da94955a5f6576c57931095",
       "value": " 1000/1000 [00:00&lt;00:00, 3622.44it/s]"
      }
     },
     "58e61f997f094df79dbf22737b453b71": {
      "model_module": "@jupyter-widgets/controls",
      "model_module_version": "1.5.0",
      "model_name": "ProgressStyleModel",
      "state": {
       "_model_module": "@jupyter-widgets/controls",
       "_model_module_version": "1.5.0",
       "_model_name": "ProgressStyleModel",
       "_view_count": null,
       "_view_module": "@jupyter-widgets/base",
       "_view_module_version": "1.2.0",
       "_view_name": "StyleView",
       "bar_color": null,
       "description_width": ""
      }
     },
     "843261031c754fdd9037b3bcfe895745": {
      "model_module": "@jupyter-widgets/base",
      "model_module_version": "1.2.0",
      "model_name": "LayoutModel",
      "state": {
       "_model_module": "@jupyter-widgets/base",
       "_model_module_version": "1.2.0",
       "_model_name": "LayoutModel",
       "_view_count": null,
       "_view_module": "@jupyter-widgets/base",
       "_view_module_version": "1.2.0",
       "_view_name": "LayoutView",
       "align_content": null,
       "align_items": null,
       "align_self": null,
       "border": null,
       "bottom": null,
       "display": null,
       "flex": null,
       "flex_flow": null,
       "grid_area": null,
       "grid_auto_columns": null,
       "grid_auto_flow": null,
       "grid_auto_rows": null,
       "grid_column": null,
       "grid_gap": null,
       "grid_row": null,
       "grid_template_areas": null,
       "grid_template_columns": null,
       "grid_template_rows": null,
       "height": null,
       "justify_content": null,
       "justify_items": null,
       "left": null,
       "margin": null,
       "max_height": null,
       "max_width": null,
       "min_height": null,
       "min_width": null,
       "object_fit": null,
       "object_position": null,
       "order": null,
       "overflow": null,
       "overflow_x": null,
       "overflow_y": null,
       "padding": null,
       "right": null,
       "top": null,
       "visibility": null,
       "width": null
      }
     },
     "b1f0d8df3da94955a5f6576c57931095": {
      "model_module": "@jupyter-widgets/controls",
      "model_module_version": "1.5.0",
      "model_name": "DescriptionStyleModel",
      "state": {
       "_model_module": "@jupyter-widgets/controls",
       "_model_module_version": "1.5.0",
       "_model_name": "DescriptionStyleModel",
       "_view_count": null,
       "_view_module": "@jupyter-widgets/base",
       "_view_module_version": "1.2.0",
       "_view_name": "StyleView",
       "description_width": ""
      }
     },
     "b218443a7bc2419fbcf74dbb781a6431": {
      "model_module": "@jupyter-widgets/base",
      "model_module_version": "1.2.0",
      "model_name": "LayoutModel",
      "state": {
       "_model_module": "@jupyter-widgets/base",
       "_model_module_version": "1.2.0",
       "_model_name": "LayoutModel",
       "_view_count": null,
       "_view_module": "@jupyter-widgets/base",
       "_view_module_version": "1.2.0",
       "_view_name": "LayoutView",
       "align_content": null,
       "align_items": null,
       "align_self": null,
       "border": null,
       "bottom": null,
       "display": null,
       "flex": null,
       "flex_flow": null,
       "grid_area": null,
       "grid_auto_columns": null,
       "grid_auto_flow": null,
       "grid_auto_rows": null,
       "grid_column": null,
       "grid_gap": null,
       "grid_row": null,
       "grid_template_areas": null,
       "grid_template_columns": null,
       "grid_template_rows": null,
       "height": null,
       "justify_content": null,
       "justify_items": null,
       "left": null,
       "margin": null,
       "max_height": null,
       "max_width": null,
       "min_height": null,
       "min_width": null,
       "object_fit": null,
       "object_position": null,
       "order": null,
       "overflow": null,
       "overflow_x": null,
       "overflow_y": null,
       "padding": null,
       "right": null,
       "top": null,
       "visibility": null,
       "width": null
      }
     },
     "e5bd589e58b9406193e437fb7702fc12": {
      "model_module": "@jupyter-widgets/base",
      "model_module_version": "1.2.0",
      "model_name": "LayoutModel",
      "state": {
       "_model_module": "@jupyter-widgets/base",
       "_model_module_version": "1.2.0",
       "_model_name": "LayoutModel",
       "_view_count": null,
       "_view_module": "@jupyter-widgets/base",
       "_view_module_version": "1.2.0",
       "_view_name": "LayoutView",
       "align_content": null,
       "align_items": null,
       "align_self": null,
       "border": null,
       "bottom": null,
       "display": null,
       "flex": null,
       "flex_flow": null,
       "grid_area": null,
       "grid_auto_columns": null,
       "grid_auto_flow": null,
       "grid_auto_rows": null,
       "grid_column": null,
       "grid_gap": null,
       "grid_row": null,
       "grid_template_areas": null,
       "grid_template_columns": null,
       "grid_template_rows": null,
       "height": null,
       "justify_content": null,
       "justify_items": null,
       "left": null,
       "margin": null,
       "max_height": null,
       "max_width": null,
       "min_height": null,
       "min_width": null,
       "object_fit": null,
       "object_position": null,
       "order": null,
       "overflow": null,
       "overflow_x": null,
       "overflow_y": null,
       "padding": null,
       "right": null,
       "top": null,
       "visibility": null,
       "width": null
      }
     },
     "eb3ba63fcbcc4e82aa0941cb0566b62a": {
      "model_module": "@jupyter-widgets/controls",
      "model_module_version": "1.5.0",
      "model_name": "DescriptionStyleModel",
      "state": {
       "_model_module": "@jupyter-widgets/controls",
       "_model_module_version": "1.5.0",
       "_model_name": "DescriptionStyleModel",
       "_view_count": null,
       "_view_module": "@jupyter-widgets/base",
       "_view_module_version": "1.2.0",
       "_view_name": "StyleView",
       "description_width": ""
      }
     },
     "fc5e45ad0d2c4ac08891c9cb8300c0ca": {
      "model_module": "@jupyter-widgets/controls",
      "model_module_version": "1.5.0",
      "model_name": "HTMLModel",
      "state": {
       "_dom_classes": [],
       "_model_module": "@jupyter-widgets/controls",
       "_model_module_version": "1.5.0",
       "_model_name": "HTMLModel",
       "_view_count": null,
       "_view_module": "@jupyter-widgets/controls",
       "_view_module_version": "1.5.0",
       "_view_name": "HTMLView",
       "description": "",
       "description_tooltip": null,
       "layout": "IPY_MODEL_e5bd589e58b9406193e437fb7702fc12",
       "placeholder": "​",
       "style": "IPY_MODEL_eb3ba63fcbcc4e82aa0941cb0566b62a",
       "value": "100%"
      }
     }
    },
    "version_major": 2,
    "version_minor": 0
   }
  }
 },
 "nbformat": 4,
 "nbformat_minor": 5
}
